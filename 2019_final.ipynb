{
 "cells": [
  {
   "cell_type": "code",
   "execution_count": 20,
   "id": "d87905ef",
   "metadata": {},
   "outputs": [],
   "source": [
    "import pandas as pd"
   ]
  },
  {
   "cell_type": "code",
   "execution_count": 21,
   "id": "f1f57911",
   "metadata": {},
   "outputs": [
    {
     "data": {
      "text/html": [
       "<div>\n",
       "<style scoped>\n",
       "    .dataframe tbody tr th:only-of-type {\n",
       "        vertical-align: middle;\n",
       "    }\n",
       "\n",
       "    .dataframe tbody tr th {\n",
       "        vertical-align: top;\n",
       "    }\n",
       "\n",
       "    .dataframe thead th {\n",
       "        text-align: right;\n",
       "    }\n",
       "</style>\n",
       "<table border=\"1\" class=\"dataframe\">\n",
       "  <thead>\n",
       "    <tr style=\"text-align: right;\">\n",
       "      <th></th>\n",
       "      <th>State/UT</th>\n",
       "      <th>HealthCare Centers</th>\n",
       "      <th>Doctor</th>\n",
       "      <th>HealthCare&amp;Nursing Staff</th>\n",
       "      <th>Secondline HealthCare Centers</th>\n",
       "    </tr>\n",
       "  </thead>\n",
       "  <tbody>\n",
       "    <tr>\n",
       "      <th>0</th>\n",
       "      <td>Andhra Pradesh</td>\n",
       "      <td>8722</td>\n",
       "      <td>1952</td>\n",
       "      <td>14676</td>\n",
       "      <td>1873</td>\n",
       "    </tr>\n",
       "    <tr>\n",
       "      <th>1</th>\n",
       "      <td>Arunachal Pradesh</td>\n",
       "      <td>591</td>\n",
       "      <td>120</td>\n",
       "      <td>1306</td>\n",
       "      <td>231</td>\n",
       "    </tr>\n",
       "    <tr>\n",
       "      <th>2</th>\n",
       "      <td>Assam</td>\n",
       "      <td>5766</td>\n",
       "      <td>2061</td>\n",
       "      <td>14871</td>\n",
       "      <td>3278</td>\n",
       "    </tr>\n",
       "    <tr>\n",
       "      <th>3</th>\n",
       "      <td>Bihar</td>\n",
       "      <td>11998</td>\n",
       "      <td>2167</td>\n",
       "      <td>25858</td>\n",
       "      <td>899</td>\n",
       "    </tr>\n",
       "    <tr>\n",
       "      <th>4</th>\n",
       "      <td>Chhattisgarh</td>\n",
       "      <td>6167</td>\n",
       "      <td>382</td>\n",
       "      <td>9426</td>\n",
       "      <td>2008</td>\n",
       "    </tr>\n",
       "    <tr>\n",
       "      <th>5</th>\n",
       "      <td>Goa</td>\n",
       "      <td>248</td>\n",
       "      <td>61</td>\n",
       "      <td>385</td>\n",
       "      <td>78</td>\n",
       "    </tr>\n",
       "    <tr>\n",
       "      <th>6</th>\n",
       "      <td>Gujarat</td>\n",
       "      <td>11004</td>\n",
       "      <td>2304</td>\n",
       "      <td>13386</td>\n",
       "      <td>3596</td>\n",
       "    </tr>\n",
       "    <tr>\n",
       "      <th>7</th>\n",
       "      <td>Haryana</td>\n",
       "      <td>3098</td>\n",
       "      <td>557</td>\n",
       "      <td>6716</td>\n",
       "      <td>840</td>\n",
       "    </tr>\n",
       "    <tr>\n",
       "      <th>8</th>\n",
       "      <td>Himachal Pradesh</td>\n",
       "      <td>2762</td>\n",
       "      <td>491</td>\n",
       "      <td>2249</td>\n",
       "      <td>395</td>\n",
       "    </tr>\n",
       "    <tr>\n",
       "      <th>9</th>\n",
       "      <td>Jharkhand</td>\n",
       "      <td>4317</td>\n",
       "      <td>402</td>\n",
       "      <td>7515</td>\n",
       "      <td>564</td>\n",
       "    </tr>\n",
       "    <tr>\n",
       "      <th>10</th>\n",
       "      <td>Karnataka</td>\n",
       "      <td>12083</td>\n",
       "      <td>2576</td>\n",
       "      <td>11973</td>\n",
       "      <td>3609</td>\n",
       "    </tr>\n",
       "    <tr>\n",
       "      <th>11</th>\n",
       "      <td>Kerala</td>\n",
       "      <td>6455</td>\n",
       "      <td>1566</td>\n",
       "      <td>9931</td>\n",
       "      <td>1671</td>\n",
       "    </tr>\n",
       "    <tr>\n",
       "      <th>12</th>\n",
       "      <td>Madhya Pradesh</td>\n",
       "      <td>11734</td>\n",
       "      <td>1157</td>\n",
       "      <td>14640</td>\n",
       "      <td>2618</td>\n",
       "    </tr>\n",
       "    <tr>\n",
       "      <th>13</th>\n",
       "      <td>Maharashtra</td>\n",
       "      <td>12860</td>\n",
       "      <td>3436</td>\n",
       "      <td>24451</td>\n",
       "      <td>3368</td>\n",
       "    </tr>\n",
       "    <tr>\n",
       "      <th>14</th>\n",
       "      <td>Manipur</td>\n",
       "      <td>603</td>\n",
       "      <td>211</td>\n",
       "      <td>1474</td>\n",
       "      <td>292</td>\n",
       "    </tr>\n",
       "    <tr>\n",
       "      <th>15</th>\n",
       "      <td>Meghalaya</td>\n",
       "      <td>623</td>\n",
       "      <td>153</td>\n",
       "      <td>1924</td>\n",
       "      <td>363</td>\n",
       "    </tr>\n",
       "    <tr>\n",
       "      <th>16</th>\n",
       "      <td>Mizoram</td>\n",
       "      <td>438</td>\n",
       "      <td>60</td>\n",
       "      <td>904</td>\n",
       "      <td>147</td>\n",
       "    </tr>\n",
       "    <tr>\n",
       "      <th>17</th>\n",
       "      <td>Nagaland</td>\n",
       "      <td>580</td>\n",
       "      <td>141</td>\n",
       "      <td>1389</td>\n",
       "      <td>216</td>\n",
       "    </tr>\n",
       "    <tr>\n",
       "      <th>18</th>\n",
       "      <td>Odisha</td>\n",
       "      <td>8353</td>\n",
       "      <td>1049</td>\n",
       "      <td>11755</td>\n",
       "      <td>2476</td>\n",
       "    </tr>\n",
       "    <tr>\n",
       "      <th>19</th>\n",
       "      <td>Punjab</td>\n",
       "      <td>3455</td>\n",
       "      <td>655</td>\n",
       "      <td>6336</td>\n",
       "      <td>1412</td>\n",
       "    </tr>\n",
       "    <tr>\n",
       "      <th>20</th>\n",
       "      <td>Rajasthan</td>\n",
       "      <td>16165</td>\n",
       "      <td>2387</td>\n",
       "      <td>24314</td>\n",
       "      <td>3460</td>\n",
       "    </tr>\n",
       "    <tr>\n",
       "      <th>21</th>\n",
       "      <td>Sikkim</td>\n",
       "      <td>207</td>\n",
       "      <td>41</td>\n",
       "      <td>333</td>\n",
       "      <td>54</td>\n",
       "    </tr>\n",
       "    <tr>\n",
       "      <th>22</th>\n",
       "      <td>Tamil Nadu</td>\n",
       "      <td>10520</td>\n",
       "      <td>1956</td>\n",
       "      <td>15871</td>\n",
       "      <td>3199</td>\n",
       "    </tr>\n",
       "    <tr>\n",
       "      <th>23</th>\n",
       "      <td>Telangana</td>\n",
       "      <td>5465</td>\n",
       "      <td>1471</td>\n",
       "      <td>10029</td>\n",
       "      <td>1133</td>\n",
       "    </tr>\n",
       "    <tr>\n",
       "      <th>24</th>\n",
       "      <td>Tripura</td>\n",
       "      <td>1098</td>\n",
       "      <td>218</td>\n",
       "      <td>1300</td>\n",
       "      <td>294</td>\n",
       "    </tr>\n",
       "    <tr>\n",
       "      <th>25</th>\n",
       "      <td>Uttarakhand</td>\n",
       "      <td>2171</td>\n",
       "      <td>296</td>\n",
       "      <td>2154</td>\n",
       "      <td>372</td>\n",
       "    </tr>\n",
       "    <tr>\n",
       "      <th>26</th>\n",
       "      <td>Uttar Pradesh</td>\n",
       "      <td>24397</td>\n",
       "      <td>3664</td>\n",
       "      <td>47586</td>\n",
       "      <td>3928</td>\n",
       "    </tr>\n",
       "    <tr>\n",
       "      <th>27</th>\n",
       "      <td>West Bengal</td>\n",
       "      <td>11613</td>\n",
       "      <td>881</td>\n",
       "      <td>24808</td>\n",
       "      <td>2378</td>\n",
       "    </tr>\n",
       "    <tr>\n",
       "      <th>28</th>\n",
       "      <td>A&amp; N Islands</td>\n",
       "      <td>150</td>\n",
       "      <td>34</td>\n",
       "      <td>529</td>\n",
       "      <td>68</td>\n",
       "    </tr>\n",
       "  </tbody>\n",
       "</table>\n",
       "</div>"
      ],
      "text/plain": [
       "             State/UT  HealthCare Centers  Doctor  HealthCare&Nursing Staff  \\\n",
       "0      Andhra Pradesh                8722    1952                     14676   \n",
       "1   Arunachal Pradesh                 591     120                      1306   \n",
       "2               Assam                5766    2061                     14871   \n",
       "3               Bihar               11998    2167                     25858   \n",
       "4        Chhattisgarh                6167     382                      9426   \n",
       "5                 Goa                 248      61                       385   \n",
       "6             Gujarat               11004    2304                     13386   \n",
       "7             Haryana                3098     557                      6716   \n",
       "8    Himachal Pradesh                2762     491                      2249   \n",
       "9           Jharkhand                4317     402                      7515   \n",
       "10          Karnataka               12083    2576                     11973   \n",
       "11             Kerala                6455    1566                      9931   \n",
       "12     Madhya Pradesh               11734    1157                     14640   \n",
       "13        Maharashtra               12860    3436                     24451   \n",
       "14            Manipur                 603     211                      1474   \n",
       "15          Meghalaya                 623     153                      1924   \n",
       "16            Mizoram                 438      60                       904   \n",
       "17           Nagaland                 580     141                      1389   \n",
       "18             Odisha                8353    1049                     11755   \n",
       "19             Punjab                3455     655                      6336   \n",
       "20          Rajasthan               16165    2387                     24314   \n",
       "21             Sikkim                 207      41                       333   \n",
       "22         Tamil Nadu               10520    1956                     15871   \n",
       "23          Telangana                5465    1471                     10029   \n",
       "24            Tripura                1098     218                      1300   \n",
       "25        Uttarakhand                2171     296                      2154   \n",
       "26      Uttar Pradesh               24397    3664                     47586   \n",
       "27        West Bengal               11613     881                     24808   \n",
       "28       A& N Islands                 150      34                       529   \n",
       "\n",
       "    Secondline HealthCare Centers  \n",
       "0                            1873  \n",
       "1                             231  \n",
       "2                            3278  \n",
       "3                             899  \n",
       "4                            2008  \n",
       "5                              78  \n",
       "6                            3596  \n",
       "7                             840  \n",
       "8                             395  \n",
       "9                             564  \n",
       "10                           3609  \n",
       "11                           1671  \n",
       "12                           2618  \n",
       "13                           3368  \n",
       "14                            292  \n",
       "15                            363  \n",
       "16                            147  \n",
       "17                            216  \n",
       "18                           2476  \n",
       "19                           1412  \n",
       "20                           3460  \n",
       "21                             54  \n",
       "22                           3199  \n",
       "23                           1133  \n",
       "24                            294  \n",
       "25                            372  \n",
       "26                           3928  \n",
       "27                           2378  \n",
       "28                             68  "
      ]
     },
     "execution_count": 21,
     "metadata": {},
     "output_type": "execute_result"
    }
   ],
   "source": [
    "d2=pd.read_csv(\"2019.csv\")\n",
    "d2.drop([29,30,31,32,34,37,33,35,36],inplace=True)\n",
    "d2.reset_index(drop=True,inplace=True)\n",
    "#addition\n",
    "d2['HealthCare Centers'] = d2[\"SubCenters\"].astype(str).astype(int) +d2[\"PHCs\"].astype(str).astype(int)+d2[\"CHCs\"].astype(str).astype(int)\n",
    "d2['Doctor'] = d2[\"Doctors\"].astype(str).astype(int) +d2[\"Specialists\"].astype(str).astype(int)\n",
    "d2['HealthCare&Nursing Staff'] = d2[\"ANM/Health_Worker_Female\"].astype(str).astype(int) +d2[\"NursingStaff\"].astype(str).astype(int)\n",
    "d2['Secondline HealthCare Centers'] = d2[\"Radiographers\"].astype(str).astype(int) +d2[\"Pharmacists\"].astype(str).astype(int)+d2[\"LabTechnicians\"].astype(str).astype(int)\n",
    "#dropping\n",
    "d2.drop(['SubCenters','PHCs','CHCs','ANM/Health_Worker_Female','Doctors','Specialists','Radiographers','Pharmacists','LabTechnicians','NursingStaff'],axis=1,inplace=True)\n",
    "#mean\n",
    "d2['Doctor']=d2['Doctor'].replace(0,d2['Doctor'].mean())\n",
    "d2['HealthCare&Nursing Staff']=d2['HealthCare&Nursing Staff'].replace(0,d2['HealthCare&Nursing Staff'].mean())\n",
    "d2.head(29)"
   ]
  },
  {
   "cell_type": "code",
   "execution_count": 22,
   "id": "92cbbead",
   "metadata": {},
   "outputs": [
    {
     "data": {
      "text/html": [
       "<div>\n",
       "<style scoped>\n",
       "    .dataframe tbody tr th:only-of-type {\n",
       "        vertical-align: middle;\n",
       "    }\n",
       "\n",
       "    .dataframe tbody tr th {\n",
       "        vertical-align: top;\n",
       "    }\n",
       "\n",
       "    .dataframe thead th {\n",
       "        text-align: right;\n",
       "    }\n",
       "</style>\n",
       "<table border=\"1\" class=\"dataframe\">\n",
       "  <thead>\n",
       "    <tr style=\"text-align: right;\">\n",
       "      <th></th>\n",
       "      <th>State/UT</th>\n",
       "      <th>Rural_Population</th>\n",
       "      <th>Total_Population</th>\n",
       "    </tr>\n",
       "  </thead>\n",
       "  <tbody>\n",
       "    <tr>\n",
       "      <th>0</th>\n",
       "      <td>Andhra Pradesh**</td>\n",
       "      <td>34256000</td>\n",
       "      <td>52599000</td>\n",
       "    </tr>\n",
       "    <tr>\n",
       "      <th>1</th>\n",
       "      <td>Arunachal Pradesh</td>\n",
       "      <td>1141000</td>\n",
       "      <td>1522000</td>\n",
       "    </tr>\n",
       "    <tr>\n",
       "      <th>2</th>\n",
       "      <td>Assam</td>\n",
       "      <td>29492000</td>\n",
       "      <td>34793000</td>\n",
       "    </tr>\n",
       "    <tr>\n",
       "      <th>3</th>\n",
       "      <td>Bihar</td>\n",
       "      <td>107187000</td>\n",
       "      <td>121895000</td>\n",
       "    </tr>\n",
       "    <tr>\n",
       "      <th>4</th>\n",
       "      <td>Chhattisgarh</td>\n",
       "      <td>21557000</td>\n",
       "      <td>29237000</td>\n",
       "    </tr>\n",
       "    <tr>\n",
       "      <th>5</th>\n",
       "      <td>Goa</td>\n",
       "      <td>421000</td>\n",
       "      <td>1553000</td>\n",
       "    </tr>\n",
       "    <tr>\n",
       "      <th>6</th>\n",
       "      <td>Gujarat</td>\n",
       "      <td>36380000</td>\n",
       "      <td>69171000</td>\n",
       "    </tr>\n",
       "    <tr>\n",
       "      <th>7</th>\n",
       "      <td>Haryana</td>\n",
       "      <td>17374000</td>\n",
       "      <td>29213000</td>\n",
       "    </tr>\n",
       "    <tr>\n",
       "      <th>8</th>\n",
       "      <td>Himachal Pradesh</td>\n",
       "      <td>6608000</td>\n",
       "      <td>7362000</td>\n",
       "    </tr>\n",
       "    <tr>\n",
       "      <th>9</th>\n",
       "      <td>Jharkhand</td>\n",
       "      <td>28313000</td>\n",
       "      <td>38115000</td>\n",
       "    </tr>\n",
       "    <tr>\n",
       "      <th>10</th>\n",
       "      <td>Karnataka</td>\n",
       "      <td>37815000</td>\n",
       "      <td>66496000</td>\n",
       "    </tr>\n",
       "    <tr>\n",
       "      <th>11</th>\n",
       "      <td>Kerala</td>\n",
       "      <td>10777000</td>\n",
       "      <td>35368000</td>\n",
       "    </tr>\n",
       "    <tr>\n",
       "      <th>12</th>\n",
       "      <td>Madhya Pradesh</td>\n",
       "      <td>59718000</td>\n",
       "      <td>83755000</td>\n",
       "    </tr>\n",
       "    <tr>\n",
       "      <th>13</th>\n",
       "      <td>Maharashtra</td>\n",
       "      <td>64555000</td>\n",
       "      <td>123676000</td>\n",
       "    </tr>\n",
       "    <tr>\n",
       "      <th>14</th>\n",
       "      <td>Manipur</td>\n",
       "      <td>2145000</td>\n",
       "      <td>3142000</td>\n",
       "    </tr>\n",
       "    <tr>\n",
       "      <th>15</th>\n",
       "      <td>Meghalaya</td>\n",
       "      <td>2593000</td>\n",
       "      <td>3264000</td>\n",
       "    </tr>\n",
       "    <tr>\n",
       "      <th>16</th>\n",
       "      <td>Mizoram</td>\n",
       "      <td>550000</td>\n",
       "      <td>1207000</td>\n",
       "    </tr>\n",
       "    <tr>\n",
       "      <th>17</th>\n",
       "      <td>Nagaland</td>\n",
       "      <td>1263000</td>\n",
       "      <td>2177000</td>\n",
       "    </tr>\n",
       "    <tr>\n",
       "      <th>18</th>\n",
       "      <td>Odisha</td>\n",
       "      <td>37123000</td>\n",
       "      <td>45465000</td>\n",
       "    </tr>\n",
       "    <tr>\n",
       "      <th>19</th>\n",
       "      <td>Punjab</td>\n",
       "      <td>17848000</td>\n",
       "      <td>30179000</td>\n",
       "    </tr>\n",
       "    <tr>\n",
       "      <th>20</th>\n",
       "      <td>Rajasthan</td>\n",
       "      <td>57986000</td>\n",
       "      <td>78609000</td>\n",
       "    </tr>\n",
       "    <tr>\n",
       "      <th>21</th>\n",
       "      <td>Sikkim</td>\n",
       "      <td>379000</td>\n",
       "      <td>672000</td>\n",
       "    </tr>\n",
       "    <tr>\n",
       "      <th>22</th>\n",
       "      <td>Tamil Nadu</td>\n",
       "      <td>36182000</td>\n",
       "      <td>76167000</td>\n",
       "    </tr>\n",
       "    <tr>\n",
       "      <th>23</th>\n",
       "      <td>Telangana**</td>\n",
       "      <td>20401000</td>\n",
       "      <td>37536000</td>\n",
       "    </tr>\n",
       "    <tr>\n",
       "      <th>24</th>\n",
       "      <td>Tripura</td>\n",
       "      <td>2576000</td>\n",
       "      <td>4042000</td>\n",
       "    </tr>\n",
       "    <tr>\n",
       "      <th>25</th>\n",
       "      <td>Uttarakhand</td>\n",
       "      <td>7393000</td>\n",
       "      <td>11313000</td>\n",
       "    </tr>\n",
       "    <tr>\n",
       "      <th>26</th>\n",
       "      <td>Uttar Pradesh</td>\n",
       "      <td>174804000</td>\n",
       "      <td>228931000</td>\n",
       "    </tr>\n",
       "    <tr>\n",
       "      <th>27</th>\n",
       "      <td>West Bengal</td>\n",
       "      <td>62854000</td>\n",
       "      <td>97719000</td>\n",
       "    </tr>\n",
       "    <tr>\n",
       "      <th>28</th>\n",
       "      <td>Andaman &amp; Nicobar \\nIslands</td>\n",
       "      <td>229000</td>\n",
       "      <td>399000</td>\n",
       "    </tr>\n",
       "  </tbody>\n",
       "</table>\n",
       "</div>"
      ],
      "text/plain": [
       "                       State/UT  Rural_Population  Total_Population\n",
       "0              Andhra Pradesh**          34256000          52599000\n",
       "1             Arunachal Pradesh           1141000           1522000\n",
       "2                         Assam          29492000          34793000\n",
       "3                         Bihar         107187000         121895000\n",
       "4                  Chhattisgarh          21557000          29237000\n",
       "5                           Goa            421000           1553000\n",
       "6                       Gujarat          36380000          69171000\n",
       "7                       Haryana          17374000          29213000\n",
       "8              Himachal Pradesh           6608000           7362000\n",
       "9                     Jharkhand          28313000          38115000\n",
       "10                    Karnataka          37815000          66496000\n",
       "11                       Kerala          10777000          35368000\n",
       "12               Madhya Pradesh          59718000          83755000\n",
       "13                  Maharashtra          64555000         123676000\n",
       "14                      Manipur           2145000           3142000\n",
       "15                    Meghalaya           2593000           3264000\n",
       "16                      Mizoram            550000           1207000\n",
       "17                     Nagaland           1263000           2177000\n",
       "18                       Odisha          37123000          45465000\n",
       "19                       Punjab          17848000          30179000\n",
       "20                    Rajasthan          57986000          78609000\n",
       "21                       Sikkim            379000            672000\n",
       "22                   Tamil Nadu          36182000          76167000\n",
       "23                  Telangana**          20401000          37536000\n",
       "24                      Tripura           2576000           4042000\n",
       "25                  Uttarakhand           7393000          11313000\n",
       "26                Uttar Pradesh         174804000         228931000\n",
       "27                  West Bengal          62854000          97719000\n",
       "28  Andaman & Nicobar \\nIslands            229000            399000"
      ]
     },
     "execution_count": 22,
     "metadata": {},
     "output_type": "execute_result"
    }
   ],
   "source": [
    "#accesing \n",
    "p1=pd.read_csv(\"2019_population.csv\")\n",
    "p1.drop(['Urban_Population','Urban_Population_Density','Total_Population_Density','Rural_Population_Density','Rural_Population_%'],axis=1,inplace=True)\n",
    "p1.drop([29,30,31,32,34],inplace=True)\n",
    "p1.reset_index(drop=True,inplace=True)\n",
    "p1.head(29)"
   ]
  },
  {
   "cell_type": "code",
   "execution_count": 23,
   "id": "566b4488",
   "metadata": {},
   "outputs": [
    {
     "data": {
      "text/html": [
       "<div>\n",
       "<style scoped>\n",
       "    .dataframe tbody tr th:only-of-type {\n",
       "        vertical-align: middle;\n",
       "    }\n",
       "\n",
       "    .dataframe tbody tr th {\n",
       "        vertical-align: top;\n",
       "    }\n",
       "\n",
       "    .dataframe thead th {\n",
       "        text-align: right;\n",
       "    }\n",
       "</style>\n",
       "<table border=\"1\" class=\"dataframe\">\n",
       "  <thead>\n",
       "    <tr style=\"text-align: right;\">\n",
       "      <th></th>\n",
       "      <th>State/UT</th>\n",
       "      <th>HealthCare Centers</th>\n",
       "      <th>Doctor</th>\n",
       "      <th>HealthCare&amp;Nursing Staff</th>\n",
       "      <th>Secondline HealthCare Centers</th>\n",
       "      <th>Rural_Population</th>\n",
       "      <th>Rural Pop to Doc Ratio</th>\n",
       "      <th>Rural Pop to HealthCare Staff Ratio</th>\n",
       "      <th>Rural Pop to HealthCare Centers Ratio</th>\n",
       "      <th>Rural Pop to Secondline HealthCare Centers Ratio</th>\n",
       "    </tr>\n",
       "  </thead>\n",
       "  <tbody>\n",
       "    <tr>\n",
       "      <th>0</th>\n",
       "      <td>Andhra Pradesh</td>\n",
       "      <td>8722</td>\n",
       "      <td>1952</td>\n",
       "      <td>14676</td>\n",
       "      <td>1873</td>\n",
       "      <td>34256000</td>\n",
       "      <td>17549.180328</td>\n",
       "      <td>2334.150995</td>\n",
       "      <td>3927.539555</td>\n",
       "      <td>18289.375334</td>\n",
       "    </tr>\n",
       "    <tr>\n",
       "      <th>1</th>\n",
       "      <td>Arunachal Pradesh</td>\n",
       "      <td>591</td>\n",
       "      <td>120</td>\n",
       "      <td>1306</td>\n",
       "      <td>231</td>\n",
       "      <td>1141000</td>\n",
       "      <td>9508.333333</td>\n",
       "      <td>873.660031</td>\n",
       "      <td>1930.626058</td>\n",
       "      <td>4939.393939</td>\n",
       "    </tr>\n",
       "    <tr>\n",
       "      <th>2</th>\n",
       "      <td>Assam</td>\n",
       "      <td>5766</td>\n",
       "      <td>2061</td>\n",
       "      <td>14871</td>\n",
       "      <td>3278</td>\n",
       "      <td>29492000</td>\n",
       "      <td>14309.558467</td>\n",
       "      <td>1983.188757</td>\n",
       "      <td>5114.810961</td>\n",
       "      <td>8996.949359</td>\n",
       "    </tr>\n",
       "    <tr>\n",
       "      <th>3</th>\n",
       "      <td>Bihar</td>\n",
       "      <td>11998</td>\n",
       "      <td>2167</td>\n",
       "      <td>25858</td>\n",
       "      <td>899</td>\n",
       "      <td>107187000</td>\n",
       "      <td>49463.313336</td>\n",
       "      <td>4145.216181</td>\n",
       "      <td>8933.738956</td>\n",
       "      <td>119229.143493</td>\n",
       "    </tr>\n",
       "    <tr>\n",
       "      <th>4</th>\n",
       "      <td>Chhattisgarh</td>\n",
       "      <td>6167</td>\n",
       "      <td>382</td>\n",
       "      <td>9426</td>\n",
       "      <td>2008</td>\n",
       "      <td>21557000</td>\n",
       "      <td>56431.937173</td>\n",
       "      <td>2286.972205</td>\n",
       "      <td>3495.540782</td>\n",
       "      <td>10735.557769</td>\n",
       "    </tr>\n",
       "    <tr>\n",
       "      <th>5</th>\n",
       "      <td>Goa</td>\n",
       "      <td>248</td>\n",
       "      <td>61</td>\n",
       "      <td>385</td>\n",
       "      <td>78</td>\n",
       "      <td>421000</td>\n",
       "      <td>6901.639344</td>\n",
       "      <td>1093.506494</td>\n",
       "      <td>1697.580645</td>\n",
       "      <td>5397.435897</td>\n",
       "    </tr>\n",
       "    <tr>\n",
       "      <th>6</th>\n",
       "      <td>Gujarat</td>\n",
       "      <td>11004</td>\n",
       "      <td>2304</td>\n",
       "      <td>13386</td>\n",
       "      <td>3596</td>\n",
       "      <td>36380000</td>\n",
       "      <td>15789.930556</td>\n",
       "      <td>2717.764829</td>\n",
       "      <td>3306.070520</td>\n",
       "      <td>10116.796440</td>\n",
       "    </tr>\n",
       "    <tr>\n",
       "      <th>7</th>\n",
       "      <td>Haryana</td>\n",
       "      <td>3098</td>\n",
       "      <td>557</td>\n",
       "      <td>6716</td>\n",
       "      <td>840</td>\n",
       "      <td>17374000</td>\n",
       "      <td>31192.100539</td>\n",
       "      <td>2586.956522</td>\n",
       "      <td>5608.134280</td>\n",
       "      <td>20683.333333</td>\n",
       "    </tr>\n",
       "    <tr>\n",
       "      <th>8</th>\n",
       "      <td>Himachal Pradesh</td>\n",
       "      <td>2762</td>\n",
       "      <td>491</td>\n",
       "      <td>2249</td>\n",
       "      <td>395</td>\n",
       "      <td>6608000</td>\n",
       "      <td>13458.248473</td>\n",
       "      <td>2938.194753</td>\n",
       "      <td>2392.469225</td>\n",
       "      <td>16729.113924</td>\n",
       "    </tr>\n",
       "    <tr>\n",
       "      <th>9</th>\n",
       "      <td>Jharkhand</td>\n",
       "      <td>4317</td>\n",
       "      <td>402</td>\n",
       "      <td>7515</td>\n",
       "      <td>564</td>\n",
       "      <td>28313000</td>\n",
       "      <td>70430.348259</td>\n",
       "      <td>3767.531603</td>\n",
       "      <td>6558.489692</td>\n",
       "      <td>50200.354610</td>\n",
       "    </tr>\n",
       "    <tr>\n",
       "      <th>10</th>\n",
       "      <td>Karnataka</td>\n",
       "      <td>12083</td>\n",
       "      <td>2576</td>\n",
       "      <td>11973</td>\n",
       "      <td>3609</td>\n",
       "      <td>37815000</td>\n",
       "      <td>14679.736025</td>\n",
       "      <td>3158.356302</td>\n",
       "      <td>3129.603575</td>\n",
       "      <td>10477.971737</td>\n",
       "    </tr>\n",
       "    <tr>\n",
       "      <th>11</th>\n",
       "      <td>Kerala</td>\n",
       "      <td>6455</td>\n",
       "      <td>1566</td>\n",
       "      <td>9931</td>\n",
       "      <td>1671</td>\n",
       "      <td>10777000</td>\n",
       "      <td>6881.864623</td>\n",
       "      <td>1085.187796</td>\n",
       "      <td>1669.558482</td>\n",
       "      <td>6449.431478</td>\n",
       "    </tr>\n",
       "    <tr>\n",
       "      <th>12</th>\n",
       "      <td>Madhya Pradesh</td>\n",
       "      <td>11734</td>\n",
       "      <td>1157</td>\n",
       "      <td>14640</td>\n",
       "      <td>2618</td>\n",
       "      <td>59718000</td>\n",
       "      <td>51614.520311</td>\n",
       "      <td>4079.098361</td>\n",
       "      <td>5089.313107</td>\n",
       "      <td>22810.542399</td>\n",
       "    </tr>\n",
       "    <tr>\n",
       "      <th>13</th>\n",
       "      <td>Maharashtra</td>\n",
       "      <td>12860</td>\n",
       "      <td>3436</td>\n",
       "      <td>24451</td>\n",
       "      <td>3368</td>\n",
       "      <td>64555000</td>\n",
       "      <td>18787.834692</td>\n",
       "      <td>2640.178316</td>\n",
       "      <td>5019.828927</td>\n",
       "      <td>19167.161520</td>\n",
       "    </tr>\n",
       "    <tr>\n",
       "      <th>14</th>\n",
       "      <td>Manipur</td>\n",
       "      <td>603</td>\n",
       "      <td>211</td>\n",
       "      <td>1474</td>\n",
       "      <td>292</td>\n",
       "      <td>2145000</td>\n",
       "      <td>10165.876777</td>\n",
       "      <td>1455.223881</td>\n",
       "      <td>3557.213930</td>\n",
       "      <td>7345.890411</td>\n",
       "    </tr>\n",
       "    <tr>\n",
       "      <th>15</th>\n",
       "      <td>Meghalaya</td>\n",
       "      <td>623</td>\n",
       "      <td>153</td>\n",
       "      <td>1924</td>\n",
       "      <td>363</td>\n",
       "      <td>2593000</td>\n",
       "      <td>16947.712418</td>\n",
       "      <td>1347.713098</td>\n",
       "      <td>4162.118780</td>\n",
       "      <td>7143.250689</td>\n",
       "    </tr>\n",
       "    <tr>\n",
       "      <th>16</th>\n",
       "      <td>Mizoram</td>\n",
       "      <td>438</td>\n",
       "      <td>60</td>\n",
       "      <td>904</td>\n",
       "      <td>147</td>\n",
       "      <td>550000</td>\n",
       "      <td>9166.666667</td>\n",
       "      <td>608.407080</td>\n",
       "      <td>1255.707763</td>\n",
       "      <td>3741.496599</td>\n",
       "    </tr>\n",
       "    <tr>\n",
       "      <th>17</th>\n",
       "      <td>Nagaland</td>\n",
       "      <td>580</td>\n",
       "      <td>141</td>\n",
       "      <td>1389</td>\n",
       "      <td>216</td>\n",
       "      <td>1263000</td>\n",
       "      <td>8957.446809</td>\n",
       "      <td>909.287257</td>\n",
       "      <td>2177.586207</td>\n",
       "      <td>5847.222222</td>\n",
       "    </tr>\n",
       "    <tr>\n",
       "      <th>18</th>\n",
       "      <td>Odisha</td>\n",
       "      <td>8353</td>\n",
       "      <td>1049</td>\n",
       "      <td>11755</td>\n",
       "      <td>2476</td>\n",
       "      <td>37123000</td>\n",
       "      <td>35388.941849</td>\n",
       "      <td>3158.060400</td>\n",
       "      <td>4444.271519</td>\n",
       "      <td>14993.134087</td>\n",
       "    </tr>\n",
       "    <tr>\n",
       "      <th>19</th>\n",
       "      <td>Punjab</td>\n",
       "      <td>3455</td>\n",
       "      <td>655</td>\n",
       "      <td>6336</td>\n",
       "      <td>1412</td>\n",
       "      <td>17848000</td>\n",
       "      <td>27248.854962</td>\n",
       "      <td>2816.919192</td>\n",
       "      <td>5165.846599</td>\n",
       "      <td>12640.226629</td>\n",
       "    </tr>\n",
       "    <tr>\n",
       "      <th>20</th>\n",
       "      <td>Rajasthan</td>\n",
       "      <td>16165</td>\n",
       "      <td>2387</td>\n",
       "      <td>24314</td>\n",
       "      <td>3460</td>\n",
       "      <td>57986000</td>\n",
       "      <td>24292.417260</td>\n",
       "      <td>2384.881138</td>\n",
       "      <td>3587.132694</td>\n",
       "      <td>16758.959538</td>\n",
       "    </tr>\n",
       "    <tr>\n",
       "      <th>21</th>\n",
       "      <td>Sikkim</td>\n",
       "      <td>207</td>\n",
       "      <td>41</td>\n",
       "      <td>333</td>\n",
       "      <td>54</td>\n",
       "      <td>379000</td>\n",
       "      <td>9243.902439</td>\n",
       "      <td>1138.138138</td>\n",
       "      <td>1830.917874</td>\n",
       "      <td>7018.518519</td>\n",
       "    </tr>\n",
       "    <tr>\n",
       "      <th>22</th>\n",
       "      <td>Tamil Nadu</td>\n",
       "      <td>10520</td>\n",
       "      <td>1956</td>\n",
       "      <td>15871</td>\n",
       "      <td>3199</td>\n",
       "      <td>36182000</td>\n",
       "      <td>18497.955010</td>\n",
       "      <td>2279.755529</td>\n",
       "      <td>3439.353612</td>\n",
       "      <td>11310.409503</td>\n",
       "    </tr>\n",
       "    <tr>\n",
       "      <th>23</th>\n",
       "      <td>Telangana</td>\n",
       "      <td>5465</td>\n",
       "      <td>1471</td>\n",
       "      <td>10029</td>\n",
       "      <td>1133</td>\n",
       "      <td>20401000</td>\n",
       "      <td>13868.796737</td>\n",
       "      <td>2034.200818</td>\n",
       "      <td>3733.028362</td>\n",
       "      <td>18006.178288</td>\n",
       "    </tr>\n",
       "    <tr>\n",
       "      <th>24</th>\n",
       "      <td>Tripura</td>\n",
       "      <td>1098</td>\n",
       "      <td>218</td>\n",
       "      <td>1300</td>\n",
       "      <td>294</td>\n",
       "      <td>2576000</td>\n",
       "      <td>11816.513761</td>\n",
       "      <td>1981.538462</td>\n",
       "      <td>2346.083789</td>\n",
       "      <td>8761.904762</td>\n",
       "    </tr>\n",
       "    <tr>\n",
       "      <th>25</th>\n",
       "      <td>Uttarakhand</td>\n",
       "      <td>2171</td>\n",
       "      <td>296</td>\n",
       "      <td>2154</td>\n",
       "      <td>372</td>\n",
       "      <td>7393000</td>\n",
       "      <td>24976.351351</td>\n",
       "      <td>3432.219127</td>\n",
       "      <td>3405.343160</td>\n",
       "      <td>19873.655914</td>\n",
       "    </tr>\n",
       "    <tr>\n",
       "      <th>26</th>\n",
       "      <td>Uttar Pradesh</td>\n",
       "      <td>24397</td>\n",
       "      <td>3664</td>\n",
       "      <td>47586</td>\n",
       "      <td>3928</td>\n",
       "      <td>174804000</td>\n",
       "      <td>47708.515284</td>\n",
       "      <td>3673.433363</td>\n",
       "      <td>7164.979301</td>\n",
       "      <td>44502.036660</td>\n",
       "    </tr>\n",
       "    <tr>\n",
       "      <th>27</th>\n",
       "      <td>West Bengal</td>\n",
       "      <td>11613</td>\n",
       "      <td>881</td>\n",
       "      <td>24808</td>\n",
       "      <td>2378</td>\n",
       "      <td>62854000</td>\n",
       "      <td>71343.927355</td>\n",
       "      <td>2533.618188</td>\n",
       "      <td>5412.382675</td>\n",
       "      <td>26431.455004</td>\n",
       "    </tr>\n",
       "    <tr>\n",
       "      <th>28</th>\n",
       "      <td>A&amp; N Islands</td>\n",
       "      <td>150</td>\n",
       "      <td>34</td>\n",
       "      <td>529</td>\n",
       "      <td>68</td>\n",
       "      <td>229000</td>\n",
       "      <td>6735.294118</td>\n",
       "      <td>432.892250</td>\n",
       "      <td>1526.666667</td>\n",
       "      <td>3367.647059</td>\n",
       "    </tr>\n",
       "  </tbody>\n",
       "</table>\n",
       "</div>"
      ],
      "text/plain": [
       "             State/UT  HealthCare Centers  Doctor  HealthCare&Nursing Staff  \\\n",
       "0      Andhra Pradesh                8722    1952                     14676   \n",
       "1   Arunachal Pradesh                 591     120                      1306   \n",
       "2               Assam                5766    2061                     14871   \n",
       "3               Bihar               11998    2167                     25858   \n",
       "4        Chhattisgarh                6167     382                      9426   \n",
       "5                 Goa                 248      61                       385   \n",
       "6             Gujarat               11004    2304                     13386   \n",
       "7             Haryana                3098     557                      6716   \n",
       "8    Himachal Pradesh                2762     491                      2249   \n",
       "9           Jharkhand                4317     402                      7515   \n",
       "10          Karnataka               12083    2576                     11973   \n",
       "11             Kerala                6455    1566                      9931   \n",
       "12     Madhya Pradesh               11734    1157                     14640   \n",
       "13        Maharashtra               12860    3436                     24451   \n",
       "14            Manipur                 603     211                      1474   \n",
       "15          Meghalaya                 623     153                      1924   \n",
       "16            Mizoram                 438      60                       904   \n",
       "17           Nagaland                 580     141                      1389   \n",
       "18             Odisha                8353    1049                     11755   \n",
       "19             Punjab                3455     655                      6336   \n",
       "20          Rajasthan               16165    2387                     24314   \n",
       "21             Sikkim                 207      41                       333   \n",
       "22         Tamil Nadu               10520    1956                     15871   \n",
       "23          Telangana                5465    1471                     10029   \n",
       "24            Tripura                1098     218                      1300   \n",
       "25        Uttarakhand                2171     296                      2154   \n",
       "26      Uttar Pradesh               24397    3664                     47586   \n",
       "27        West Bengal               11613     881                     24808   \n",
       "28       A& N Islands                 150      34                       529   \n",
       "\n",
       "    Secondline HealthCare Centers  Rural_Population  Rural Pop to Doc Ratio  \\\n",
       "0                            1873          34256000            17549.180328   \n",
       "1                             231           1141000             9508.333333   \n",
       "2                            3278          29492000            14309.558467   \n",
       "3                             899         107187000            49463.313336   \n",
       "4                            2008          21557000            56431.937173   \n",
       "5                              78            421000             6901.639344   \n",
       "6                            3596          36380000            15789.930556   \n",
       "7                             840          17374000            31192.100539   \n",
       "8                             395           6608000            13458.248473   \n",
       "9                             564          28313000            70430.348259   \n",
       "10                           3609          37815000            14679.736025   \n",
       "11                           1671          10777000             6881.864623   \n",
       "12                           2618          59718000            51614.520311   \n",
       "13                           3368          64555000            18787.834692   \n",
       "14                            292           2145000            10165.876777   \n",
       "15                            363           2593000            16947.712418   \n",
       "16                            147            550000             9166.666667   \n",
       "17                            216           1263000             8957.446809   \n",
       "18                           2476          37123000            35388.941849   \n",
       "19                           1412          17848000            27248.854962   \n",
       "20                           3460          57986000            24292.417260   \n",
       "21                             54            379000             9243.902439   \n",
       "22                           3199          36182000            18497.955010   \n",
       "23                           1133          20401000            13868.796737   \n",
       "24                            294           2576000            11816.513761   \n",
       "25                            372           7393000            24976.351351   \n",
       "26                           3928         174804000            47708.515284   \n",
       "27                           2378          62854000            71343.927355   \n",
       "28                             68            229000             6735.294118   \n",
       "\n",
       "    Rural Pop to HealthCare Staff Ratio  \\\n",
       "0                           2334.150995   \n",
       "1                            873.660031   \n",
       "2                           1983.188757   \n",
       "3                           4145.216181   \n",
       "4                           2286.972205   \n",
       "5                           1093.506494   \n",
       "6                           2717.764829   \n",
       "7                           2586.956522   \n",
       "8                           2938.194753   \n",
       "9                           3767.531603   \n",
       "10                          3158.356302   \n",
       "11                          1085.187796   \n",
       "12                          4079.098361   \n",
       "13                          2640.178316   \n",
       "14                          1455.223881   \n",
       "15                          1347.713098   \n",
       "16                           608.407080   \n",
       "17                           909.287257   \n",
       "18                          3158.060400   \n",
       "19                          2816.919192   \n",
       "20                          2384.881138   \n",
       "21                          1138.138138   \n",
       "22                          2279.755529   \n",
       "23                          2034.200818   \n",
       "24                          1981.538462   \n",
       "25                          3432.219127   \n",
       "26                          3673.433363   \n",
       "27                          2533.618188   \n",
       "28                           432.892250   \n",
       "\n",
       "    Rural Pop to HealthCare Centers Ratio  \\\n",
       "0                             3927.539555   \n",
       "1                             1930.626058   \n",
       "2                             5114.810961   \n",
       "3                             8933.738956   \n",
       "4                             3495.540782   \n",
       "5                             1697.580645   \n",
       "6                             3306.070520   \n",
       "7                             5608.134280   \n",
       "8                             2392.469225   \n",
       "9                             6558.489692   \n",
       "10                            3129.603575   \n",
       "11                            1669.558482   \n",
       "12                            5089.313107   \n",
       "13                            5019.828927   \n",
       "14                            3557.213930   \n",
       "15                            4162.118780   \n",
       "16                            1255.707763   \n",
       "17                            2177.586207   \n",
       "18                            4444.271519   \n",
       "19                            5165.846599   \n",
       "20                            3587.132694   \n",
       "21                            1830.917874   \n",
       "22                            3439.353612   \n",
       "23                            3733.028362   \n",
       "24                            2346.083789   \n",
       "25                            3405.343160   \n",
       "26                            7164.979301   \n",
       "27                            5412.382675   \n",
       "28                            1526.666667   \n",
       "\n",
       "    Rural Pop to Secondline HealthCare Centers Ratio  \n",
       "0                                       18289.375334  \n",
       "1                                        4939.393939  \n",
       "2                                        8996.949359  \n",
       "3                                      119229.143493  \n",
       "4                                       10735.557769  \n",
       "5                                        5397.435897  \n",
       "6                                       10116.796440  \n",
       "7                                       20683.333333  \n",
       "8                                       16729.113924  \n",
       "9                                       50200.354610  \n",
       "10                                      10477.971737  \n",
       "11                                       6449.431478  \n",
       "12                                      22810.542399  \n",
       "13                                      19167.161520  \n",
       "14                                       7345.890411  \n",
       "15                                       7143.250689  \n",
       "16                                       3741.496599  \n",
       "17                                       5847.222222  \n",
       "18                                      14993.134087  \n",
       "19                                      12640.226629  \n",
       "20                                      16758.959538  \n",
       "21                                       7018.518519  \n",
       "22                                      11310.409503  \n",
       "23                                      18006.178288  \n",
       "24                                       8761.904762  \n",
       "25                                      19873.655914  \n",
       "26                                      44502.036660  \n",
       "27                                      26431.455004  \n",
       "28                                       3367.647059  "
      ]
     },
     "execution_count": 23,
     "metadata": {},
     "output_type": "execute_result"
    }
   ],
   "source": [
    "d2['Rural_Population']=p1['Rural_Population']\n",
    "d2['Rural Pop to Doc Ratio']=d2['Rural_Population']/d2['Doctor']\n",
    "d2['Rural Pop to HealthCare Staff Ratio']=d2['Rural_Population']/d2['HealthCare&Nursing Staff']\n",
    "d2['Rural Pop to HealthCare Centers Ratio']=d2['Rural_Population']/d2['HealthCare Centers']\n",
    "d2['Rural Pop to Secondline HealthCare Centers Ratio']=d2['Rural_Population']/d2['Secondline HealthCare Centers']\n",
    "d2.head(29)"
   ]
  },
  {
   "cell_type": "markdown",
   "id": "d2a4d0af",
   "metadata": {},
   "source": [
    "# RURAL POPULATION TO DOCTOR RATIO"
   ]
  },
  {
   "cell_type": "code",
   "execution_count": 24,
   "id": "77acd1cd",
   "metadata": {},
   "outputs": [
    {
     "data": {
      "text/plain": [
       "[Text(0.5, 1.0, \"Sates having Worst Rural population to Doctor's Ratio in 2019\")]"
      ]
     },
     "execution_count": 24,
     "metadata": {},
     "output_type": "execute_result"
    },
    {
     "data": {
      "image/png": "[encoded data removed]",
      "text/plain": [
       "<Figure size 1080x504 with 1 Axes>"
      ]
     },
     "metadata": {
      "needs_background": "light"
     },
     "output_type": "display_data"
    }
   ],
   "source": [
    "import seaborn as sns\n",
    "import matplotlib.pyplot as plt\n",
    "# Initialize the matplotlib figure\n",
    "f1, f2 = plt.subplots(figsize=(15, 7))\n",
    "e1=d2.sort_values(by=['Rural Pop to Doc Ratio'],ascending=False)\n",
    "e2=e1[-10:]#Best Ratio\n",
    "e1=e1[:10]#Worst Ratio\n",
    "\n",
    "\n",
    "# Plot Sates having Worst Rural population to Doctor's Ratio in 2019\n",
    "f1=sns.barplot(x=\"Rural Pop to Doc Ratio\", y=\"State/UT\", data=e1,\n",
    "            palette=\"rocket\")\n",
    "\n",
    "# Add informative axis label\n",
    "f1.set(xlim=(0, 24), ylabel=\"\",\n",
    "       xlabel=\" Worst Rural population to Doctor's Ratio in 2019\")\n",
    "sns.despine(left=True, bottom=True)\n",
    "f1.set(xlim=(0, 75000))\n",
    "f1.set(title = \"Sates having Worst Rural population to Doctor's Ratio in 2019\")"
   ]
  },
  {
   "cell_type": "code",
   "execution_count": 25,
   "id": "ef2defaf",
   "metadata": {},
   "outputs": [
    {
     "data": {
      "text/plain": [
       "[Text(0.5, 1.0, \"Sates having Worst Rural population to Doctor's Ratio in 2019\")]"
      ]
     },
     "execution_count": 25,
     "metadata": {},
     "output_type": "execute_result"
    },
    {
     "data": {
      "image/png": "[encoded data removed]",
      "text/plain": [
       "<Figure size 432x288 with 1 Axes>"
      ]
     },
     "metadata": {
      "needs_background": "light"
     },
     "output_type": "display_data"
    }
   ],
   "source": [
    "# Plot Sates having Best Rural population to Doctor's Ratio in 2019\n",
    "sns.set_color_codes(\"pastel\")\n",
    "f2=sns.barplot(x=\"Rural Pop to Doc Ratio\", y=\"State/UT\", data=e2,\n",
    "            palette=\"spring\")\n",
    "\n",
    "# Add informative axis label\n",
    "f2.set(xlim=(0, 24), ylabel=\"states\",\n",
    "       xlabel=\"Best Rural population to Doctor's Ratio in 2019\")\n",
    "sns.despine(left=True, bottom=True)\n",
    "f2.set(xlim=(0, 9000))\n",
    "f2.set(title = \"Sates having Worst Rural population to Doctor's Ratio in 2019\")"
   ]
  },
  {
   "cell_type": "code",
   "execution_count": 26,
   "id": "35987494",
   "metadata": {},
   "outputs": [
    {
     "data": {
      "application/vnd.plotly.v1+json": {
       "config": {
        "plotlyServerURL": "https://plot.ly"
       },
       "data": [
        {
         "autocolorscale": false,
         "colorbar": {
          "bgcolor": "rgba(255,255,255,0.6)",
          "dtick": 5000,
          "len": 0.35,
          "thickness": 15,
          "tick0": 5000,
          "title": {
           "text": "Rural Population:Doctor"
          },
          "x": 0.001,
          "xanchor": "left",
          "y": 0.05,
          "yanchor": "bottom"
         },
         "colorscale": [
          [
           0,
           "rgb(214, 249, 207)"
          ],
          [
           0.09090909090909091,
           "rgb(186, 228, 174)"
          ],
          [
           0.18181818181818182,
           "rgb(156, 209, 143)"
          ],
          [
           0.2727272727272727,
           "rgb(124, 191, 115)"
          ],
          [
           0.36363636363636365,
           "rgb(85, 174, 91)"
          ],
          [
           0.45454545454545453,
           "rgb(37, 157, 81)"
          ],
          [
           0.5454545454545454,
           "rgb(7, 138, 78)"
          ],
          [
           0.6363636363636364,
           "rgb(13, 117, 71)"
          ],
          [
           0.7272727272727273,
           "rgb(23, 95, 61)"
          ],
          [
           0.8181818181818182,
           "rgb(25, 75, 49)"
          ],
          [
           0.9090909090909091,
           "rgb(23, 55, 35)"
          ],
          [
           1,
           "rgb(17, 36, 20)"
          ]
         ],
         "featureidkey": "properties.ST_NM",
         "geojson": "https://gist.githubusercontent.com/jbrobst/56c13bbbf9d97d187fea01ca62ea5112/raw/e388c4cae20aa53cb5090210a42ebb9b765c0a36/india_states.geojson",
         "locationmode": "geojson-id",
         "locations": [
          "Andhra Pradesh",
          "Arunachal Pradesh",
          "Assam",
          "Bihar",
          "Chhattisgarh",
          "Goa",
          "Gujarat",
          "Haryana",
          "Himachal Pradesh",
          "Jharkhand",
          "Karnataka",
          "Kerala",
          "Madhya Pradesh",
          "Maharashtra",
          "Manipur",
          "Meghalaya",
          "Mizoram",
          "Nagaland",
          "Odisha",
          "Punjab",
          "Rajasthan",
          "Sikkim",
          "Tamil Nadu",
          "Telangana",
          "Tripura",
          "Uttarakhand",
          "Uttar Pradesh",
          "West Bengal",
          "A& N Islands"
         ],
         "marker": {
          "line": {
           "color": "peachpuff"
          }
         },
         "type": "choropleth",
         "z": [
          17549.180327868853,
          9508.333333333334,
          14309.558466763707,
          49463.31333640978,
          56431.937172774866,
          6901.639344262295,
          15789.930555555555,
          31192.10053859964,
          13458.24847250509,
          70430.34825870646,
          14679.73602484472,
          6881.864623243933,
          51614.52031114952,
          18787.834691501746,
          10165.876777251186,
          16947.712418300653,
          9166.666666666666,
          8957.446808510638,
          35388.94184938036,
          27248.85496183206,
          24292.417260159196,
          9243.90243902439,
          18497.95501022495,
          13868.796736913664,
          11816.51376146789,
          24976.35135135135,
          47708.5152838428,
          71343.9273552781,
          6735.294117647059
         ]
        }
       ],
       "layout": {
        "geo": {
         "lataxis": {
          "range": [
           6,
           38
          ]
         },
         "lonaxis": {
          "range": [
           68,
           98
          ]
         },
         "projection": {
          "parallels": [
           12.472944444,
           35.172805555556
          ],
          "rotation": {
           "lat": 24,
           "lon": 80
          },
          "type": "conic conformal"
         },
         "visible": false
        },
        "height": 550,
        "margin": {
         "b": 0,
         "l": 0,
         "r": 0,
         "t": 30
        },
        "template": {
         "data": {
          "bar": [
           {
            "error_x": {
             "color": "#2a3f5f"
            },
            "error_y": {
             "color": "#2a3f5f"
            },
            "marker": {
             "line": {
              "color": "#E5ECF6",
              "width": 0.5
             },
             "pattern": {
              "fillmode": "overlay",
              "size": 10,
              "solidity": 0.2
             }
            },
            "type": "bar"
           }
          ],
          "barpolar": [
           {
            "marker": {
             "line": {
              "color": "#E5ECF6",
              "width": 0.5
             },
             "pattern": {
              "fillmode": "overlay",
              "size": 10,
              "solidity": 0.2
             }
            },
            "type": "barpolar"
           }
          ],
          "carpet": [
           {
            "aaxis": {
             "endlinecolor": "#2a3f5f",
             "gridcolor": "white",
             "linecolor": "white",
             "minorgridcolor": "white",
             "startlinecolor": "#2a3f5f"
            },
            "baxis": {
             "endlinecolor": "#2a3f5f",
             "gridcolor": "white",
             "linecolor": "white",
             "minorgridcolor": "white",
             "startlinecolor": "#2a3f5f"
            },
            "type": "carpet"
           }
          ],
          "choropleth": [
           {
            "colorbar": {
             "outlinewidth": 0,
             "ticks": ""
            },
            "type": "choropleth"
           }
          ],
          "contour": [
           {
            "colorbar": {
             "outlinewidth": 0,
             "ticks": ""
            },
            "colorscale": [
             [
              0,
              "#0d0887"
             ],
             [
              0.1111111111111111,
              "#46039f"
             ],
             [
              0.2222222222222222,
              "#7201a8"
             ],
             [
              0.3333333333333333,
              "#9c179e"
             ],
             [
              0.4444444444444444,
              "#bd3786"
             ],
             [
              0.5555555555555556,
              "#d8576b"
             ],
             [
              0.6666666666666666,
              "#ed7953"
             ],
             [
              0.7777777777777778,
              "#fb9f3a"
             ],
             [
              0.8888888888888888,
              "#fdca26"
             ],
             [
              1,
              "#f0f921"
             ]
            ],
            "type": "contour"
           }
          ],
          "contourcarpet": [
           {
            "colorbar": {
             "outlinewidth": 0,
             "ticks": ""
            },
            "type": "contourcarpet"
           }
          ],
          "heatmap": [
           {
            "colorbar": {
             "outlinewidth": 0,
             "ticks": ""
            },
            "colorscale": [
             [
              0,
              "#0d0887"
             ],
             [
              0.1111111111111111,
              "#46039f"
             ],
             [
              0.2222222222222222,
              "#7201a8"
             ],
             [
              0.3333333333333333,
              "#9c179e"
             ],
             [
              0.4444444444444444,
              "#bd3786"
             ],
             [
              0.5555555555555556,
              "#d8576b"
             ],
             [
              0.6666666666666666,
              "#ed7953"
             ],
             [
              0.7777777777777778,
              "#fb9f3a"
             ],
             [
              0.8888888888888888,
              "#fdca26"
             ],
             [
              1,
              "#f0f921"
             ]
            ],
            "type": "heatmap"
           }
          ],
          "heatmapgl": [
           {
            "colorbar": {
             "outlinewidth": 0,
             "ticks": ""
            },
            "colorscale": [
             [
              0,
              "#0d0887"
             ],
             [
              0.1111111111111111,
              "#46039f"
             ],
             [
              0.2222222222222222,
              "#7201a8"
             ],
             [
              0.3333333333333333,
              "#9c179e"
             ],
             [
              0.4444444444444444,
              "#bd3786"
             ],
             [
              0.5555555555555556,
              "#d8576b"
             ],
             [
              0.6666666666666666,
              "#ed7953"
             ],
             [
              0.7777777777777778,
              "#fb9f3a"
             ],
             [
              0.8888888888888888,
              "#fdca26"
             ],
             [
              1,
              "#f0f921"
             ]
            ],
            "type": "heatmapgl"
           }
          ],
          "histogram": [
           {
            "marker": {
             "pattern": {
              "fillmode": "overlay",
              "size": 10,
              "solidity": 0.2
             }
            },
            "type": "histogram"
           }
          ],
          "histogram2d": [
           {
            "colorbar": {
             "outlinewidth": 0,
             "ticks": ""
            },
            "colorscale": [
             [
              0,
              "#0d0887"
             ],
             [
              0.1111111111111111,
              "#46039f"
             ],
             [
              0.2222222222222222,
              "#7201a8"
             ],
             [
              0.3333333333333333,
              "#9c179e"
             ],
             [
              0.4444444444444444,
              "#bd3786"
             ],
             [
              0.5555555555555556,
              "#d8576b"
             ],
             [
              0.6666666666666666,
              "#ed7953"
             ],
             [
              0.7777777777777778,
              "#fb9f3a"
             ],
             [
              0.8888888888888888,
              "#fdca26"
             ],
             [
              1,
              "#f0f921"
             ]
            ],
            "type": "histogram2d"
           }
          ],
          "histogram2dcontour": [
           {
            "colorbar": {
             "outlinewidth": 0,
             "ticks": ""
            },
            "colorscale": [
             [
              0,
              "#0d0887"
             ],
             [
              0.1111111111111111,
              "#46039f"
             ],
             [
              0.2222222222222222,
              "#7201a8"
             ],
             [
              0.3333333333333333,
              "#9c179e"
             ],
             [
              0.4444444444444444,
              "#bd3786"
             ],
             [
              0.5555555555555556,
              "#d8576b"
             ],
             [
              0.6666666666666666,
              "#ed7953"
             ],
             [
              0.7777777777777778,
              "#fb9f3a"
             ],
             [
              0.8888888888888888,
              "#fdca26"
             ],
             [
              1,
              "#f0f921"
             ]
            ],
            "type": "histogram2dcontour"
           }
          ],
          "mesh3d": [
           {
            "colorbar": {
             "outlinewidth": 0,
             "ticks": ""
            },
            "type": "mesh3d"
           }
          ],
          "parcoords": [
           {
            "line": {
             "colorbar": {
              "outlinewidth": 0,
              "ticks": ""
             }
            },
            "type": "parcoords"
           }
          ],
          "pie": [
           {
            "automargin": true,
            "type": "pie"
           }
          ],
          "scatter": [
           {
            "marker": {
             "colorbar": {
              "outlinewidth": 0,
              "ticks": ""
             }
            },
            "type": "scatter"
           }
          ],
          "scatter3d": [
           {
            "line": {
             "colorbar": {
              "outlinewidth": 0,
              "ticks": ""
             }
            },
            "marker": {
             "colorbar": {
              "outlinewidth": 0,
              "ticks": ""
             }
            },
            "type": "scatter3d"
           }
          ],
          "scattercarpet": [
           {
            "marker": {
             "colorbar": {
              "outlinewidth": 0,
              "ticks": ""
             }
            },
            "type": "scattercarpet"
           }
          ],
          "scattergeo": [
           {
            "marker": {
             "colorbar": {
              "outlinewidth": 0,
              "ticks": ""
             }
            },
            "type": "scattergeo"
           }
          ],
          "scattergl": [
           {
            "marker": {
             "colorbar": {
              "outlinewidth": 0,
              "ticks": ""
             }
            },
            "type": "scattergl"
           }
          ],
          "scattermapbox": [
           {
            "marker": {
             "colorbar": {
              "outlinewidth": 0,
              "ticks": ""
             }
            },
            "type": "scattermapbox"
           }
          ],
          "scatterpolar": [
           {
            "marker": {
             "colorbar": {
              "outlinewidth": 0,
              "ticks": ""
             }
            },
            "type": "scatterpolar"
           }
          ],
          "scatterpolargl": [
           {
            "marker": {
             "colorbar": {
              "outlinewidth": 0,
              "ticks": ""
             }
            },
            "type": "scatterpolargl"
           }
          ],
          "scatterternary": [
           {
            "marker": {
             "colorbar": {
              "outlinewidth": 0,
              "ticks": ""
             }
            },
            "type": "scatterternary"
           }
          ],
          "surface": [
           {
            "colorbar": {
             "outlinewidth": 0,
             "ticks": ""
            },
            "colorscale": [
             [
              0,
              "#0d0887"
             ],
             [
              0.1111111111111111,
              "#46039f"
             ],
             [
              0.2222222222222222,
              "#7201a8"
             ],
             [
              0.3333333333333333,
              "#9c179e"
             ],
             [
              0.4444444444444444,
              "#bd3786"
             ],
             [
              0.5555555555555556,
              "#d8576b"
             ],
             [
              0.6666666666666666,
              "#ed7953"
             ],
             [
              0.7777777777777778,
              "#fb9f3a"
             ],
             [
              0.8888888888888888,
              "#fdca26"
             ],
             [
              1,
              "#f0f921"
             ]
            ],
            "type": "surface"
           }
          ],
          "table": [
           {
            "cells": {
             "fill": {
              "color": "#EBF0F8"
             },
             "line": {
              "color": "white"
             }
            },
            "header": {
             "fill": {
              "color": "#C8D4E3"
             },
             "line": {
              "color": "white"
             }
            },
            "type": "table"
           }
          ]
         },
         "layout": {
          "annotationdefaults": {
           "arrowcolor": "#2a3f5f",
           "arrowhead": 0,
           "arrowwidth": 1
          },
          "autotypenumbers": "strict",
          "coloraxis": {
           "colorbar": {
            "outlinewidth": 0,
            "ticks": ""
           }
          },
          "colorscale": {
           "diverging": [
            [
             0,
             "#8e0152"
            ],
            [
             0.1,
             "#c51b7d"
            ],
            [
             0.2,
             "#de77ae"
            ],
            [
             0.3,
             "#f1b6da"
            ],
            [
             0.4,
             "#fde0ef"
            ],
            [
             0.5,
             "#f7f7f7"
            ],
            [
             0.6,
             "#e6f5d0"
            ],
            [
             0.7,
             "#b8e186"
            ],
            [
             0.8,
             "#7fbc41"
            ],
            [
             0.9,
             "#4d9221"
            ],
            [
             1,
             "#276419"
            ]
           ],
           "sequential": [
            [
             0,
             "#0d0887"
            ],
            [
             0.1111111111111111,
             "#46039f"
            ],
            [
             0.2222222222222222,
             "#7201a8"
            ],
            [
             0.3333333333333333,
             "#9c179e"
            ],
            [
             0.4444444444444444,
             "#bd3786"
            ],
            [
             0.5555555555555556,
             "#d8576b"
            ],
            [
             0.6666666666666666,
             "#ed7953"
            ],
            [
             0.7777777777777778,
             "#fb9f3a"
            ],
            [
             0.8888888888888888,
             "#fdca26"
            ],
            [
             1,
             "#f0f921"
            ]
           ],
           "sequentialminus": [
            [
             0,
             "#0d0887"
            ],
            [
             0.1111111111111111,
             "#46039f"
            ],
            [
             0.2222222222222222,
             "#7201a8"
            ],
            [
             0.3333333333333333,
             "#9c179e"
            ],
            [
             0.4444444444444444,
             "#bd3786"
            ],
            [
             0.5555555555555556,
             "#d8576b"
            ],
            [
             0.6666666666666666,
             "#ed7953"
            ],
            [
             0.7777777777777778,
             "#fb9f3a"
            ],
            [
             0.8888888888888888,
             "#fdca26"
            ],
            [
             1,
             "#f0f921"
            ]
           ]
          },
          "colorway": [
           "#636efa",
           "#EF553B",
           "#00cc96",
           "#ab63fa",
           "#FFA15A",
           "#19d3f3",
           "#FF6692",
           "#B6E880",
           "#FF97FF",
           "#FECB52"
          ],
          "font": {
           "color": "#2a3f5f"
          },
          "geo": {
           "bgcolor": "white",
           "lakecolor": "white",
           "landcolor": "#E5ECF6",
           "showlakes": true,
           "showland": true,
           "subunitcolor": "white"
          },
          "hoverlabel": {
           "align": "left"
          },
          "hovermode": "closest",
          "mapbox": {
           "style": "light"
          },
          "paper_bgcolor": "white",
          "plot_bgcolor": "#E5ECF6",
          "polar": {
           "angularaxis": {
            "gridcolor": "white",
            "linecolor": "white",
            "ticks": ""
           },
           "bgcolor": "#E5ECF6",
           "radialaxis": {
            "gridcolor": "white",
            "linecolor": "white",
            "ticks": ""
           }
          },
          "scene": {
           "xaxis": {
            "backgroundcolor": "#E5ECF6",
            "gridcolor": "white",
            "gridwidth": 2,
            "linecolor": "white",
            "showbackground": true,
            "ticks": "",
            "zerolinecolor": "white"
           },
           "yaxis": {
            "backgroundcolor": "#E5ECF6",
            "gridcolor": "white",
            "gridwidth": 2,
            "linecolor": "white",
            "showbackground": true,
            "ticks": "",
            "zerolinecolor": "white"
           },
           "zaxis": {
            "backgroundcolor": "#E5ECF6",
            "gridcolor": "white",
            "gridwidth": 2,
            "linecolor": "white",
            "showbackground": true,
            "ticks": "",
            "zerolinecolor": "white"
           }
          },
          "shapedefaults": {
           "line": {
            "color": "#2a3f5f"
           }
          },
          "ternary": {
           "aaxis": {
            "gridcolor": "white",
            "linecolor": "white",
            "ticks": ""
           },
           "baxis": {
            "gridcolor": "white",
            "linecolor": "white",
            "ticks": ""
           },
           "bgcolor": "#E5ECF6",
           "caxis": {
            "gridcolor": "white",
            "linecolor": "white",
            "ticks": ""
           }
          },
          "title": {
           "x": 0.05
          },
          "xaxis": {
           "automargin": true,
           "gridcolor": "white",
           "linecolor": "white",
           "ticks": "",
           "title": {
            "standoff": 15
           },
           "zerolinecolor": "white",
           "zerolinewidth": 2
          },
          "yaxis": {
           "automargin": true,
           "gridcolor": "white",
           "linecolor": "white",
           "ticks": "",
           "title": {
            "standoff": 15
           },
           "zerolinecolor": "white",
           "zerolinewidth": 2
          }
         }
        },
        "title": {
         "pad": {
          "b": 10
         },
         "text": "Rural Population to Doctors Ratio in India by State/UT in 2019",
         "x": 0.5,
         "xanchor": "center",
         "y": 1,
         "yanchor": "bottom",
         "yref": "paper"
        },
        "width": 550
       }
      },
      "text/html": [
       "<div>                            <div id=\"0f47f822-1c57-45c0-aab2-035e7a58ab35\" class=\"plotly-graph-div\" style=\"height:550px; width:550px;\"></div>            <script type=\"text/javascript\">                require([\"plotly\"], function(Plotly) {                    window.PLOTLYENV=window.PLOTLYENV || {};                                    if (document.getElementById(\"0f47f822-1c57-45c0-aab2-035e7a58ab35\")) {                    Plotly.newPlot(                        \"0f47f822-1c57-45c0-aab2-035e7a58ab35\",                        [{\"autocolorscale\":false,\"colorbar\":{\"bgcolor\":\"rgba(255,255,255,0.6)\",\"dtick\":5000,\"len\":0.35,\"thickness\":15,\"tick0\":5000,\"title\":{\"text\":\"Rural Population:Doctor\"},\"x\":0.001,\"xanchor\":\"left\",\"y\":0.05,\"yanchor\":\"bottom\"},\"colorscale\":[[0.0,\"rgb(214, 249, 207)\"],[0.09090909090909091,\"rgb(186, 228, 174)\"],[0.18181818181818182,\"rgb(156, 209, 143)\"],[0.2727272727272727,\"rgb(124, 191, 115)\"],[0.36363636363636365,\"rgb(85, 174, 91)\"],[0.45454545454545453,\"rgb(37, 157, 81)\"],[0.5454545454545454,\"rgb(7, 138, 78)\"],[0.6363636363636364,\"rgb(13, 117, 71)\"],[0.7272727272727273,\"rgb(23, 95, 61)\"],[0.8181818181818182,\"rgb(25, 75, 49)\"],[0.9090909090909091,\"rgb(23, 55, 35)\"],[1.0,\"rgb(17, 36, 20)\"]],\"featureidkey\":\"properties.ST_NM\",\"geojson\":\"https://gist.githubusercontent.com/jbrobst/56c13bbbf9d97d187fea01ca62ea5112/raw/e388c4cae20aa53cb5090210a42ebb9b765c0a36/india_states.geojson\",\"locationmode\":\"geojson-id\",\"locations\":[\"Andhra Pradesh\",\"Arunachal Pradesh\",\"Assam\",\"Bihar\",\"Chhattisgarh\",\"Goa\",\"Gujarat\",\"Haryana\",\"Himachal Pradesh\",\"Jharkhand\",\"Karnataka\",\"Kerala\",\"Madhya Pradesh\",\"Maharashtra\",\"Manipur\",\"Meghalaya\",\"Mizoram\",\"Nagaland\",\"Odisha\",\"Punjab\",\"Rajasthan\",\"Sikkim\",\"Tamil Nadu\",\"Telangana\",\"Tripura\",\"Uttarakhand\",\"Uttar Pradesh\",\"West Bengal\",\"A& N Islands\"],\"marker\":{\"line\":{\"color\":\"peachpuff\"}},\"z\":[17549.180327868853,9508.333333333334,14309.558466763707,49463.31333640978,56431.937172774866,6901.639344262295,15789.930555555555,31192.10053859964,13458.24847250509,70430.34825870646,14679.73602484472,6881.864623243933,51614.52031114952,18787.834691501746,10165.876777251186,16947.712418300653,9166.666666666666,8957.446808510638,35388.94184938036,27248.85496183206,24292.417260159196,9243.90243902439,18497.95501022495,13868.796736913664,11816.51376146789,24976.35135135135,47708.5152838428,71343.9273552781,6735.294117647059],\"type\":\"choropleth\"}],                        {\"template\":{\"data\":{\"bar\":[{\"error_x\":{\"color\":\"#2a3f5f\"},\"error_y\":{\"color\":\"#2a3f5f\"},\"marker\":{\"line\":{\"color\":\"#E5ECF6\",\"width\":0.5},\"pattern\":{\"fillmode\":\"overlay\",\"size\":10,\"solidity\":0.2}},\"type\":\"bar\"}],\"barpolar\":[{\"marker\":{\"line\":{\"color\":\"#E5ECF6\",\"width\":0.5},\"pattern\":{\"fillmode\":\"overlay\",\"size\":10,\"solidity\":0.2}},\"type\":\"barpolar\"}],\"carpet\":[{\"aaxis\":{\"endlinecolor\":\"#2a3f5f\",\"gridcolor\":\"white\",\"linecolor\":\"white\",\"minorgridcolor\":\"white\",\"startlinecolor\":\"#2a3f5f\"},\"baxis\":{\"endlinecolor\":\"#2a3f5f\",\"gridcolor\":\"white\",\"linecolor\":\"white\",\"minorgridcolor\":\"white\",\"startlinecolor\":\"#2a3f5f\"},\"type\":\"carpet\"}],\"choropleth\":[{\"colorbar\":{\"outlinewidth\":0,\"ticks\":\"\"},\"type\":\"choropleth\"}],\"contour\":[{\"colorbar\":{\"outlinewidth\":0,\"ticks\":\"\"},\"colorscale\":[[0.0,\"#0d0887\"],[0.1111111111111111,\"#46039f\"],[0.2222222222222222,\"#7201a8\"],[0.3333333333333333,\"#9c179e\"],[0.4444444444444444,\"#bd3786\"],[0.5555555555555556,\"#d8576b\"],[0.6666666666666666,\"#ed7953\"],[0.7777777777777778,\"#fb9f3a\"],[0.8888888888888888,\"#fdca26\"],[1.0,\"#f0f921\"]],\"type\":\"contour\"}],\"contourcarpet\":[{\"colorbar\":{\"outlinewidth\":0,\"ticks\":\"\"},\"type\":\"contourcarpet\"}],\"heatmap\":[{\"colorbar\":{\"outlinewidth\":0,\"ticks\":\"\"},\"colorscale\":[[0.0,\"#0d0887\"],[0.1111111111111111,\"#46039f\"],[0.2222222222222222,\"#7201a8\"],[0.3333333333333333,\"#9c179e\"],[0.4444444444444444,\"#bd3786\"],[0.5555555555555556,\"#d8576b\"],[0.6666666666666666,\"#ed7953\"],[0.7777777777777778,\"#fb9f3a\"],[0.8888888888888888,\"#fdca26\"],[1.0,\"#f0f921\"]],\"type\":\"heatmap\"}],\"heatmapgl\":[{\"colorbar\":{\"outlinewidth\":0,\"ticks\":\"\"},\"colorscale\":[[0.0,\"#0d0887\"],[0.1111111111111111,\"#46039f\"],[0.2222222222222222,\"#7201a8\"],[0.3333333333333333,\"#9c179e\"],[0.4444444444444444,\"#bd3786\"],[0.5555555555555556,\"#d8576b\"],[0.6666666666666666,\"#ed7953\"],[0.7777777777777778,\"#fb9f3a\"],[0.8888888888888888,\"#fdca26\"],[1.0,\"#f0f921\"]],\"type\":\"heatmapgl\"}],\"histogram\":[{\"marker\":{\"pattern\":{\"fillmode\":\"overlay\",\"size\":10,\"solidity\":0.2}},\"type\":\"histogram\"}],\"histogram2d\":[{\"colorbar\":{\"outlinewidth\":0,\"ticks\":\"\"},\"colorscale\":[[0.0,\"#0d0887\"],[0.1111111111111111,\"#46039f\"],[0.2222222222222222,\"#7201a8\"],[0.3333333333333333,\"#9c179e\"],[0.4444444444444444,\"#bd3786\"],[0.5555555555555556,\"#d8576b\"],[0.6666666666666666,\"#ed7953\"],[0.7777777777777778,\"#fb9f3a\"],[0.8888888888888888,\"#fdca26\"],[1.0,\"#f0f921\"]],\"type\":\"histogram2d\"}],\"histogram2dcontour\":[{\"colorbar\":{\"outlinewidth\":0,\"ticks\":\"\"},\"colorscale\":[[0.0,\"#0d0887\"],[0.1111111111111111,\"#46039f\"],[0.2222222222222222,\"#7201a8\"],[0.3333333333333333,\"#9c179e\"],[0.4444444444444444,\"#bd3786\"],[0.5555555555555556,\"#d8576b\"],[0.6666666666666666,\"#ed7953\"],[0.7777777777777778,\"#fb9f3a\"],[0.8888888888888888,\"#fdca26\"],[1.0,\"#f0f921\"]],\"type\":\"histogram2dcontour\"}],\"mesh3d\":[{\"colorbar\":{\"outlinewidth\":0,\"ticks\":\"\"},\"type\":\"mesh3d\"}],\"parcoords\":[{\"line\":{\"colorbar\":{\"outlinewidth\":0,\"ticks\":\"\"}},\"type\":\"parcoords\"}],\"pie\":[{\"automargin\":true,\"type\":\"pie\"}],\"scatter\":[{\"marker\":{\"colorbar\":{\"outlinewidth\":0,\"ticks\":\"\"}},\"type\":\"scatter\"}],\"scatter3d\":[{\"line\":{\"colorbar\":{\"outlinewidth\":0,\"ticks\":\"\"}},\"marker\":{\"colorbar\":{\"outlinewidth\":0,\"ticks\":\"\"}},\"type\":\"scatter3d\"}],\"scattercarpet\":[{\"marker\":{\"colorbar\":{\"outlinewidth\":0,\"ticks\":\"\"}},\"type\":\"scattercarpet\"}],\"scattergeo\":[{\"marker\":{\"colorbar\":{\"outlinewidth\":0,\"ticks\":\"\"}},\"type\":\"scattergeo\"}],\"scattergl\":[{\"marker\":{\"colorbar\":{\"outlinewidth\":0,\"ticks\":\"\"}},\"type\":\"scattergl\"}],\"scattermapbox\":[{\"marker\":{\"colorbar\":{\"outlinewidth\":0,\"ticks\":\"\"}},\"type\":\"scattermapbox\"}],\"scatterpolar\":[{\"marker\":{\"colorbar\":{\"outlinewidth\":0,\"ticks\":\"\"}},\"type\":\"scatterpolar\"}],\"scatterpolargl\":[{\"marker\":{\"colorbar\":{\"outlinewidth\":0,\"ticks\":\"\"}},\"type\":\"scatterpolargl\"}],\"scatterternary\":[{\"marker\":{\"colorbar\":{\"outlinewidth\":0,\"ticks\":\"\"}},\"type\":\"scatterternary\"}],\"surface\":[{\"colorbar\":{\"outlinewidth\":0,\"ticks\":\"\"},\"colorscale\":[[0.0,\"#0d0887\"],[0.1111111111111111,\"#46039f\"],[0.2222222222222222,\"#7201a8\"],[0.3333333333333333,\"#9c179e\"],[0.4444444444444444,\"#bd3786\"],[0.5555555555555556,\"#d8576b\"],[0.6666666666666666,\"#ed7953\"],[0.7777777777777778,\"#fb9f3a\"],[0.8888888888888888,\"#fdca26\"],[1.0,\"#f0f921\"]],\"type\":\"surface\"}],\"table\":[{\"cells\":{\"fill\":{\"color\":\"#EBF0F8\"},\"line\":{\"color\":\"white\"}},\"header\":{\"fill\":{\"color\":\"#C8D4E3\"},\"line\":{\"color\":\"white\"}},\"type\":\"table\"}]},\"layout\":{\"annotationdefaults\":{\"arrowcolor\":\"#2a3f5f\",\"arrowhead\":0,\"arrowwidth\":1},\"autotypenumbers\":\"strict\",\"coloraxis\":{\"colorbar\":{\"outlinewidth\":0,\"ticks\":\"\"}},\"colorscale\":{\"diverging\":[[0,\"#8e0152\"],[0.1,\"#c51b7d\"],[0.2,\"#de77ae\"],[0.3,\"#f1b6da\"],[0.4,\"#fde0ef\"],[0.5,\"#f7f7f7\"],[0.6,\"#e6f5d0\"],[0.7,\"#b8e186\"],[0.8,\"#7fbc41\"],[0.9,\"#4d9221\"],[1,\"#276419\"]],\"sequential\":[[0.0,\"#0d0887\"],[0.1111111111111111,\"#46039f\"],[0.2222222222222222,\"#7201a8\"],[0.3333333333333333,\"#9c179e\"],[0.4444444444444444,\"#bd3786\"],[0.5555555555555556,\"#d8576b\"],[0.6666666666666666,\"#ed7953\"],[0.7777777777777778,\"#fb9f3a\"],[0.8888888888888888,\"#fdca26\"],[1.0,\"#f0f921\"]],\"sequentialminus\":[[0.0,\"#0d0887\"],[0.1111111111111111,\"#46039f\"],[0.2222222222222222,\"#7201a8\"],[0.3333333333333333,\"#9c179e\"],[0.4444444444444444,\"#bd3786\"],[0.5555555555555556,\"#d8576b\"],[0.6666666666666666,\"#ed7953\"],[0.7777777777777778,\"#fb9f3a\"],[0.8888888888888888,\"#fdca26\"],[1.0,\"#f0f921\"]]},\"colorway\":[\"#636efa\",\"#EF553B\",\"#00cc96\",\"#ab63fa\",\"#FFA15A\",\"#19d3f3\",\"#FF6692\",\"#B6E880\",\"#FF97FF\",\"#FECB52\"],\"font\":{\"color\":\"#2a3f5f\"},\"geo\":{\"bgcolor\":\"white\",\"lakecolor\":\"white\",\"landcolor\":\"#E5ECF6\",\"showlakes\":true,\"showland\":true,\"subunitcolor\":\"white\"},\"hoverlabel\":{\"align\":\"left\"},\"hovermode\":\"closest\",\"mapbox\":{\"style\":\"light\"},\"paper_bgcolor\":\"white\",\"plot_bgcolor\":\"#E5ECF6\",\"polar\":{\"angularaxis\":{\"gridcolor\":\"white\",\"linecolor\":\"white\",\"ticks\":\"\"},\"bgcolor\":\"#E5ECF6\",\"radialaxis\":{\"gridcolor\":\"white\",\"linecolor\":\"white\",\"ticks\":\"\"}},\"scene\":{\"xaxis\":{\"backgroundcolor\":\"#E5ECF6\",\"gridcolor\":\"white\",\"gridwidth\":2,\"linecolor\":\"white\",\"showbackground\":true,\"ticks\":\"\",\"zerolinecolor\":\"white\"},\"yaxis\":{\"backgroundcolor\":\"#E5ECF6\",\"gridcolor\":\"white\",\"gridwidth\":2,\"linecolor\":\"white\",\"showbackground\":true,\"ticks\":\"\",\"zerolinecolor\":\"white\"},\"zaxis\":{\"backgroundcolor\":\"#E5ECF6\",\"gridcolor\":\"white\",\"gridwidth\":2,\"linecolor\":\"white\",\"showbackground\":true,\"ticks\":\"\",\"zerolinecolor\":\"white\"}},\"shapedefaults\":{\"line\":{\"color\":\"#2a3f5f\"}},\"ternary\":{\"aaxis\":{\"gridcolor\":\"white\",\"linecolor\":\"white\",\"ticks\":\"\"},\"baxis\":{\"gridcolor\":\"white\",\"linecolor\":\"white\",\"ticks\":\"\"},\"bgcolor\":\"#E5ECF6\",\"caxis\":{\"gridcolor\":\"white\",\"linecolor\":\"white\",\"ticks\":\"\"}},\"title\":{\"x\":0.05},\"xaxis\":{\"automargin\":true,\"gridcolor\":\"white\",\"linecolor\":\"white\",\"ticks\":\"\",\"title\":{\"standoff\":15},\"zerolinecolor\":\"white\",\"zerolinewidth\":2},\"yaxis\":{\"automargin\":true,\"gridcolor\":\"white\",\"linecolor\":\"white\",\"ticks\":\"\",\"title\":{\"standoff\":15},\"zerolinecolor\":\"white\",\"zerolinewidth\":2}}},\"geo\":{\"projection\":{\"rotation\":{\"lat\":24,\"lon\":80},\"type\":\"conic conformal\",\"parallels\":[12.472944444,35.172805555556]},\"lonaxis\":{\"range\":[68,98]},\"lataxis\":{\"range\":[6,38]},\"visible\":false},\"title\":{\"pad\":{\"b\":10},\"text\":\"Rural Population to Doctors Ratio in India by State/UT in 2019\",\"xanchor\":\"center\",\"x\":0.5,\"yref\":\"paper\",\"yanchor\":\"bottom\",\"y\":1},\"margin\":{\"r\":0,\"t\":30,\"l\":0,\"b\":0},\"height\":550,\"width\":550},                        {\"responsive\": true}                    ).then(function(){\n",
       "                            \n",
       "var gd = document.getElementById('0f47f822-1c57-45c0-aab2-035e7a58ab35');\n",
       "var x = new MutationObserver(function (mutations, observer) {{\n",
       "        var display = window.getComputedStyle(gd).display;\n",
       "        if (!display || display === 'none') {{\n",
       "            console.log([gd, 'removed!']);\n",
       "            Plotly.purge(gd);\n",
       "            observer.disconnect();\n",
       "        }}\n",
       "}});\n",
       "\n",
       "// Listen for the removal of the full notebook cells\n",
       "var notebookContainer = gd.closest('#notebook-container');\n",
       "if (notebookContainer) {{\n",
       "    x.observe(notebookContainer, {childList: true});\n",
       "}}\n",
       "\n",
       "// Listen for the clearing of the current output cell\n",
       "var outputEl = gd.closest('.output');\n",
       "if (outputEl) {{\n",
       "    x.observe(outputEl, {childList: true});\n",
       "}}\n",
       "\n",
       "                        })                };                });            </script>        </div>"
      ]
     },
     "metadata": {},
     "output_type": "display_data"
    }
   ],
   "source": [
    "import plotly.graph_objects as go\n",
    "fig = go.Figure(data=go.Choropleth(\n",
    "    geojson=\"https://gist.githubusercontent.com/jbrobst/56c13bbbf9d97d187fea01ca62ea5112/raw/e388c4cae20aa53cb5090210a42ebb9b765c0a36/india_states.geojson\",\n",
    "    featureidkey='properties.ST_NM',\n",
    "    locationmode='geojson-id',\n",
    "    locations=d2['State/UT'],\n",
    "    z=d2['Rural Pop to Doc Ratio'],\n",
    "\n",
    "    autocolorscale=False,\n",
    "    colorscale='algae',\n",
    "    marker_line_color='peachpuff',\n",
    "\n",
    "    colorbar=dict(\n",
    "         title={'text': \"Rural Population:Doctor\"},\n",
    "\n",
    "        thickness=15,\n",
    "        len=0.35,\n",
    "        bgcolor='rgba(255,255,255,0.6)',\n",
    "\n",
    "        tick0=5000,\n",
    "        dtick=5000,\n",
    "\n",
    "        xanchor='left',\n",
    "        x=0.001,\n",
    "        yanchor='bottom',\n",
    "        y=0.05\n",
    "    )\n",
    "))\n",
    "\n",
    "fig.update_geos(\n",
    "    visible=False,\n",
    "    projection=dict(\n",
    "        type='conic conformal',\n",
    "        parallels=[12.472944444, 35.172805555556],\n",
    "        rotation={'lat': 24, 'lon': 80}\n",
    "    ),\n",
    "    lonaxis={'range': [68, 98]},\n",
    "    lataxis={'range': [6, 38]}\n",
    ")\n",
    "\n",
    "fig.update_layout(\n",
    "    title=dict(\n",
    "        text=\"Rural Population to Doctors Ratio in India by State/UT in 2019\",\n",
    "        xanchor='center',\n",
    "        x=0.5,\n",
    "        yref='paper',\n",
    "        yanchor='bottom',\n",
    "        y=1,\n",
    "        pad={'b': 10}\n",
    "    ),\n",
    "    margin={'r': 0, 't': 30, 'l': 0, 'b': 0},\n",
    "    height=550,\n",
    "    width=550\n",
    ")\n",
    "\n",
    "fig.show()"
   ]
  },
  {
   "cell_type": "markdown",
   "id": "2d30ab19",
   "metadata": {},
   "source": [
    "# RURAL POPULATION TO HEALTHCARE AND NURSING STAFF RATIO"
   ]
  },
  {
   "cell_type": "code",
   "execution_count": 27,
   "id": "c5aba07c",
   "metadata": {},
   "outputs": [
    {
     "data": {
      "text/plain": [
       "[Text(0.5, 1.0, 'Sates having worst Rural Population to HealthCare and Nursing Staff Ratio in 2019')]"
      ]
     },
     "execution_count": 27,
     "metadata": {},
     "output_type": "execute_result"
    },
    {
     "data": {
      "image/png": "[encoded data removed]",
      "text/plain": [
       "<Figure size 1080x504 with 1 Axes>"
      ]
     },
     "metadata": {
      "needs_background": "light"
     },
     "output_type": "display_data"
    }
   ],
   "source": [
    "# Initialize the matplotlib figure\n",
    "g1, g2 = plt.subplots(figsize=(15, 7))\n",
    "c1=d2.sort_values(by=['Rural Pop to HealthCare Staff Ratio'],ascending=False)\n",
    "c2=c1[-10:]#Best Ratio\n",
    "c1=c1[:10]#Worst Ratio\n",
    "\n",
    "\n",
    "# Plot Sates having Worst Rural Population to HealthCare Staff Ratio in 2019\n",
    "g1=sns.barplot(x=\"Rural Pop to HealthCare Staff Ratio\", y=\"State/UT\", data=c1,\n",
    "            palette=\"rocket\")\n",
    "\n",
    "# Add informative axis label\n",
    "g1.set(xlim=(0, 24), ylabel=\"states\",\n",
    "       xlabel=\" Worst Rural Population to HealthCare and Nursing Staff Ratio in 2019\")\n",
    "sns.despine(left=True, bottom=True)\n",
    "g1.set(xlim=(0, 7000))\n",
    "g1.set(title=\"Sates having worst Rural Population to HealthCare and Nursing Staff Ratio in 2019\")"
   ]
  },
  {
   "cell_type": "code",
   "execution_count": 28,
   "id": "560d8b8a",
   "metadata": {},
   "outputs": [
    {
     "data": {
      "text/plain": [
       "[Text(0.5, 1.0, 'Sates having best Rural Population to HealthCare and Nursing Staff Ratio in 2019')]"
      ]
     },
     "execution_count": 28,
     "metadata": {},
     "output_type": "execute_result"
    },
    {
     "data": {
      "image/png": "[encoded data removed]",
      "text/plain": [
       "<Figure size 432x288 with 1 Axes>"
      ]
     },
     "metadata": {
      "needs_background": "light"
     },
     "output_type": "display_data"
    }
   ],
   "source": [
    "# Plot Sates having Best Rural Population to HealthCare Staff Ratio in 2019\n",
    "g2=sns.barplot(x=\"Rural Pop to HealthCare Staff Ratio\", y=\"State/UT\", data=c2,\n",
    "            palette=\"spring\")\n",
    "\n",
    "# Add informative axis label\n",
    "g2.set(xlim=(0, 24), ylabel=\"states\",\n",
    "       xlabel=\" Best Rural Population to HealthCare and Nursing Staff Ratio in 2019\")\n",
    "sns.despine(left=True, bottom=True)\n",
    "g2.set(xlim=(0, 1000))\n",
    "g2.set(title=\"Sates having best Rural Population to HealthCare and Nursing Staff Ratio in 2019\")"
   ]
  },
  {
   "cell_type": "code",
   "execution_count": 29,
   "id": "2c08fc8e",
   "metadata": {},
   "outputs": [
    {
     "data": {
      "application/vnd.plotly.v1+json": {
       "config": {
        "plotlyServerURL": "https://plot.ly"
       },
       "data": [
        {
         "autocolorscale": false,
         "colorbar": {
          "bgcolor": "rgba(255,255,255,0.6)",
          "dtick": 500,
          "len": 0.35,
          "thickness": 15,
          "tick0": 0,
          "title": {
           "text": "Rural Pop:Nursing Staff"
          },
          "x": 0.0001,
          "xanchor": "left",
          "y": 0.05,
          "yanchor": "bottom"
         },
         "colorscale": [
          [
           0,
           "rgb(214, 249, 207)"
          ],
          [
           0.09090909090909091,
           "rgb(186, 228, 174)"
          ],
          [
           0.18181818181818182,
           "rgb(156, 209, 143)"
          ],
          [
           0.2727272727272727,
           "rgb(124, 191, 115)"
          ],
          [
           0.36363636363636365,
           "rgb(85, 174, 91)"
          ],
          [
           0.45454545454545453,
           "rgb(37, 157, 81)"
          ],
          [
           0.5454545454545454,
           "rgb(7, 138, 78)"
          ],
          [
           0.6363636363636364,
           "rgb(13, 117, 71)"
          ],
          [
           0.7272727272727273,
           "rgb(23, 95, 61)"
          ],
          [
           0.8181818181818182,
           "rgb(25, 75, 49)"
          ],
          [
           0.9090909090909091,
           "rgb(23, 55, 35)"
          ],
          [
           1,
           "rgb(17, 36, 20)"
          ]
         ],
         "featureidkey": "properties.ST_NM",
         "geojson": "https://gist.githubusercontent.com/jbrobst/56c13bbbf9d97d187fea01ca62ea5112/raw/e388c4cae20aa53cb5090210a42ebb9b765c0a36/india_states.geojson",
         "locationmode": "geojson-id",
         "locations": [
          "Andhra Pradesh",
          "Arunachal Pradesh",
          "Assam",
          "Bihar",
          "Chhattisgarh",
          "Goa",
          "Gujarat",
          "Haryana",
          "Himachal Pradesh",
          "Jharkhand",
          "Karnataka",
          "Kerala",
          "Madhya Pradesh",
          "Maharashtra",
          "Manipur",
          "Meghalaya",
          "Mizoram",
          "Nagaland",
          "Odisha",
          "Punjab",
          "Rajasthan",
          "Sikkim",
          "Tamil Nadu",
          "Telangana",
          "Tripura",
          "Uttarakhand",
          "Uttar Pradesh",
          "West Bengal",
          "A& N Islands"
         ],
         "marker": {
          "line": {
           "color": "peachpuff"
          }
         },
         "type": "choropleth",
         "z": [
          2334.150994821477,
          873.6600306278714,
          1983.1887566404412,
          4145.216180679094,
          2286.9722045406324,
          1093.5064935064936,
          2717.764828925743,
          2586.9565217391305,
          2938.194753223655,
          3767.531603459747,
          3158.356301678777,
          1085.1877957909576,
          4079.098360655738,
          2640.178315815304,
          1455.2238805970148,
          1347.7130977130978,
          608.4070796460177,
          909.2872570194385,
          3158.0603998298598,
          2816.919191919192,
          2384.8811384387595,
          1138.1381381381382,
          2279.755528952177,
          2034.2008176288762,
          1981.5384615384614,
          3432.2191272051996,
          3673.433362753751,
          2533.618187681393,
          432.89224952741023
         ]
        }
       ],
       "layout": {
        "geo": {
         "lataxis": {
          "range": [
           6,
           38
          ]
         },
         "lonaxis": {
          "range": [
           68,
           98
          ]
         },
         "projection": {
          "parallels": [
           12.472944444,
           35.172805555556
          ],
          "rotation": {
           "lat": 24,
           "lon": 80
          },
          "type": "conic conformal"
         },
         "visible": false
        },
        "height": 550,
        "margin": {
         "b": 0,
         "l": 0,
         "r": 0,
         "t": 30
        },
        "template": {
         "data": {
          "bar": [
           {
            "error_x": {
             "color": "#2a3f5f"
            },
            "error_y": {
             "color": "#2a3f5f"
            },
            "marker": {
             "line": {
              "color": "#E5ECF6",
              "width": 0.5
             },
             "pattern": {
              "fillmode": "overlay",
              "size": 10,
              "solidity": 0.2
             }
            },
            "type": "bar"
           }
          ],
          "barpolar": [
           {
            "marker": {
             "line": {
              "color": "#E5ECF6",
              "width": 0.5
             },
             "pattern": {
              "fillmode": "overlay",
              "size": 10,
              "solidity": 0.2
             }
            },
            "type": "barpolar"
           }
          ],
          "carpet": [
           {
            "aaxis": {
             "endlinecolor": "#2a3f5f",
             "gridcolor": "white",
             "linecolor": "white",
             "minorgridcolor": "white",
             "startlinecolor": "#2a3f5f"
            },
            "baxis": {
             "endlinecolor": "#2a3f5f",
             "gridcolor": "white",
             "linecolor": "white",
             "minorgridcolor": "white",
             "startlinecolor": "#2a3f5f"
            },
            "type": "carpet"
           }
          ],
          "choropleth": [
           {
            "colorbar": {
             "outlinewidth": 0,
             "ticks": ""
            },
            "type": "choropleth"
           }
          ],
          "contour": [
           {
            "colorbar": {
             "outlinewidth": 0,
             "ticks": ""
            },
            "colorscale": [
             [
              0,
              "#0d0887"
             ],
             [
              0.1111111111111111,
              "#46039f"
             ],
             [
              0.2222222222222222,
              "#7201a8"
             ],
             [
              0.3333333333333333,
              "#9c179e"
             ],
             [
              0.4444444444444444,
              "#bd3786"
             ],
             [
              0.5555555555555556,
              "#d8576b"
             ],
             [
              0.6666666666666666,
              "#ed7953"
             ],
             [
              0.7777777777777778,
              "#fb9f3a"
             ],
             [
              0.8888888888888888,
              "#fdca26"
             ],
             [
              1,
              "#f0f921"
             ]
            ],
            "type": "contour"
           }
          ],
          "contourcarpet": [
           {
            "colorbar": {
             "outlinewidth": 0,
             "ticks": ""
            },
            "type": "contourcarpet"
           }
          ],
          "heatmap": [
           {
            "colorbar": {
             "outlinewidth": 0,
             "ticks": ""
            },
            "colorscale": [
             [
              0,
              "#0d0887"
             ],
             [
              0.1111111111111111,
              "#46039f"
             ],
             [
              0.2222222222222222,
              "#7201a8"
             ],
             [
              0.3333333333333333,
              "#9c179e"
             ],
             [
              0.4444444444444444,
              "#bd3786"
             ],
             [
              0.5555555555555556,
              "#d8576b"
             ],
             [
              0.6666666666666666,
              "#ed7953"
             ],
             [
              0.7777777777777778,
              "#fb9f3a"
             ],
             [
              0.8888888888888888,
              "#fdca26"
             ],
             [
              1,
              "#f0f921"
             ]
            ],
            "type": "heatmap"
           }
          ],
          "heatmapgl": [
           {
            "colorbar": {
             "outlinewidth": 0,
             "ticks": ""
            },
            "colorscale": [
             [
              0,
              "#0d0887"
             ],
             [
              0.1111111111111111,
              "#46039f"
             ],
             [
              0.2222222222222222,
              "#7201a8"
             ],
             [
              0.3333333333333333,
              "#9c179e"
             ],
             [
              0.4444444444444444,
              "#bd3786"
             ],
             [
              0.5555555555555556,
              "#d8576b"
             ],
             [
              0.6666666666666666,
              "#ed7953"
             ],
             [
              0.7777777777777778,
              "#fb9f3a"
             ],
             [
              0.8888888888888888,
              "#fdca26"
             ],
             [
              1,
              "#f0f921"
             ]
            ],
            "type": "heatmapgl"
           }
          ],
          "histogram": [
           {
            "marker": {
             "pattern": {
              "fillmode": "overlay",
              "size": 10,
              "solidity": 0.2
             }
            },
            "type": "histogram"
           }
          ],
          "histogram2d": [
           {
            "colorbar": {
             "outlinewidth": 0,
             "ticks": ""
            },
            "colorscale": [
             [
              0,
              "#0d0887"
             ],
             [
              0.1111111111111111,
              "#46039f"
             ],
             [
              0.2222222222222222,
              "#7201a8"
             ],
             [
              0.3333333333333333,
              "#9c179e"
             ],
             [
              0.4444444444444444,
              "#bd3786"
             ],
             [
              0.5555555555555556,
              "#d8576b"
             ],
             [
              0.6666666666666666,
              "#ed7953"
             ],
             [
              0.7777777777777778,
              "#fb9f3a"
             ],
             [
              0.8888888888888888,
              "#fdca26"
             ],
             [
              1,
              "#f0f921"
             ]
            ],
            "type": "histogram2d"
           }
          ],
          "histogram2dcontour": [
           {
            "colorbar": {
             "outlinewidth": 0,
             "ticks": ""
            },
            "colorscale": [
             [
              0,
              "#0d0887"
             ],
             [
              0.1111111111111111,
              "#46039f"
             ],
             [
              0.2222222222222222,
              "#7201a8"
             ],
             [
              0.3333333333333333,
              "#9c179e"
             ],
             [
              0.4444444444444444,
              "#bd3786"
             ],
             [
              0.5555555555555556,
              "#d8576b"
             ],
             [
              0.6666666666666666,
              "#ed7953"
             ],
             [
              0.7777777777777778,
              "#fb9f3a"
             ],
             [
              0.8888888888888888,
              "#fdca26"
             ],
             [
              1,
              "#f0f921"
             ]
            ],
            "type": "histogram2dcontour"
           }
          ],
          "mesh3d": [
           {
            "colorbar": {
             "outlinewidth": 0,
             "ticks": ""
            },
            "type": "mesh3d"
           }
          ],
          "parcoords": [
           {
            "line": {
             "colorbar": {
              "outlinewidth": 0,
              "ticks": ""
             }
            },
            "type": "parcoords"
           }
          ],
          "pie": [
           {
            "automargin": true,
            "type": "pie"
           }
          ],
          "scatter": [
           {
            "marker": {
             "colorbar": {
              "outlinewidth": 0,
              "ticks": ""
             }
            },
            "type": "scatter"
           }
          ],
          "scatter3d": [
           {
            "line": {
             "colorbar": {
              "outlinewidth": 0,
              "ticks": ""
             }
            },
            "marker": {
             "colorbar": {
              "outlinewidth": 0,
              "ticks": ""
             }
            },
            "type": "scatter3d"
           }
          ],
          "scattercarpet": [
           {
            "marker": {
             "colorbar": {
              "outlinewidth": 0,
              "ticks": ""
             }
            },
            "type": "scattercarpet"
           }
          ],
          "scattergeo": [
           {
            "marker": {
             "colorbar": {
              "outlinewidth": 0,
              "ticks": ""
             }
            },
            "type": "scattergeo"
           }
          ],
          "scattergl": [
           {
            "marker": {
             "colorbar": {
              "outlinewidth": 0,
              "ticks": ""
             }
            },
            "type": "scattergl"
           }
          ],
          "scattermapbox": [
           {
            "marker": {
             "colorbar": {
              "outlinewidth": 0,
              "ticks": ""
             }
            },
            "type": "scattermapbox"
           }
          ],
          "scatterpolar": [
           {
            "marker": {
             "colorbar": {
              "outlinewidth": 0,
              "ticks": ""
             }
            },
            "type": "scatterpolar"
           }
          ],
          "scatterpolargl": [
           {
            "marker": {
             "colorbar": {
              "outlinewidth": 0,
              "ticks": ""
             }
            },
            "type": "scatterpolargl"
           }
          ],
          "scatterternary": [
           {
            "marker": {
             "colorbar": {
              "outlinewidth": 0,
              "ticks": ""
             }
            },
            "type": "scatterternary"
           }
          ],
          "surface": [
           {
            "colorbar": {
             "outlinewidth": 0,
             "ticks": ""
            },
            "colorscale": [
             [
              0,
              "#0d0887"
             ],
             [
              0.1111111111111111,
              "#46039f"
             ],
             [
              0.2222222222222222,
              "#7201a8"
             ],
             [
              0.3333333333333333,
              "#9c179e"
             ],
             [
              0.4444444444444444,
              "#bd3786"
             ],
             [
              0.5555555555555556,
              "#d8576b"
             ],
             [
              0.6666666666666666,
              "#ed7953"
             ],
             [
              0.7777777777777778,
              "#fb9f3a"
             ],
             [
              0.8888888888888888,
              "#fdca26"
             ],
             [
              1,
              "#f0f921"
             ]
            ],
            "type": "surface"
           }
          ],
          "table": [
           {
            "cells": {
             "fill": {
              "color": "#EBF0F8"
             },
             "line": {
              "color": "white"
             }
            },
            "header": {
             "fill": {
              "color": "#C8D4E3"
             },
             "line": {
              "color": "white"
             }
            },
            "type": "table"
           }
          ]
         },
         "layout": {
          "annotationdefaults": {
           "arrowcolor": "#2a3f5f",
           "arrowhead": 0,
           "arrowwidth": 1
          },
          "autotypenumbers": "strict",
          "coloraxis": {
           "colorbar": {
            "outlinewidth": 0,
            "ticks": ""
           }
          },
          "colorscale": {
           "diverging": [
            [
             0,
             "#8e0152"
            ],
            [
             0.1,
             "#c51b7d"
            ],
            [
             0.2,
             "#de77ae"
            ],
            [
             0.3,
             "#f1b6da"
            ],
            [
             0.4,
             "#fde0ef"
            ],
            [
             0.5,
             "#f7f7f7"
            ],
            [
             0.6,
             "#e6f5d0"
            ],
            [
             0.7,
             "#b8e186"
            ],
            [
             0.8,
             "#7fbc41"
            ],
            [
             0.9,
             "#4d9221"
            ],
            [
             1,
             "#276419"
            ]
           ],
           "sequential": [
            [
             0,
             "#0d0887"
            ],
            [
             0.1111111111111111,
             "#46039f"
            ],
            [
             0.2222222222222222,
             "#7201a8"
            ],
            [
             0.3333333333333333,
             "#9c179e"
            ],
            [
             0.4444444444444444,
             "#bd3786"
            ],
            [
             0.5555555555555556,
             "#d8576b"
            ],
            [
             0.6666666666666666,
             "#ed7953"
            ],
            [
             0.7777777777777778,
             "#fb9f3a"
            ],
            [
             0.8888888888888888,
             "#fdca26"
            ],
            [
             1,
             "#f0f921"
            ]
           ],
           "sequentialminus": [
            [
             0,
             "#0d0887"
            ],
            [
             0.1111111111111111,
             "#46039f"
            ],
            [
             0.2222222222222222,
             "#7201a8"
            ],
            [
             0.3333333333333333,
             "#9c179e"
            ],
            [
             0.4444444444444444,
             "#bd3786"
            ],
            [
             0.5555555555555556,
             "#d8576b"
            ],
            [
             0.6666666666666666,
             "#ed7953"
            ],
            [
             0.7777777777777778,
             "#fb9f3a"
            ],
            [
             0.8888888888888888,
             "#fdca26"
            ],
            [
             1,
             "#f0f921"
            ]
           ]
          },
          "colorway": [
           "#636efa",
           "#EF553B",
           "#00cc96",
           "#ab63fa",
           "#FFA15A",
           "#19d3f3",
           "#FF6692",
           "#B6E880",
           "#FF97FF",
           "#FECB52"
          ],
          "font": {
           "color": "#2a3f5f"
          },
          "geo": {
           "bgcolor": "white",
           "lakecolor": "white",
           "landcolor": "#E5ECF6",
           "showlakes": true,
           "showland": true,
           "subunitcolor": "white"
          },
          "hoverlabel": {
           "align": "left"
          },
          "hovermode": "closest",
          "mapbox": {
           "style": "light"
          },
          "paper_bgcolor": "white",
          "plot_bgcolor": "#E5ECF6",
          "polar": {
           "angularaxis": {
            "gridcolor": "white",
            "linecolor": "white",
            "ticks": ""
           },
           "bgcolor": "#E5ECF6",
           "radialaxis": {
            "gridcolor": "white",
            "linecolor": "white",
            "ticks": ""
           }
          },
          "scene": {
           "xaxis": {
            "backgroundcolor": "#E5ECF6",
            "gridcolor": "white",
            "gridwidth": 2,
            "linecolor": "white",
            "showbackground": true,
            "ticks": "",
            "zerolinecolor": "white"
           },
           "yaxis": {
            "backgroundcolor": "#E5ECF6",
            "gridcolor": "white",
            "gridwidth": 2,
            "linecolor": "white",
            "showbackground": true,
            "ticks": "",
            "zerolinecolor": "white"
           },
           "zaxis": {
            "backgroundcolor": "#E5ECF6",
            "gridcolor": "white",
            "gridwidth": 2,
            "linecolor": "white",
            "showbackground": true,
            "ticks": "",
            "zerolinecolor": "white"
           }
          },
          "shapedefaults": {
           "line": {
            "color": "#2a3f5f"
           }
          },
          "ternary": {
           "aaxis": {
            "gridcolor": "white",
            "linecolor": "white",
            "ticks": ""
           },
           "baxis": {
            "gridcolor": "white",
            "linecolor": "white",
            "ticks": ""
           },
           "bgcolor": "#E5ECF6",
           "caxis": {
            "gridcolor": "white",
            "linecolor": "white",
            "ticks": ""
           }
          },
          "title": {
           "x": 0.05
          },
          "xaxis": {
           "automargin": true,
           "gridcolor": "white",
           "linecolor": "white",
           "ticks": "",
           "title": {
            "standoff": 15
           },
           "zerolinecolor": "white",
           "zerolinewidth": 2
          },
          "yaxis": {
           "automargin": true,
           "gridcolor": "white",
           "linecolor": "white",
           "ticks": "",
           "title": {
            "standoff": 15
           },
           "zerolinecolor": "white",
           "zerolinewidth": 2
          }
         }
        },
        "title": {
         "pad": {
          "b": 10
         },
         "text": " Rural Population to HealthCare and Nursing Staff's Ratio in Rural India(2019)",
         "x": 0.5,
         "xanchor": "center",
         "y": 1,
         "yanchor": "bottom",
         "yref": "paper"
        },
        "width": 550
       }
      },
      "text/html": [
       "<div>                            <div id=\"f4bf651a-51a2-47a9-9783-39b730b76bc7\" class=\"plotly-graph-div\" style=\"height:550px; width:550px;\"></div>            <script type=\"text/javascript\">                require([\"plotly\"], function(Plotly) {                    window.PLOTLYENV=window.PLOTLYENV || {};                                    if (document.getElementById(\"f4bf651a-51a2-47a9-9783-39b730b76bc7\")) {                    Plotly.newPlot(                        \"f4bf651a-51a2-47a9-9783-39b730b76bc7\",                        [{\"autocolorscale\":false,\"colorbar\":{\"bgcolor\":\"rgba(255,255,255,0.6)\",\"dtick\":500,\"len\":0.35,\"thickness\":15,\"tick0\":0,\"title\":{\"text\":\"Rural Pop:Nursing Staff\"},\"x\":0.0001,\"xanchor\":\"left\",\"y\":0.05,\"yanchor\":\"bottom\"},\"colorscale\":[[0.0,\"rgb(214, 249, 207)\"],[0.09090909090909091,\"rgb(186, 228, 174)\"],[0.18181818181818182,\"rgb(156, 209, 143)\"],[0.2727272727272727,\"rgb(124, 191, 115)\"],[0.36363636363636365,\"rgb(85, 174, 91)\"],[0.45454545454545453,\"rgb(37, 157, 81)\"],[0.5454545454545454,\"rgb(7, 138, 78)\"],[0.6363636363636364,\"rgb(13, 117, 71)\"],[0.7272727272727273,\"rgb(23, 95, 61)\"],[0.8181818181818182,\"rgb(25, 75, 49)\"],[0.9090909090909091,\"rgb(23, 55, 35)\"],[1.0,\"rgb(17, 36, 20)\"]],\"featureidkey\":\"properties.ST_NM\",\"geojson\":\"https://gist.githubusercontent.com/jbrobst/56c13bbbf9d97d187fea01ca62ea5112/raw/e388c4cae20aa53cb5090210a42ebb9b765c0a36/india_states.geojson\",\"locationmode\":\"geojson-id\",\"locations\":[\"Andhra Pradesh\",\"Arunachal Pradesh\",\"Assam\",\"Bihar\",\"Chhattisgarh\",\"Goa\",\"Gujarat\",\"Haryana\",\"Himachal Pradesh\",\"Jharkhand\",\"Karnataka\",\"Kerala\",\"Madhya Pradesh\",\"Maharashtra\",\"Manipur\",\"Meghalaya\",\"Mizoram\",\"Nagaland\",\"Odisha\",\"Punjab\",\"Rajasthan\",\"Sikkim\",\"Tamil Nadu\",\"Telangana\",\"Tripura\",\"Uttarakhand\",\"Uttar Pradesh\",\"West Bengal\",\"A& N Islands\"],\"marker\":{\"line\":{\"color\":\"peachpuff\"}},\"z\":[2334.150994821477,873.6600306278714,1983.1887566404412,4145.216180679094,2286.9722045406324,1093.5064935064936,2717.764828925743,2586.9565217391305,2938.194753223655,3767.531603459747,3158.356301678777,1085.1877957909576,4079.098360655738,2640.178315815304,1455.2238805970148,1347.7130977130978,608.4070796460177,909.2872570194385,3158.0603998298598,2816.919191919192,2384.8811384387595,1138.1381381381382,2279.755528952177,2034.2008176288762,1981.5384615384614,3432.2191272051996,3673.433362753751,2533.618187681393,432.89224952741023],\"type\":\"choropleth\"}],                        {\"template\":{\"data\":{\"bar\":[{\"error_x\":{\"color\":\"#2a3f5f\"},\"error_y\":{\"color\":\"#2a3f5f\"},\"marker\":{\"line\":{\"color\":\"#E5ECF6\",\"width\":0.5},\"pattern\":{\"fillmode\":\"overlay\",\"size\":10,\"solidity\":0.2}},\"type\":\"bar\"}],\"barpolar\":[{\"marker\":{\"line\":{\"color\":\"#E5ECF6\",\"width\":0.5},\"pattern\":{\"fillmode\":\"overlay\",\"size\":10,\"solidity\":0.2}},\"type\":\"barpolar\"}],\"carpet\":[{\"aaxis\":{\"endlinecolor\":\"#2a3f5f\",\"gridcolor\":\"white\",\"linecolor\":\"white\",\"minorgridcolor\":\"white\",\"startlinecolor\":\"#2a3f5f\"},\"baxis\":{\"endlinecolor\":\"#2a3f5f\",\"gridcolor\":\"white\",\"linecolor\":\"white\",\"minorgridcolor\":\"white\",\"startlinecolor\":\"#2a3f5f\"},\"type\":\"carpet\"}],\"choropleth\":[{\"colorbar\":{\"outlinewidth\":0,\"ticks\":\"\"},\"type\":\"choropleth\"}],\"contour\":[{\"colorbar\":{\"outlinewidth\":0,\"ticks\":\"\"},\"colorscale\":[[0.0,\"#0d0887\"],[0.1111111111111111,\"#46039f\"],[0.2222222222222222,\"#7201a8\"],[0.3333333333333333,\"#9c179e\"],[0.4444444444444444,\"#bd3786\"],[0.5555555555555556,\"#d8576b\"],[0.6666666666666666,\"#ed7953\"],[0.7777777777777778,\"#fb9f3a\"],[0.8888888888888888,\"#fdca26\"],[1.0,\"#f0f921\"]],\"type\":\"contour\"}],\"contourcarpet\":[{\"colorbar\":{\"outlinewidth\":0,\"ticks\":\"\"},\"type\":\"contourcarpet\"}],\"heatmap\":[{\"colorbar\":{\"outlinewidth\":0,\"ticks\":\"\"},\"colorscale\":[[0.0,\"#0d0887\"],[0.1111111111111111,\"#46039f\"],[0.2222222222222222,\"#7201a8\"],[0.3333333333333333,\"#9c179e\"],[0.4444444444444444,\"#bd3786\"],[0.5555555555555556,\"#d8576b\"],[0.6666666666666666,\"#ed7953\"],[0.7777777777777778,\"#fb9f3a\"],[0.8888888888888888,\"#fdca26\"],[1.0,\"#f0f921\"]],\"type\":\"heatmap\"}],\"heatmapgl\":[{\"colorbar\":{\"outlinewidth\":0,\"ticks\":\"\"},\"colorscale\":[[0.0,\"#0d0887\"],[0.1111111111111111,\"#46039f\"],[0.2222222222222222,\"#7201a8\"],[0.3333333333333333,\"#9c179e\"],[0.4444444444444444,\"#bd3786\"],[0.5555555555555556,\"#d8576b\"],[0.6666666666666666,\"#ed7953\"],[0.7777777777777778,\"#fb9f3a\"],[0.8888888888888888,\"#fdca26\"],[1.0,\"#f0f921\"]],\"type\":\"heatmapgl\"}],\"histogram\":[{\"marker\":{\"pattern\":{\"fillmode\":\"overlay\",\"size\":10,\"solidity\":0.2}},\"type\":\"histogram\"}],\"histogram2d\":[{\"colorbar\":{\"outlinewidth\":0,\"ticks\":\"\"},\"colorscale\":[[0.0,\"#0d0887\"],[0.1111111111111111,\"#46039f\"],[0.2222222222222222,\"#7201a8\"],[0.3333333333333333,\"#9c179e\"],[0.4444444444444444,\"#bd3786\"],[0.5555555555555556,\"#d8576b\"],[0.6666666666666666,\"#ed7953\"],[0.7777777777777778,\"#fb9f3a\"],[0.8888888888888888,\"#fdca26\"],[1.0,\"#f0f921\"]],\"type\":\"histogram2d\"}],\"histogram2dcontour\":[{\"colorbar\":{\"outlinewidth\":0,\"ticks\":\"\"},\"colorscale\":[[0.0,\"#0d0887\"],[0.1111111111111111,\"#46039f\"],[0.2222222222222222,\"#7201a8\"],[0.3333333333333333,\"#9c179e\"],[0.4444444444444444,\"#bd3786\"],[0.5555555555555556,\"#d8576b\"],[0.6666666666666666,\"#ed7953\"],[0.7777777777777778,\"#fb9f3a\"],[0.8888888888888888,\"#fdca26\"],[1.0,\"#f0f921\"]],\"type\":\"histogram2dcontour\"}],\"mesh3d\":[{\"colorbar\":{\"outlinewidth\":0,\"ticks\":\"\"},\"type\":\"mesh3d\"}],\"parcoords\":[{\"line\":{\"colorbar\":{\"outlinewidth\":0,\"ticks\":\"\"}},\"type\":\"parcoords\"}],\"pie\":[{\"automargin\":true,\"type\":\"pie\"}],\"scatter\":[{\"marker\":{\"colorbar\":{\"outlinewidth\":0,\"ticks\":\"\"}},\"type\":\"scatter\"}],\"scatter3d\":[{\"line\":{\"colorbar\":{\"outlinewidth\":0,\"ticks\":\"\"}},\"marker\":{\"colorbar\":{\"outlinewidth\":0,\"ticks\":\"\"}},\"type\":\"scatter3d\"}],\"scattercarpet\":[{\"marker\":{\"colorbar\":{\"outlinewidth\":0,\"ticks\":\"\"}},\"type\":\"scattercarpet\"}],\"scattergeo\":[{\"marker\":{\"colorbar\":{\"outlinewidth\":0,\"ticks\":\"\"}},\"type\":\"scattergeo\"}],\"scattergl\":[{\"marker\":{\"colorbar\":{\"outlinewidth\":0,\"ticks\":\"\"}},\"type\":\"scattergl\"}],\"scattermapbox\":[{\"marker\":{\"colorbar\":{\"outlinewidth\":0,\"ticks\":\"\"}},\"type\":\"scattermapbox\"}],\"scatterpolar\":[{\"marker\":{\"colorbar\":{\"outlinewidth\":0,\"ticks\":\"\"}},\"type\":\"scatterpolar\"}],\"scatterpolargl\":[{\"marker\":{\"colorbar\":{\"outlinewidth\":0,\"ticks\":\"\"}},\"type\":\"scatterpolargl\"}],\"scatterternary\":[{\"marker\":{\"colorbar\":{\"outlinewidth\":0,\"ticks\":\"\"}},\"type\":\"scatterternary\"}],\"surface\":[{\"colorbar\":{\"outlinewidth\":0,\"ticks\":\"\"},\"colorscale\":[[0.0,\"#0d0887\"],[0.1111111111111111,\"#46039f\"],[0.2222222222222222,\"#7201a8\"],[0.3333333333333333,\"#9c179e\"],[0.4444444444444444,\"#bd3786\"],[0.5555555555555556,\"#d8576b\"],[0.6666666666666666,\"#ed7953\"],[0.7777777777777778,\"#fb9f3a\"],[0.8888888888888888,\"#fdca26\"],[1.0,\"#f0f921\"]],\"type\":\"surface\"}],\"table\":[{\"cells\":{\"fill\":{\"color\":\"#EBF0F8\"},\"line\":{\"color\":\"white\"}},\"header\":{\"fill\":{\"color\":\"#C8D4E3\"},\"line\":{\"color\":\"white\"}},\"type\":\"table\"}]},\"layout\":{\"annotationdefaults\":{\"arrowcolor\":\"#2a3f5f\",\"arrowhead\":0,\"arrowwidth\":1},\"autotypenumbers\":\"strict\",\"coloraxis\":{\"colorbar\":{\"outlinewidth\":0,\"ticks\":\"\"}},\"colorscale\":{\"diverging\":[[0,\"#8e0152\"],[0.1,\"#c51b7d\"],[0.2,\"#de77ae\"],[0.3,\"#f1b6da\"],[0.4,\"#fde0ef\"],[0.5,\"#f7f7f7\"],[0.6,\"#e6f5d0\"],[0.7,\"#b8e186\"],[0.8,\"#7fbc41\"],[0.9,\"#4d9221\"],[1,\"#276419\"]],\"sequential\":[[0.0,\"#0d0887\"],[0.1111111111111111,\"#46039f\"],[0.2222222222222222,\"#7201a8\"],[0.3333333333333333,\"#9c179e\"],[0.4444444444444444,\"#bd3786\"],[0.5555555555555556,\"#d8576b\"],[0.6666666666666666,\"#ed7953\"],[0.7777777777777778,\"#fb9f3a\"],[0.8888888888888888,\"#fdca26\"],[1.0,\"#f0f921\"]],\"sequentialminus\":[[0.0,\"#0d0887\"],[0.1111111111111111,\"#46039f\"],[0.2222222222222222,\"#7201a8\"],[0.3333333333333333,\"#9c179e\"],[0.4444444444444444,\"#bd3786\"],[0.5555555555555556,\"#d8576b\"],[0.6666666666666666,\"#ed7953\"],[0.7777777777777778,\"#fb9f3a\"],[0.8888888888888888,\"#fdca26\"],[1.0,\"#f0f921\"]]},\"colorway\":[\"#636efa\",\"#EF553B\",\"#00cc96\",\"#ab63fa\",\"#FFA15A\",\"#19d3f3\",\"#FF6692\",\"#B6E880\",\"#FF97FF\",\"#FECB52\"],\"font\":{\"color\":\"#2a3f5f\"},\"geo\":{\"bgcolor\":\"white\",\"lakecolor\":\"white\",\"landcolor\":\"#E5ECF6\",\"showlakes\":true,\"showland\":true,\"subunitcolor\":\"white\"},\"hoverlabel\":{\"align\":\"left\"},\"hovermode\":\"closest\",\"mapbox\":{\"style\":\"light\"},\"paper_bgcolor\":\"white\",\"plot_bgcolor\":\"#E5ECF6\",\"polar\":{\"angularaxis\":{\"gridcolor\":\"white\",\"linecolor\":\"white\",\"ticks\":\"\"},\"bgcolor\":\"#E5ECF6\",\"radialaxis\":{\"gridcolor\":\"white\",\"linecolor\":\"white\",\"ticks\":\"\"}},\"scene\":{\"xaxis\":{\"backgroundcolor\":\"#E5ECF6\",\"gridcolor\":\"white\",\"gridwidth\":2,\"linecolor\":\"white\",\"showbackground\":true,\"ticks\":\"\",\"zerolinecolor\":\"white\"},\"yaxis\":{\"backgroundcolor\":\"#E5ECF6\",\"gridcolor\":\"white\",\"gridwidth\":2,\"linecolor\":\"white\",\"showbackground\":true,\"ticks\":\"\",\"zerolinecolor\":\"white\"},\"zaxis\":{\"backgroundcolor\":\"#E5ECF6\",\"gridcolor\":\"white\",\"gridwidth\":2,\"linecolor\":\"white\",\"showbackground\":true,\"ticks\":\"\",\"zerolinecolor\":\"white\"}},\"shapedefaults\":{\"line\":{\"color\":\"#2a3f5f\"}},\"ternary\":{\"aaxis\":{\"gridcolor\":\"white\",\"linecolor\":\"white\",\"ticks\":\"\"},\"baxis\":{\"gridcolor\":\"white\",\"linecolor\":\"white\",\"ticks\":\"\"},\"bgcolor\":\"#E5ECF6\",\"caxis\":{\"gridcolor\":\"white\",\"linecolor\":\"white\",\"ticks\":\"\"}},\"title\":{\"x\":0.05},\"xaxis\":{\"automargin\":true,\"gridcolor\":\"white\",\"linecolor\":\"white\",\"ticks\":\"\",\"title\":{\"standoff\":15},\"zerolinecolor\":\"white\",\"zerolinewidth\":2},\"yaxis\":{\"automargin\":true,\"gridcolor\":\"white\",\"linecolor\":\"white\",\"ticks\":\"\",\"title\":{\"standoff\":15},\"zerolinecolor\":\"white\",\"zerolinewidth\":2}}},\"geo\":{\"projection\":{\"rotation\":{\"lat\":24,\"lon\":80},\"type\":\"conic conformal\",\"parallels\":[12.472944444,35.172805555556]},\"lonaxis\":{\"range\":[68,98]},\"lataxis\":{\"range\":[6,38]},\"visible\":false},\"title\":{\"pad\":{\"b\":10},\"text\":\" Rural Population to HealthCare and Nursing Staff's Ratio in Rural India(2019)\",\"xanchor\":\"center\",\"x\":0.5,\"yref\":\"paper\",\"yanchor\":\"bottom\",\"y\":1},\"margin\":{\"r\":0,\"t\":30,\"l\":0,\"b\":0},\"height\":550,\"width\":550},                        {\"responsive\": true}                    ).then(function(){\n",
       "                            \n",
       "var gd = document.getElementById('f4bf651a-51a2-47a9-9783-39b730b76bc7');\n",
       "var x = new MutationObserver(function (mutations, observer) {{\n",
       "        var display = window.getComputedStyle(gd).display;\n",
       "        if (!display || display === 'none') {{\n",
       "            console.log([gd, 'removed!']);\n",
       "            Plotly.purge(gd);\n",
       "            observer.disconnect();\n",
       "        }}\n",
       "}});\n",
       "\n",
       "// Listen for the removal of the full notebook cells\n",
       "var notebookContainer = gd.closest('#notebook-container');\n",
       "if (notebookContainer) {{\n",
       "    x.observe(notebookContainer, {childList: true});\n",
       "}}\n",
       "\n",
       "// Listen for the clearing of the current output cell\n",
       "var outputEl = gd.closest('.output');\n",
       "if (outputEl) {{\n",
       "    x.observe(outputEl, {childList: true});\n",
       "}}\n",
       "\n",
       "                        })                };                });            </script>        </div>"
      ]
     },
     "metadata": {},
     "output_type": "display_data"
    }
   ],
   "source": [
    "##Map of Rural Population to HealthCare and Nursing Staff's Ratio in 2019\n",
    "import plotly.graph_objects as go\n",
    "fig = go.Figure(data=go.Choropleth(\n",
    "    geojson=\"https://gist.githubusercontent.com/jbrobst/56c13bbbf9d97d187fea01ca62ea5112/raw/e388c4cae20aa53cb5090210a42ebb9b765c0a36/india_states.geojson\",\n",
    "    featureidkey='properties.ST_NM',\n",
    "    locationmode='geojson-id',\n",
    "    locations=d2['State/UT'],\n",
    "    z=d2['Rural Pop to HealthCare Staff Ratio'],\n",
    "\n",
    "    autocolorscale=False,\n",
    "    colorscale='algae',\n",
    "    marker_line_color='peachpuff',\n",
    "\n",
    "    colorbar=dict(\n",
    "         title={'text': \"Rural Pop:Nursing Staff\"},\n",
    "\n",
    "        thickness=15,\n",
    "        len=0.35,\n",
    "        bgcolor='rgba(255,255,255,0.6)',\n",
    "\n",
    "        tick0=0,\n",
    "        dtick=500,\n",
    "\n",
    "        xanchor='left',\n",
    "        x=0.0001,\n",
    "        yanchor='bottom',\n",
    "        y=0.05\n",
    "    )\n",
    "))\n",
    "fig.update_geos(\n",
    "    visible=False,\n",
    "    projection=dict(\n",
    "        type='conic conformal',\n",
    "        parallels=[12.472944444, 35.172805555556],\n",
    "        rotation={'lat': 24, 'lon': 80}\n",
    "    ),\n",
    "    lonaxis={'range': [68, 98]},\n",
    "    lataxis={'range': [6, 38]}\n",
    ")\n",
    "\n",
    "fig.update_layout(\n",
    "    title=dict(\n",
    "        text=\" Rural Population to HealthCare and Nursing Staff's Ratio in Rural India(2019)\",\n",
    "        xanchor='center',\n",
    "        x=0.5,\n",
    "        yref='paper',\n",
    "        yanchor='bottom',\n",
    "        y=1,\n",
    "        pad={'b': 10}\n",
    "    ),\n",
    "    margin={'r': 0, 't': 30, 'l': 0, 'b': 0},\n",
    "    height=550,\n",
    "    width=550\n",
    ")\n",
    "\n",
    "fig.show()"
   ]
  },
  {
   "cell_type": "markdown",
   "id": "7186d979",
   "metadata": {},
   "source": [
    "# RURAL POPULATION TO PRIMARY HEALTH CENTER RATIO"
   ]
  },
  {
   "cell_type": "code",
   "execution_count": 30,
   "id": "da4948a8",
   "metadata": {},
   "outputs": [
    {
     "data": {
      "text/plain": [
       "[Text(0.5, 1.0, 'Sates having Worst Rural population to HealthCare Centers Ratio in 2019')]"
      ]
     },
     "execution_count": 30,
     "metadata": {},
     "output_type": "execute_result"
    },
    {
     "data": {
      "image/png": "[encoded data removed]",
      "text/plain": [
       "<Figure size 1080x504 with 1 Axes>"
      ]
     },
     "metadata": {
      "needs_background": "light"
     },
     "output_type": "display_data"
    }
   ],
   "source": [
    "# Initialize the matplotlib figure\n",
    "s1, s2 = plt.subplots(figsize=(15, 7))\n",
    "c1=d2.sort_values(by=['Rural Pop to HealthCare Centers Ratio'],ascending=False)\n",
    "c2=c1[-10:]#Best Ratio\n",
    "c1=c1[:10]#Worst Ratio\n",
    "\n",
    "\n",
    "# Plot Sates having Worst Rural Population to HealthCare Staff Ratio in 2019\n",
    "s1=sns.barplot(x=\"Rural Pop to HealthCare Centers Ratio\", y=\"State/UT\", data=c1,\n",
    "            palette=\"rocket\")\n",
    "\n",
    "# Add informative axis label\n",
    "s1.set(xlim=(0, 24), ylabel=\"states\",\n",
    "       xlabel=\" Worst Rural Population to HealthCare Centers Ratio in 2019\")\n",
    "sns.despine(left=True, bottom=True)\n",
    "s1.set(xlim=(0, 9000))\n",
    "s1.set(title = \"Sates having Worst Rural population to HealthCare Centers Ratio in 2019\")"
   ]
  },
  {
   "cell_type": "code",
   "execution_count": 31,
   "id": "5371fabf",
   "metadata": {},
   "outputs": [
    {
     "data": {
      "text/plain": [
       "[Text(0.5, 1.0, 'Sates having Worst Rural population to HealthCare Centers Ratio in 2019')]"
      ]
     },
     "execution_count": 31,
     "metadata": {},
     "output_type": "execute_result"
    },
    {
     "data": {
      "image/png": "[encoded data removed]",
      "text/plain": [
       "<Figure size 432x288 with 1 Axes>"
      ]
     },
     "metadata": {
      "needs_background": "light"
     },
     "output_type": "display_data"
    }
   ],
   "source": [
    "# Plot Sates having Best Rural Population to HealthCare Staff Ratio in 2019\n",
    "s2=sns.barplot(x=\"Rural Pop to HealthCare Centers Ratio\", y=\"State/UT\", data=c2,\n",
    "            palette=\"spring\")\n",
    "\n",
    "# Add informative axis label\n",
    "s2.set(xlim=(0, 24), ylabel=\"states\",\n",
    "       xlabel=\" Best Rural Population to HealthCare Centers Ratio in 2019\")\n",
    "sns.despine(left=True, bottom=True)\n",
    "s2.set(xlim=(0, 3000))\n",
    "s2.set(title = \"Sates having Worst Rural population to HealthCare Centers Ratio in 2019\")"
   ]
  },
  {
   "cell_type": "code",
   "execution_count": 33,
   "id": "bac7b123",
   "metadata": {},
   "outputs": [
    {
     "data": {
      "application/vnd.plotly.v1+json": {
       "config": {
        "plotlyServerURL": "https://plot.ly"
       },
       "data": [
        {
         "autocolorscale": false,
         "colorbar": {
          "bgcolor": "rgba(255,255,255,0.6)",
          "dtick": 2000,
          "len": 0.35,
          "thickness": 15,
          "tick0": 0,
          "title": {
           "text": "PHCs"
          },
          "x": 0.001,
          "xanchor": "left",
          "y": 0.05,
          "yanchor": "bottom"
         },
         "colorscale": [
          [
           0,
           "rgb(214, 249, 207)"
          ],
          [
           0.09090909090909091,
           "rgb(186, 228, 174)"
          ],
          [
           0.18181818181818182,
           "rgb(156, 209, 143)"
          ],
          [
           0.2727272727272727,
           "rgb(124, 191, 115)"
          ],
          [
           0.36363636363636365,
           "rgb(85, 174, 91)"
          ],
          [
           0.45454545454545453,
           "rgb(37, 157, 81)"
          ],
          [
           0.5454545454545454,
           "rgb(7, 138, 78)"
          ],
          [
           0.6363636363636364,
           "rgb(13, 117, 71)"
          ],
          [
           0.7272727272727273,
           "rgb(23, 95, 61)"
          ],
          [
           0.8181818181818182,
           "rgb(25, 75, 49)"
          ],
          [
           0.9090909090909091,
           "rgb(23, 55, 35)"
          ],
          [
           1,
           "rgb(17, 36, 20)"
          ]
         ],
         "featureidkey": "properties.ST_NM",
         "geojson": "https://gist.githubusercontent.com/jbrobst/56c13bbbf9d97d187fea01ca62ea5112/raw/e388c4cae20aa53cb5090210a42ebb9b765c0a36/india_states.geojson",
         "locationmode": "geojson-id",
         "locations": [
          "Andhra Pradesh",
          "Arunachal Pradesh",
          "Assam",
          "Bihar",
          "Chhattisgarh",
          "Goa",
          "Gujarat",
          "Haryana",
          "Himachal Pradesh",
          "Jharkhand",
          "Karnataka",
          "Kerala",
          "Madhya Pradesh",
          "Maharashtra",
          "Manipur",
          "Meghalaya",
          "Mizoram",
          "Nagaland",
          "Odisha",
          "Punjab",
          "Rajasthan",
          "Sikkim",
          "Tamil Nadu",
          "Telangana",
          "Tripura",
          "Uttarakhand",
          "Uttar Pradesh",
          "West Bengal",
          "A& N Islands"
         ],
         "marker": {
          "line": {
           "color": "peachpuff"
          }
         },
         "type": "choropleth",
         "z": [
          3927.539555147902,
          1930.6260575296108,
          5114.810960804717,
          8933.738956492749,
          3495.540781579374,
          1697.5806451612902,
          3306.0705198109777,
          5608.134280180761,
          2392.469225199131,
          6558.489691915682,
          3129.603575271042,
          1669.5584817970566,
          5089.313107209818,
          5019.828926905132,
          3557.2139303482586,
          4162.118780096308,
          1255.7077625570776,
          2177.5862068965516,
          4444.271519214653,
          5165.846599131693,
          3587.1326940921745,
          1830.9178743961352,
          3439.3536121673005,
          3733.028362305581,
          2346.0837887067396,
          3405.3431598341776,
          7164.979300733697,
          5412.382674588823,
          1526.6666666666667
         ]
        }
       ],
       "layout": {
        "geo": {
         "lataxis": {
          "range": [
           6,
           38
          ]
         },
         "lonaxis": {
          "range": [
           68,
           98
          ]
         },
         "projection": {
          "parallels": [
           12.472944444,
           35.172805555556
          ],
          "rotation": {
           "lat": 24,
           "lon": 80
          },
          "type": "conic conformal"
         },
         "visible": false
        },
        "height": 550,
        "margin": {
         "b": 0,
         "l": 0,
         "r": 0,
         "t": 30
        },
        "template": {
         "data": {
          "bar": [
           {
            "error_x": {
             "color": "#2a3f5f"
            },
            "error_y": {
             "color": "#2a3f5f"
            },
            "marker": {
             "line": {
              "color": "#E5ECF6",
              "width": 0.5
             },
             "pattern": {
              "fillmode": "overlay",
              "size": 10,
              "solidity": 0.2
             }
            },
            "type": "bar"
           }
          ],
          "barpolar": [
           {
            "marker": {
             "line": {
              "color": "#E5ECF6",
              "width": 0.5
             },
             "pattern": {
              "fillmode": "overlay",
              "size": 10,
              "solidity": 0.2
             }
            },
            "type": "barpolar"
           }
          ],
          "carpet": [
           {
            "aaxis": {
             "endlinecolor": "#2a3f5f",
             "gridcolor": "white",
             "linecolor": "white",
             "minorgridcolor": "white",
             "startlinecolor": "#2a3f5f"
            },
            "baxis": {
             "endlinecolor": "#2a3f5f",
             "gridcolor": "white",
             "linecolor": "white",
             "minorgridcolor": "white",
             "startlinecolor": "#2a3f5f"
            },
            "type": "carpet"
           }
          ],
          "choropleth": [
           {
            "colorbar": {
             "outlinewidth": 0,
             "ticks": ""
            },
            "type": "choropleth"
           }
          ],
          "contour": [
           {
            "colorbar": {
             "outlinewidth": 0,
             "ticks": ""
            },
            "colorscale": [
             [
              0,
              "#0d0887"
             ],
             [
              0.1111111111111111,
              "#46039f"
             ],
             [
              0.2222222222222222,
              "#7201a8"
             ],
             [
              0.3333333333333333,
              "#9c179e"
             ],
             [
              0.4444444444444444,
              "#bd3786"
             ],
             [
              0.5555555555555556,
              "#d8576b"
             ],
             [
              0.6666666666666666,
              "#ed7953"
             ],
             [
              0.7777777777777778,
              "#fb9f3a"
             ],
             [
              0.8888888888888888,
              "#fdca26"
             ],
             [
              1,
              "#f0f921"
             ]
            ],
            "type": "contour"
           }
          ],
          "contourcarpet": [
           {
            "colorbar": {
             "outlinewidth": 0,
             "ticks": ""
            },
            "type": "contourcarpet"
           }
          ],
          "heatmap": [
           {
            "colorbar": {
             "outlinewidth": 0,
             "ticks": ""
            },
            "colorscale": [
             [
              0,
              "#0d0887"
             ],
             [
              0.1111111111111111,
              "#46039f"
             ],
             [
              0.2222222222222222,
              "#7201a8"
             ],
             [
              0.3333333333333333,
              "#9c179e"
             ],
             [
              0.4444444444444444,
              "#bd3786"
             ],
             [
              0.5555555555555556,
              "#d8576b"
             ],
             [
              0.6666666666666666,
              "#ed7953"
             ],
             [
              0.7777777777777778,
              "#fb9f3a"
             ],
             [
              0.8888888888888888,
              "#fdca26"
             ],
             [
              1,
              "#f0f921"
             ]
            ],
            "type": "heatmap"
           }
          ],
          "heatmapgl": [
           {
            "colorbar": {
             "outlinewidth": 0,
             "ticks": ""
            },
            "colorscale": [
             [
              0,
              "#0d0887"
             ],
             [
              0.1111111111111111,
              "#46039f"
             ],
             [
              0.2222222222222222,
              "#7201a8"
             ],
             [
              0.3333333333333333,
              "#9c179e"
             ],
             [
              0.4444444444444444,
              "#bd3786"
             ],
             [
              0.5555555555555556,
              "#d8576b"
             ],
             [
              0.6666666666666666,
              "#ed7953"
             ],
             [
              0.7777777777777778,
              "#fb9f3a"
             ],
             [
              0.8888888888888888,
              "#fdca26"
             ],
             [
              1,
              "#f0f921"
             ]
            ],
            "type": "heatmapgl"
           }
          ],
          "histogram": [
           {
            "marker": {
             "pattern": {
              "fillmode": "overlay",
              "size": 10,
              "solidity": 0.2
             }
            },
            "type": "histogram"
           }
          ],
          "histogram2d": [
           {
            "colorbar": {
             "outlinewidth": 0,
             "ticks": ""
            },
            "colorscale": [
             [
              0,
              "#0d0887"
             ],
             [
              0.1111111111111111,
              "#46039f"
             ],
             [
              0.2222222222222222,
              "#7201a8"
             ],
             [
              0.3333333333333333,
              "#9c179e"
             ],
             [
              0.4444444444444444,
              "#bd3786"
             ],
             [
              0.5555555555555556,
              "#d8576b"
             ],
             [
              0.6666666666666666,
              "#ed7953"
             ],
             [
              0.7777777777777778,
              "#fb9f3a"
             ],
             [
              0.8888888888888888,
              "#fdca26"
             ],
             [
              1,
              "#f0f921"
             ]
            ],
            "type": "histogram2d"
           }
          ],
          "histogram2dcontour": [
           {
            "colorbar": {
             "outlinewidth": 0,
             "ticks": ""
            },
            "colorscale": [
             [
              0,
              "#0d0887"
             ],
             [
              0.1111111111111111,
              "#46039f"
             ],
             [
              0.2222222222222222,
              "#7201a8"
             ],
             [
              0.3333333333333333,
              "#9c179e"
             ],
             [
              0.4444444444444444,
              "#bd3786"
             ],
             [
              0.5555555555555556,
              "#d8576b"
             ],
             [
              0.6666666666666666,
              "#ed7953"
             ],
             [
              0.7777777777777778,
              "#fb9f3a"
             ],
             [
              0.8888888888888888,
              "#fdca26"
             ],
             [
              1,
              "#f0f921"
             ]
            ],
            "type": "histogram2dcontour"
           }
          ],
          "mesh3d": [
           {
            "colorbar": {
             "outlinewidth": 0,
             "ticks": ""
            },
            "type": "mesh3d"
           }
          ],
          "parcoords": [
           {
            "line": {
             "colorbar": {
              "outlinewidth": 0,
              "ticks": ""
             }
            },
            "type": "parcoords"
           }
          ],
          "pie": [
           {
            "automargin": true,
            "type": "pie"
           }
          ],
          "scatter": [
           {
            "marker": {
             "colorbar": {
              "outlinewidth": 0,
              "ticks": ""
             }
            },
            "type": "scatter"
           }
          ],
          "scatter3d": [
           {
            "line": {
             "colorbar": {
              "outlinewidth": 0,
              "ticks": ""
             }
            },
            "marker": {
             "colorbar": {
              "outlinewidth": 0,
              "ticks": ""
             }
            },
            "type": "scatter3d"
           }
          ],
          "scattercarpet": [
           {
            "marker": {
             "colorbar": {
              "outlinewidth": 0,
              "ticks": ""
             }
            },
            "type": "scattercarpet"
           }
          ],
          "scattergeo": [
           {
            "marker": {
             "colorbar": {
              "outlinewidth": 0,
              "ticks": ""
             }
            },
            "type": "scattergeo"
           }
          ],
          "scattergl": [
           {
            "marker": {
             "colorbar": {
              "outlinewidth": 0,
              "ticks": ""
             }
            },
            "type": "scattergl"
           }
          ],
          "scattermapbox": [
           {
            "marker": {
             "colorbar": {
              "outlinewidth": 0,
              "ticks": ""
             }
            },
            "type": "scattermapbox"
           }
          ],
          "scatterpolar": [
           {
            "marker": {
             "colorbar": {
              "outlinewidth": 0,
              "ticks": ""
             }
            },
            "type": "scatterpolar"
           }
          ],
          "scatterpolargl": [
           {
            "marker": {
             "colorbar": {
              "outlinewidth": 0,
              "ticks": ""
             }
            },
            "type": "scatterpolargl"
           }
          ],
          "scatterternary": [
           {
            "marker": {
             "colorbar": {
              "outlinewidth": 0,
              "ticks": ""
             }
            },
            "type": "scatterternary"
           }
          ],
          "surface": [
           {
            "colorbar": {
             "outlinewidth": 0,
             "ticks": ""
            },
            "colorscale": [
             [
              0,
              "#0d0887"
             ],
             [
              0.1111111111111111,
              "#46039f"
             ],
             [
              0.2222222222222222,
              "#7201a8"
             ],
             [
              0.3333333333333333,
              "#9c179e"
             ],
             [
              0.4444444444444444,
              "#bd3786"
             ],
             [
              0.5555555555555556,
              "#d8576b"
             ],
             [
              0.6666666666666666,
              "#ed7953"
             ],
             [
              0.7777777777777778,
              "#fb9f3a"
             ],
             [
              0.8888888888888888,
              "#fdca26"
             ],
             [
              1,
              "#f0f921"
             ]
            ],
            "type": "surface"
           }
          ],
          "table": [
           {
            "cells": {
             "fill": {
              "color": "#EBF0F8"
             },
             "line": {
              "color": "white"
             }
            },
            "header": {
             "fill": {
              "color": "#C8D4E3"
             },
             "line": {
              "color": "white"
             }
            },
            "type": "table"
           }
          ]
         },
         "layout": {
          "annotationdefaults": {
           "arrowcolor": "#2a3f5f",
           "arrowhead": 0,
           "arrowwidth": 1
          },
          "autotypenumbers": "strict",
          "coloraxis": {
           "colorbar": {
            "outlinewidth": 0,
            "ticks": ""
           }
          },
          "colorscale": {
           "diverging": [
            [
             0,
             "#8e0152"
            ],
            [
             0.1,
             "#c51b7d"
            ],
            [
             0.2,
             "#de77ae"
            ],
            [
             0.3,
             "#f1b6da"
            ],
            [
             0.4,
             "#fde0ef"
            ],
            [
             0.5,
             "#f7f7f7"
            ],
            [
             0.6,
             "#e6f5d0"
            ],
            [
             0.7,
             "#b8e186"
            ],
            [
             0.8,
             "#7fbc41"
            ],
            [
             0.9,
             "#4d9221"
            ],
            [
             1,
             "#276419"
            ]
           ],
           "sequential": [
            [
             0,
             "#0d0887"
            ],
            [
             0.1111111111111111,
             "#46039f"
            ],
            [
             0.2222222222222222,
             "#7201a8"
            ],
            [
             0.3333333333333333,
             "#9c179e"
            ],
            [
             0.4444444444444444,
             "#bd3786"
            ],
            [
             0.5555555555555556,
             "#d8576b"
            ],
            [
             0.6666666666666666,
             "#ed7953"
            ],
            [
             0.7777777777777778,
             "#fb9f3a"
            ],
            [
             0.8888888888888888,
             "#fdca26"
            ],
            [
             1,
             "#f0f921"
            ]
           ],
           "sequentialminus": [
            [
             0,
             "#0d0887"
            ],
            [
             0.1111111111111111,
             "#46039f"
            ],
            [
             0.2222222222222222,
             "#7201a8"
            ],
            [
             0.3333333333333333,
             "#9c179e"
            ],
            [
             0.4444444444444444,
             "#bd3786"
            ],
            [
             0.5555555555555556,
             "#d8576b"
            ],
            [
             0.6666666666666666,
             "#ed7953"
            ],
            [
             0.7777777777777778,
             "#fb9f3a"
            ],
            [
             0.8888888888888888,
             "#fdca26"
            ],
            [
             1,
             "#f0f921"
            ]
           ]
          },
          "colorway": [
           "#636efa",
           "#EF553B",
           "#00cc96",
           "#ab63fa",
           "#FFA15A",
           "#19d3f3",
           "#FF6692",
           "#B6E880",
           "#FF97FF",
           "#FECB52"
          ],
          "font": {
           "color": "#2a3f5f"
          },
          "geo": {
           "bgcolor": "white",
           "lakecolor": "white",
           "landcolor": "#E5ECF6",
           "showlakes": true,
           "showland": true,
           "subunitcolor": "white"
          },
          "hoverlabel": {
           "align": "left"
          },
          "hovermode": "closest",
          "mapbox": {
           "style": "light"
          },
          "paper_bgcolor": "white",
          "plot_bgcolor": "#E5ECF6",
          "polar": {
           "angularaxis": {
            "gridcolor": "white",
            "linecolor": "white",
            "ticks": ""
           },
           "bgcolor": "#E5ECF6",
           "radialaxis": {
            "gridcolor": "white",
            "linecolor": "white",
            "ticks": ""
           }
          },
          "scene": {
           "xaxis": {
            "backgroundcolor": "#E5ECF6",
            "gridcolor": "white",
            "gridwidth": 2,
            "linecolor": "white",
            "showbackground": true,
            "ticks": "",
            "zerolinecolor": "white"
           },
           "yaxis": {
            "backgroundcolor": "#E5ECF6",
            "gridcolor": "white",
            "gridwidth": 2,
            "linecolor": "white",
            "showbackground": true,
            "ticks": "",
            "zerolinecolor": "white"
           },
           "zaxis": {
            "backgroundcolor": "#E5ECF6",
            "gridcolor": "white",
            "gridwidth": 2,
            "linecolor": "white",
            "showbackground": true,
            "ticks": "",
            "zerolinecolor": "white"
           }
          },
          "shapedefaults": {
           "line": {
            "color": "#2a3f5f"
           }
          },
          "ternary": {
           "aaxis": {
            "gridcolor": "white",
            "linecolor": "white",
            "ticks": ""
           },
           "baxis": {
            "gridcolor": "white",
            "linecolor": "white",
            "ticks": ""
           },
           "bgcolor": "#E5ECF6",
           "caxis": {
            "gridcolor": "white",
            "linecolor": "white",
            "ticks": ""
           }
          },
          "title": {
           "x": 0.05
          },
          "xaxis": {
           "automargin": true,
           "gridcolor": "white",
           "linecolor": "white",
           "ticks": "",
           "title": {
            "standoff": 15
           },
           "zerolinecolor": "white",
           "zerolinewidth": 2
          },
          "yaxis": {
           "automargin": true,
           "gridcolor": "white",
           "linecolor": "white",
           "ticks": "",
           "title": {
            "standoff": 15
           },
           "zerolinecolor": "white",
           "zerolinewidth": 2
          }
         }
        },
        "title": {
         "pad": {
          "b": 10
         },
         "text": "Rural Pop to HealthCare Centers Ratio in Rural India by State/UT in 2019",
         "x": 0.5,
         "xanchor": "center",
         "y": 1,
         "yanchor": "bottom",
         "yref": "paper"
        },
        "width": 550
       }
      },
      "text/html": [
       "<div>                            <div id=\"32c5e643-4c41-4d61-923a-5e0045158c73\" class=\"plotly-graph-div\" style=\"height:550px; width:550px;\"></div>            <script type=\"text/javascript\">                require([\"plotly\"], function(Plotly) {                    window.PLOTLYENV=window.PLOTLYENV || {};                                    if (document.getElementById(\"32c5e643-4c41-4d61-923a-5e0045158c73\")) {                    Plotly.newPlot(                        \"32c5e643-4c41-4d61-923a-5e0045158c73\",                        [{\"autocolorscale\":false,\"colorbar\":{\"bgcolor\":\"rgba(255,255,255,0.6)\",\"dtick\":2000,\"len\":0.35,\"thickness\":15,\"tick0\":0,\"title\":{\"text\":\"PHCs\"},\"x\":0.001,\"xanchor\":\"left\",\"y\":0.05,\"yanchor\":\"bottom\"},\"colorscale\":[[0.0,\"rgb(214, 249, 207)\"],[0.09090909090909091,\"rgb(186, 228, 174)\"],[0.18181818181818182,\"rgb(156, 209, 143)\"],[0.2727272727272727,\"rgb(124, 191, 115)\"],[0.36363636363636365,\"rgb(85, 174, 91)\"],[0.45454545454545453,\"rgb(37, 157, 81)\"],[0.5454545454545454,\"rgb(7, 138, 78)\"],[0.6363636363636364,\"rgb(13, 117, 71)\"],[0.7272727272727273,\"rgb(23, 95, 61)\"],[0.8181818181818182,\"rgb(25, 75, 49)\"],[0.9090909090909091,\"rgb(23, 55, 35)\"],[1.0,\"rgb(17, 36, 20)\"]],\"featureidkey\":\"properties.ST_NM\",\"geojson\":\"https://gist.githubusercontent.com/jbrobst/56c13bbbf9d97d187fea01ca62ea5112/raw/e388c4cae20aa53cb5090210a42ebb9b765c0a36/india_states.geojson\",\"locationmode\":\"geojson-id\",\"locations\":[\"Andhra Pradesh\",\"Arunachal Pradesh\",\"Assam\",\"Bihar\",\"Chhattisgarh\",\"Goa\",\"Gujarat\",\"Haryana\",\"Himachal Pradesh\",\"Jharkhand\",\"Karnataka\",\"Kerala\",\"Madhya Pradesh\",\"Maharashtra\",\"Manipur\",\"Meghalaya\",\"Mizoram\",\"Nagaland\",\"Odisha\",\"Punjab\",\"Rajasthan\",\"Sikkim\",\"Tamil Nadu\",\"Telangana\",\"Tripura\",\"Uttarakhand\",\"Uttar Pradesh\",\"West Bengal\",\"A& N Islands\"],\"marker\":{\"line\":{\"color\":\"peachpuff\"}},\"z\":[3927.539555147902,1930.6260575296108,5114.810960804717,8933.738956492749,3495.540781579374,1697.5806451612902,3306.0705198109777,5608.134280180761,2392.469225199131,6558.489691915682,3129.603575271042,1669.5584817970566,5089.313107209818,5019.828926905132,3557.2139303482586,4162.118780096308,1255.7077625570776,2177.5862068965516,4444.271519214653,5165.846599131693,3587.1326940921745,1830.9178743961352,3439.3536121673005,3733.028362305581,2346.0837887067396,3405.3431598341776,7164.979300733697,5412.382674588823,1526.6666666666667],\"type\":\"choropleth\"}],                        {\"template\":{\"data\":{\"bar\":[{\"error_x\":{\"color\":\"#2a3f5f\"},\"error_y\":{\"color\":\"#2a3f5f\"},\"marker\":{\"line\":{\"color\":\"#E5ECF6\",\"width\":0.5},\"pattern\":{\"fillmode\":\"overlay\",\"size\":10,\"solidity\":0.2}},\"type\":\"bar\"}],\"barpolar\":[{\"marker\":{\"line\":{\"color\":\"#E5ECF6\",\"width\":0.5},\"pattern\":{\"fillmode\":\"overlay\",\"size\":10,\"solidity\":0.2}},\"type\":\"barpolar\"}],\"carpet\":[{\"aaxis\":{\"endlinecolor\":\"#2a3f5f\",\"gridcolor\":\"white\",\"linecolor\":\"white\",\"minorgridcolor\":\"white\",\"startlinecolor\":\"#2a3f5f\"},\"baxis\":{\"endlinecolor\":\"#2a3f5f\",\"gridcolor\":\"white\",\"linecolor\":\"white\",\"minorgridcolor\":\"white\",\"startlinecolor\":\"#2a3f5f\"},\"type\":\"carpet\"}],\"choropleth\":[{\"colorbar\":{\"outlinewidth\":0,\"ticks\":\"\"},\"type\":\"choropleth\"}],\"contour\":[{\"colorbar\":{\"outlinewidth\":0,\"ticks\":\"\"},\"colorscale\":[[0.0,\"#0d0887\"],[0.1111111111111111,\"#46039f\"],[0.2222222222222222,\"#7201a8\"],[0.3333333333333333,\"#9c179e\"],[0.4444444444444444,\"#bd3786\"],[0.5555555555555556,\"#d8576b\"],[0.6666666666666666,\"#ed7953\"],[0.7777777777777778,\"#fb9f3a\"],[0.8888888888888888,\"#fdca26\"],[1.0,\"#f0f921\"]],\"type\":\"contour\"}],\"contourcarpet\":[{\"colorbar\":{\"outlinewidth\":0,\"ticks\":\"\"},\"type\":\"contourcarpet\"}],\"heatmap\":[{\"colorbar\":{\"outlinewidth\":0,\"ticks\":\"\"},\"colorscale\":[[0.0,\"#0d0887\"],[0.1111111111111111,\"#46039f\"],[0.2222222222222222,\"#7201a8\"],[0.3333333333333333,\"#9c179e\"],[0.4444444444444444,\"#bd3786\"],[0.5555555555555556,\"#d8576b\"],[0.6666666666666666,\"#ed7953\"],[0.7777777777777778,\"#fb9f3a\"],[0.8888888888888888,\"#fdca26\"],[1.0,\"#f0f921\"]],\"type\":\"heatmap\"}],\"heatmapgl\":[{\"colorbar\":{\"outlinewidth\":0,\"ticks\":\"\"},\"colorscale\":[[0.0,\"#0d0887\"],[0.1111111111111111,\"#46039f\"],[0.2222222222222222,\"#7201a8\"],[0.3333333333333333,\"#9c179e\"],[0.4444444444444444,\"#bd3786\"],[0.5555555555555556,\"#d8576b\"],[0.6666666666666666,\"#ed7953\"],[0.7777777777777778,\"#fb9f3a\"],[0.8888888888888888,\"#fdca26\"],[1.0,\"#f0f921\"]],\"type\":\"heatmapgl\"}],\"histogram\":[{\"marker\":{\"pattern\":{\"fillmode\":\"overlay\",\"size\":10,\"solidity\":0.2}},\"type\":\"histogram\"}],\"histogram2d\":[{\"colorbar\":{\"outlinewidth\":0,\"ticks\":\"\"},\"colorscale\":[[0.0,\"#0d0887\"],[0.1111111111111111,\"#46039f\"],[0.2222222222222222,\"#7201a8\"],[0.3333333333333333,\"#9c179e\"],[0.4444444444444444,\"#bd3786\"],[0.5555555555555556,\"#d8576b\"],[0.6666666666666666,\"#ed7953\"],[0.7777777777777778,\"#fb9f3a\"],[0.8888888888888888,\"#fdca26\"],[1.0,\"#f0f921\"]],\"type\":\"histogram2d\"}],\"histogram2dcontour\":[{\"colorbar\":{\"outlinewidth\":0,\"ticks\":\"\"},\"colorscale\":[[0.0,\"#0d0887\"],[0.1111111111111111,\"#46039f\"],[0.2222222222222222,\"#7201a8\"],[0.3333333333333333,\"#9c179e\"],[0.4444444444444444,\"#bd3786\"],[0.5555555555555556,\"#d8576b\"],[0.6666666666666666,\"#ed7953\"],[0.7777777777777778,\"#fb9f3a\"],[0.8888888888888888,\"#fdca26\"],[1.0,\"#f0f921\"]],\"type\":\"histogram2dcontour\"}],\"mesh3d\":[{\"colorbar\":{\"outlinewidth\":0,\"ticks\":\"\"},\"type\":\"mesh3d\"}],\"parcoords\":[{\"line\":{\"colorbar\":{\"outlinewidth\":0,\"ticks\":\"\"}},\"type\":\"parcoords\"}],\"pie\":[{\"automargin\":true,\"type\":\"pie\"}],\"scatter\":[{\"marker\":{\"colorbar\":{\"outlinewidth\":0,\"ticks\":\"\"}},\"type\":\"scatter\"}],\"scatter3d\":[{\"line\":{\"colorbar\":{\"outlinewidth\":0,\"ticks\":\"\"}},\"marker\":{\"colorbar\":{\"outlinewidth\":0,\"ticks\":\"\"}},\"type\":\"scatter3d\"}],\"scattercarpet\":[{\"marker\":{\"colorbar\":{\"outlinewidth\":0,\"ticks\":\"\"}},\"type\":\"scattercarpet\"}],\"scattergeo\":[{\"marker\":{\"colorbar\":{\"outlinewidth\":0,\"ticks\":\"\"}},\"type\":\"scattergeo\"}],\"scattergl\":[{\"marker\":{\"colorbar\":{\"outlinewidth\":0,\"ticks\":\"\"}},\"type\":\"scattergl\"}],\"scattermapbox\":[{\"marker\":{\"colorbar\":{\"outlinewidth\":0,\"ticks\":\"\"}},\"type\":\"scattermapbox\"}],\"scatterpolar\":[{\"marker\":{\"colorbar\":{\"outlinewidth\":0,\"ticks\":\"\"}},\"type\":\"scatterpolar\"}],\"scatterpolargl\":[{\"marker\":{\"colorbar\":{\"outlinewidth\":0,\"ticks\":\"\"}},\"type\":\"scatterpolargl\"}],\"scatterternary\":[{\"marker\":{\"colorbar\":{\"outlinewidth\":0,\"ticks\":\"\"}},\"type\":\"scatterternary\"}],\"surface\":[{\"colorbar\":{\"outlinewidth\":0,\"ticks\":\"\"},\"colorscale\":[[0.0,\"#0d0887\"],[0.1111111111111111,\"#46039f\"],[0.2222222222222222,\"#7201a8\"],[0.3333333333333333,\"#9c179e\"],[0.4444444444444444,\"#bd3786\"],[0.5555555555555556,\"#d8576b\"],[0.6666666666666666,\"#ed7953\"],[0.7777777777777778,\"#fb9f3a\"],[0.8888888888888888,\"#fdca26\"],[1.0,\"#f0f921\"]],\"type\":\"surface\"}],\"table\":[{\"cells\":{\"fill\":{\"color\":\"#EBF0F8\"},\"line\":{\"color\":\"white\"}},\"header\":{\"fill\":{\"color\":\"#C8D4E3\"},\"line\":{\"color\":\"white\"}},\"type\":\"table\"}]},\"layout\":{\"annotationdefaults\":{\"arrowcolor\":\"#2a3f5f\",\"arrowhead\":0,\"arrowwidth\":1},\"autotypenumbers\":\"strict\",\"coloraxis\":{\"colorbar\":{\"outlinewidth\":0,\"ticks\":\"\"}},\"colorscale\":{\"diverging\":[[0,\"#8e0152\"],[0.1,\"#c51b7d\"],[0.2,\"#de77ae\"],[0.3,\"#f1b6da\"],[0.4,\"#fde0ef\"],[0.5,\"#f7f7f7\"],[0.6,\"#e6f5d0\"],[0.7,\"#b8e186\"],[0.8,\"#7fbc41\"],[0.9,\"#4d9221\"],[1,\"#276419\"]],\"sequential\":[[0.0,\"#0d0887\"],[0.1111111111111111,\"#46039f\"],[0.2222222222222222,\"#7201a8\"],[0.3333333333333333,\"#9c179e\"],[0.4444444444444444,\"#bd3786\"],[0.5555555555555556,\"#d8576b\"],[0.6666666666666666,\"#ed7953\"],[0.7777777777777778,\"#fb9f3a\"],[0.8888888888888888,\"#fdca26\"],[1.0,\"#f0f921\"]],\"sequentialminus\":[[0.0,\"#0d0887\"],[0.1111111111111111,\"#46039f\"],[0.2222222222222222,\"#7201a8\"],[0.3333333333333333,\"#9c179e\"],[0.4444444444444444,\"#bd3786\"],[0.5555555555555556,\"#d8576b\"],[0.6666666666666666,\"#ed7953\"],[0.7777777777777778,\"#fb9f3a\"],[0.8888888888888888,\"#fdca26\"],[1.0,\"#f0f921\"]]},\"colorway\":[\"#636efa\",\"#EF553B\",\"#00cc96\",\"#ab63fa\",\"#FFA15A\",\"#19d3f3\",\"#FF6692\",\"#B6E880\",\"#FF97FF\",\"#FECB52\"],\"font\":{\"color\":\"#2a3f5f\"},\"geo\":{\"bgcolor\":\"white\",\"lakecolor\":\"white\",\"landcolor\":\"#E5ECF6\",\"showlakes\":true,\"showland\":true,\"subunitcolor\":\"white\"},\"hoverlabel\":{\"align\":\"left\"},\"hovermode\":\"closest\",\"mapbox\":{\"style\":\"light\"},\"paper_bgcolor\":\"white\",\"plot_bgcolor\":\"#E5ECF6\",\"polar\":{\"angularaxis\":{\"gridcolor\":\"white\",\"linecolor\":\"white\",\"ticks\":\"\"},\"bgcolor\":\"#E5ECF6\",\"radialaxis\":{\"gridcolor\":\"white\",\"linecolor\":\"white\",\"ticks\":\"\"}},\"scene\":{\"xaxis\":{\"backgroundcolor\":\"#E5ECF6\",\"gridcolor\":\"white\",\"gridwidth\":2,\"linecolor\":\"white\",\"showbackground\":true,\"ticks\":\"\",\"zerolinecolor\":\"white\"},\"yaxis\":{\"backgroundcolor\":\"#E5ECF6\",\"gridcolor\":\"white\",\"gridwidth\":2,\"linecolor\":\"white\",\"showbackground\":true,\"ticks\":\"\",\"zerolinecolor\":\"white\"},\"zaxis\":{\"backgroundcolor\":\"#E5ECF6\",\"gridcolor\":\"white\",\"gridwidth\":2,\"linecolor\":\"white\",\"showbackground\":true,\"ticks\":\"\",\"zerolinecolor\":\"white\"}},\"shapedefaults\":{\"line\":{\"color\":\"#2a3f5f\"}},\"ternary\":{\"aaxis\":{\"gridcolor\":\"white\",\"linecolor\":\"white\",\"ticks\":\"\"},\"baxis\":{\"gridcolor\":\"white\",\"linecolor\":\"white\",\"ticks\":\"\"},\"bgcolor\":\"#E5ECF6\",\"caxis\":{\"gridcolor\":\"white\",\"linecolor\":\"white\",\"ticks\":\"\"}},\"title\":{\"x\":0.05},\"xaxis\":{\"automargin\":true,\"gridcolor\":\"white\",\"linecolor\":\"white\",\"ticks\":\"\",\"title\":{\"standoff\":15},\"zerolinecolor\":\"white\",\"zerolinewidth\":2},\"yaxis\":{\"automargin\":true,\"gridcolor\":\"white\",\"linecolor\":\"white\",\"ticks\":\"\",\"title\":{\"standoff\":15},\"zerolinecolor\":\"white\",\"zerolinewidth\":2}}},\"geo\":{\"projection\":{\"rotation\":{\"lat\":24,\"lon\":80},\"type\":\"conic conformal\",\"parallels\":[12.472944444,35.172805555556]},\"lonaxis\":{\"range\":[68,98]},\"lataxis\":{\"range\":[6,38]},\"visible\":false},\"title\":{\"pad\":{\"b\":10},\"text\":\"Rural Pop to HealthCare Centers Ratio in Rural India by State/UT in 2019\",\"xanchor\":\"center\",\"x\":0.5,\"yref\":\"paper\",\"yanchor\":\"bottom\",\"y\":1},\"margin\":{\"r\":0,\"t\":30,\"l\":0,\"b\":0},\"height\":550,\"width\":550},                        {\"responsive\": true}                    ).then(function(){\n",
       "                            \n",
       "var gd = document.getElementById('32c5e643-4c41-4d61-923a-5e0045158c73');\n",
       "var x = new MutationObserver(function (mutations, observer) {{\n",
       "        var display = window.getComputedStyle(gd).display;\n",
       "        if (!display || display === 'none') {{\n",
       "            console.log([gd, 'removed!']);\n",
       "            Plotly.purge(gd);\n",
       "            observer.disconnect();\n",
       "        }}\n",
       "}});\n",
       "\n",
       "// Listen for the removal of the full notebook cells\n",
       "var notebookContainer = gd.closest('#notebook-container');\n",
       "if (notebookContainer) {{\n",
       "    x.observe(notebookContainer, {childList: true});\n",
       "}}\n",
       "\n",
       "// Listen for the clearing of the current output cell\n",
       "var outputEl = gd.closest('.output');\n",
       "if (outputEl) {{\n",
       "    x.observe(outputEl, {childList: true});\n",
       "}}\n",
       "\n",
       "                        })                };                });            </script>        </div>"
      ]
     },
     "metadata": {},
     "output_type": "display_data"
    }
   ],
   "source": [
    "##Map of PHCs in Rural India in 2019\n",
    "import plotly.graph_objects as go\n",
    "fig = go.Figure(data=go.Choropleth(\n",
    "    geojson=\"https://gist.githubusercontent.com/jbrobst/56c13bbbf9d97d187fea01ca62ea5112/raw/e388c4cae20aa53cb5090210a42ebb9b765c0a36/india_states.geojson\",\n",
    "    featureidkey='properties.ST_NM',\n",
    "    locationmode='geojson-id',\n",
    "    locations=d2['State/UT'],\n",
    "    z=d2['Rural Pop to HealthCare Centers Ratio'],\n",
    "\n",
    "    autocolorscale=False,\n",
    "    colorscale='algae',\n",
    "    marker_line_color='peachpuff',\n",
    "\n",
    "    colorbar=dict(\n",
    "         title={'text': \"PHCs\"},\n",
    "\n",
    "        thickness=15,\n",
    "        len=0.35,\n",
    "        bgcolor='rgba(255,255,255,0.6)',\n",
    "\n",
    "        tick0=0,\n",
    "        dtick=2000,\n",
    "\n",
    "        xanchor='left',\n",
    "        x=0.001,\n",
    "        yanchor='bottom',\n",
    "        y=0.05\n",
    "    )\n",
    "))\n",
    "fig.update_geos(\n",
    "    visible=False,\n",
    "    projection=dict(\n",
    "        type='conic conformal',\n",
    "        parallels=[12.472944444, 35.172805555556],\n",
    "        rotation={'lat': 24, 'lon': 80}\n",
    "    ),\n",
    "    lonaxis={'range': [68, 98]},\n",
    "    lataxis={'range': [6, 38]}\n",
    ")\n",
    "\n",
    "fig.update_layout(\n",
    "    title=dict(\n",
    "        text=\"Rural Pop to HealthCare Centers Ratio in Rural India by State/UT in 2019\",\n",
    "        xanchor='center',\n",
    "        x=0.5,\n",
    "        yref='paper',\n",
    "        yanchor='bottom',\n",
    "        y=1,\n",
    "        pad={'b': 10}\n",
    "    ),\n",
    "    margin={'r': 0, 't': 30, 'l': 0, 'b': 0},\n",
    "    height=550,\n",
    "    width=550\n",
    ")\n",
    "\n",
    "fig.show()"
   ]
  },
  {
   "cell_type": "markdown",
   "id": "b219e0ae",
   "metadata": {},
   "source": [
    "# RURAL POPULATION TO SECONDLINE HEALTH CENTER RATIO"
   ]
  },
  {
   "cell_type": "code",
   "execution_count": 34,
   "id": "9692bf8d",
   "metadata": {},
   "outputs": [
    {
     "data": {
      "text/plain": [
       "[Text(0.5, 1.0, 'Sates having Worst Rural population to Secondline HealthCare Centers Ratio in 2019')]"
      ]
     },
     "execution_count": 34,
     "metadata": {},
     "output_type": "execute_result"
    },
    {
     "data": {
      "image/png": "[encoded data removed]",
      "text/plain": [
       "<Figure size 1080x504 with 1 Axes>"
      ]
     },
     "metadata": {
      "needs_background": "light"
     },
     "output_type": "display_data"
    }
   ],
   "source": [
    "# Initialize the matplotlib figure\n",
    "s1, s2 = plt.subplots(figsize=(15, 7))\n",
    "c1=d2.sort_values(by=['Rural Pop to Secondline HealthCare Centers Ratio'],ascending=False)\n",
    "c2=c1[-10:]#Best Ratio\n",
    "c1=c1[:10]#Worst Ratio\n",
    "\n",
    "\n",
    "# Plot Sates having Worst Rural Population to HealthCare Staff Ratio in 2019\n",
    "s1=sns.barplot(x=\"Rural Pop to Secondline HealthCare Centers Ratio\", y=\"State/UT\", data=c1,\n",
    "            palette=\"rocket\")\n",
    "\n",
    "# Add informative axis label\n",
    "s1.set(xlim=(0, 24), ylabel=\"states\",\n",
    "       xlabel=\" Worst Rural Population to Secondline HealthCare Centers Ratio in 2019\")\n",
    "sns.despine(left=True, bottom=True)\n",
    "s1.set(xlim=(0, 80000))\n",
    "s1.set(title = \"Sates having Worst Rural population to Secondline HealthCare Centers Ratio in 2019\")"
   ]
  },
  {
   "cell_type": "code",
   "execution_count": 35,
   "id": "30e6ce2b",
   "metadata": {},
   "outputs": [
    {
     "data": {
      "text/plain": [
       "[Text(0.5, 1.0, 'Sates having Worst Rural population to Secondline HealthCare Centers Ratio in 2019')]"
      ]
     },
     "execution_count": 35,
     "metadata": {},
     "output_type": "execute_result"
    },
    {
     "data": {
      "image/png": "[encoded data removed]",
      "text/plain": [
       "<Figure size 432x288 with 1 Axes>"
      ]
     },
     "metadata": {
      "needs_background": "light"
     },
     "output_type": "display_data"
    }
   ],
   "source": [
    "# Plot Sates having Best Rural Population to HealthCare Staff Ratio in 2019\n",
    "s2=sns.barplot(x=\"Rural Pop to Secondline HealthCare Centers Ratio\", y=\"State/UT\", data=c2,\n",
    "            palette=\"spring\")\n",
    "\n",
    "# Add informative axis label\n",
    "s2.set(xlim=(0, 24), ylabel=\"states\",\n",
    "       xlabel=\" Best Rural Population to  Secondline HealthCare Centers Ratio in 2019\")\n",
    "sns.despine(left=True, bottom=True)\n",
    "s2.set(xlim=(0, 9000))\n",
    "s2.set(title = \"Sates having Worst Rural population to Secondline HealthCare Centers Ratio in 2019\")"
   ]
  },
  {
   "cell_type": "code",
   "execution_count": 36,
   "id": "99e88a7a",
   "metadata": {},
   "outputs": [
    {
     "data": {
      "application/vnd.plotly.v1+json": {
       "config": {
        "plotlyServerURL": "https://plot.ly"
       },
       "data": [
        {
         "autocolorscale": false,
         "colorbar": {
          "bgcolor": "rgba(255,255,255,0.6)",
          "dtick": 10000,
          "len": 0.35,
          "thickness": 15,
          "tick0": 0,
          "title": {
           "text": "SHCs"
          },
          "x": 0.001,
          "xanchor": "left",
          "y": 0.05,
          "yanchor": "bottom"
         },
         "colorscale": [
          [
           0,
           "rgb(214, 249, 207)"
          ],
          [
           0.09090909090909091,
           "rgb(186, 228, 174)"
          ],
          [
           0.18181818181818182,
           "rgb(156, 209, 143)"
          ],
          [
           0.2727272727272727,
           "rgb(124, 191, 115)"
          ],
          [
           0.36363636363636365,
           "rgb(85, 174, 91)"
          ],
          [
           0.45454545454545453,
           "rgb(37, 157, 81)"
          ],
          [
           0.5454545454545454,
           "rgb(7, 138, 78)"
          ],
          [
           0.6363636363636364,
           "rgb(13, 117, 71)"
          ],
          [
           0.7272727272727273,
           "rgb(23, 95, 61)"
          ],
          [
           0.8181818181818182,
           "rgb(25, 75, 49)"
          ],
          [
           0.9090909090909091,
           "rgb(23, 55, 35)"
          ],
          [
           1,
           "rgb(17, 36, 20)"
          ]
         ],
         "featureidkey": "properties.ST_NM",
         "geojson": "https://gist.githubusercontent.com/jbrobst/56c13bbbf9d97d187fea01ca62ea5112/raw/e388c4cae20aa53cb5090210a42ebb9b765c0a36/india_states.geojson",
         "locationmode": "geojson-id",
         "locations": [
          "Andhra Pradesh",
          "Arunachal Pradesh",
          "Assam",
          "Bihar",
          "Chhattisgarh",
          "Goa",
          "Gujarat",
          "Haryana",
          "Himachal Pradesh",
          "Jharkhand",
          "Karnataka",
          "Kerala",
          "Madhya Pradesh",
          "Maharashtra",
          "Manipur",
          "Meghalaya",
          "Mizoram",
          "Nagaland",
          "Odisha",
          "Punjab",
          "Rajasthan",
          "Sikkim",
          "Tamil Nadu",
          "Telangana",
          "Tripura",
          "Uttarakhand",
          "Uttar Pradesh",
          "West Bengal",
          "A& N Islands"
         ],
         "marker": {
          "line": {
           "color": "peachpuff"
          }
         },
         "type": "choropleth",
         "z": [
          18289.37533368927,
          4939.393939393939,
          8996.949359365466,
          119229.14349276974,
          10735.557768924304,
          5397.4358974358975,
          10116.796440489432,
          20683.333333333332,
          16729.113924050635,
          50200.354609929076,
          10477.971737323358,
          6449.431478156793,
          22810.542398777692,
          19167.161520190024,
          7345.890410958904,
          7143.250688705234,
          3741.496598639456,
          5847.222222222223,
          14993.13408723748,
          12640.226628895183,
          16758.959537572253,
          7018.518518518518,
          11310.409502969678,
          18006.178287731687,
          8761.904761904761,
          19873.655913978495,
          44502.0366598778,
          26431.455004205214,
          3367.6470588235293
         ]
        }
       ],
       "layout": {
        "geo": {
         "lataxis": {
          "range": [
           6,
           38
          ]
         },
         "lonaxis": {
          "range": [
           68,
           98
          ]
         },
         "projection": {
          "parallels": [
           12.472944444,
           35.172805555556
          ],
          "rotation": {
           "lat": 24,
           "lon": 80
          },
          "type": "conic conformal"
         },
         "visible": false
        },
        "height": 550,
        "margin": {
         "b": 0,
         "l": 0,
         "r": 0,
         "t": 30
        },
        "template": {
         "data": {
          "bar": [
           {
            "error_x": {
             "color": "#2a3f5f"
            },
            "error_y": {
             "color": "#2a3f5f"
            },
            "marker": {
             "line": {
              "color": "#E5ECF6",
              "width": 0.5
             },
             "pattern": {
              "fillmode": "overlay",
              "size": 10,
              "solidity": 0.2
             }
            },
            "type": "bar"
           }
          ],
          "barpolar": [
           {
            "marker": {
             "line": {
              "color": "#E5ECF6",
              "width": 0.5
             },
             "pattern": {
              "fillmode": "overlay",
              "size": 10,
              "solidity": 0.2
             }
            },
            "type": "barpolar"
           }
          ],
          "carpet": [
           {
            "aaxis": {
             "endlinecolor": "#2a3f5f",
             "gridcolor": "white",
             "linecolor": "white",
             "minorgridcolor": "white",
             "startlinecolor": "#2a3f5f"
            },
            "baxis": {
             "endlinecolor": "#2a3f5f",
             "gridcolor": "white",
             "linecolor": "white",
             "minorgridcolor": "white",
             "startlinecolor": "#2a3f5f"
            },
            "type": "carpet"
           }
          ],
          "choropleth": [
           {
            "colorbar": {
             "outlinewidth": 0,
             "ticks": ""
            },
            "type": "choropleth"
           }
          ],
          "contour": [
           {
            "colorbar": {
             "outlinewidth": 0,
             "ticks": ""
            },
            "colorscale": [
             [
              0,
              "#0d0887"
             ],
             [
              0.1111111111111111,
              "#46039f"
             ],
             [
              0.2222222222222222,
              "#7201a8"
             ],
             [
              0.3333333333333333,
              "#9c179e"
             ],
             [
              0.4444444444444444,
              "#bd3786"
             ],
             [
              0.5555555555555556,
              "#d8576b"
             ],
             [
              0.6666666666666666,
              "#ed7953"
             ],
             [
              0.7777777777777778,
              "#fb9f3a"
             ],
             [
              0.8888888888888888,
              "#fdca26"
             ],
             [
              1,
              "#f0f921"
             ]
            ],
            "type": "contour"
           }
          ],
          "contourcarpet": [
           {
            "colorbar": {
             "outlinewidth": 0,
             "ticks": ""
            },
            "type": "contourcarpet"
           }
          ],
          "heatmap": [
           {
            "colorbar": {
             "outlinewidth": 0,
             "ticks": ""
            },
            "colorscale": [
             [
              0,
              "#0d0887"
             ],
             [
              0.1111111111111111,
              "#46039f"
             ],
             [
              0.2222222222222222,
              "#7201a8"
             ],
             [
              0.3333333333333333,
              "#9c179e"
             ],
             [
              0.4444444444444444,
              "#bd3786"
             ],
             [
              0.5555555555555556,
              "#d8576b"
             ],
             [
              0.6666666666666666,
              "#ed7953"
             ],
             [
              0.7777777777777778,
              "#fb9f3a"
             ],
             [
              0.8888888888888888,
              "#fdca26"
             ],
             [
              1,
              "#f0f921"
             ]
            ],
            "type": "heatmap"
           }
          ],
          "heatmapgl": [
           {
            "colorbar": {
             "outlinewidth": 0,
             "ticks": ""
            },
            "colorscale": [
             [
              0,
              "#0d0887"
             ],
             [
              0.1111111111111111,
              "#46039f"
             ],
             [
              0.2222222222222222,
              "#7201a8"
             ],
             [
              0.3333333333333333,
              "#9c179e"
             ],
             [
              0.4444444444444444,
              "#bd3786"
             ],
             [
              0.5555555555555556,
              "#d8576b"
             ],
             [
              0.6666666666666666,
              "#ed7953"
             ],
             [
              0.7777777777777778,
              "#fb9f3a"
             ],
             [
              0.8888888888888888,
              "#fdca26"
             ],
             [
              1,
              "#f0f921"
             ]
            ],
            "type": "heatmapgl"
           }
          ],
          "histogram": [
           {
            "marker": {
             "pattern": {
              "fillmode": "overlay",
              "size": 10,
              "solidity": 0.2
             }
            },
            "type": "histogram"
           }
          ],
          "histogram2d": [
           {
            "colorbar": {
             "outlinewidth": 0,
             "ticks": ""
            },
            "colorscale": [
             [
              0,
              "#0d0887"
             ],
             [
              0.1111111111111111,
              "#46039f"
             ],
             [
              0.2222222222222222,
              "#7201a8"
             ],
             [
              0.3333333333333333,
              "#9c179e"
             ],
             [
              0.4444444444444444,
              "#bd3786"
             ],
             [
              0.5555555555555556,
              "#d8576b"
             ],
             [
              0.6666666666666666,
              "#ed7953"
             ],
             [
              0.7777777777777778,
              "#fb9f3a"
             ],
             [
              0.8888888888888888,
              "#fdca26"
             ],
             [
              1,
              "#f0f921"
             ]
            ],
            "type": "histogram2d"
           }
          ],
          "histogram2dcontour": [
           {
            "colorbar": {
             "outlinewidth": 0,
             "ticks": ""
            },
            "colorscale": [
             [
              0,
              "#0d0887"
             ],
             [
              0.1111111111111111,
              "#46039f"
             ],
             [
              0.2222222222222222,
              "#7201a8"
             ],
             [
              0.3333333333333333,
              "#9c179e"
             ],
             [
              0.4444444444444444,
              "#bd3786"
             ],
             [
              0.5555555555555556,
              "#d8576b"
             ],
             [
              0.6666666666666666,
              "#ed7953"
             ],
             [
              0.7777777777777778,
              "#fb9f3a"
             ],
             [
              0.8888888888888888,
              "#fdca26"
             ],
             [
              1,
              "#f0f921"
             ]
            ],
            "type": "histogram2dcontour"
           }
          ],
          "mesh3d": [
           {
            "colorbar": {
             "outlinewidth": 0,
             "ticks": ""
            },
            "type": "mesh3d"
           }
          ],
          "parcoords": [
           {
            "line": {
             "colorbar": {
              "outlinewidth": 0,
              "ticks": ""
             }
            },
            "type": "parcoords"
           }
          ],
          "pie": [
           {
            "automargin": true,
            "type": "pie"
           }
          ],
          "scatter": [
           {
            "marker": {
             "colorbar": {
              "outlinewidth": 0,
              "ticks": ""
             }
            },
            "type": "scatter"
           }
          ],
          "scatter3d": [
           {
            "line": {
             "colorbar": {
              "outlinewidth": 0,
              "ticks": ""
             }
            },
            "marker": {
             "colorbar": {
              "outlinewidth": 0,
              "ticks": ""
             }
            },
            "type": "scatter3d"
           }
          ],
          "scattercarpet": [
           {
            "marker": {
             "colorbar": {
              "outlinewidth": 0,
              "ticks": ""
             }
            },
            "type": "scattercarpet"
           }
          ],
          "scattergeo": [
           {
            "marker": {
             "colorbar": {
              "outlinewidth": 0,
              "ticks": ""
             }
            },
            "type": "scattergeo"
           }
          ],
          "scattergl": [
           {
            "marker": {
             "colorbar": {
              "outlinewidth": 0,
              "ticks": ""
             }
            },
            "type": "scattergl"
           }
          ],
          "scattermapbox": [
           {
            "marker": {
             "colorbar": {
              "outlinewidth": 0,
              "ticks": ""
             }
            },
            "type": "scattermapbox"
           }
          ],
          "scatterpolar": [
           {
            "marker": {
             "colorbar": {
              "outlinewidth": 0,
              "ticks": ""
             }
            },
            "type": "scatterpolar"
           }
          ],
          "scatterpolargl": [
           {
            "marker": {
             "colorbar": {
              "outlinewidth": 0,
              "ticks": ""
             }
            },
            "type": "scatterpolargl"
           }
          ],
          "scatterternary": [
           {
            "marker": {
             "colorbar": {
              "outlinewidth": 0,
              "ticks": ""
             }
            },
            "type": "scatterternary"
           }
          ],
          "surface": [
           {
            "colorbar": {
             "outlinewidth": 0,
             "ticks": ""
            },
            "colorscale": [
             [
              0,
              "#0d0887"
             ],
             [
              0.1111111111111111,
              "#46039f"
             ],
             [
              0.2222222222222222,
              "#7201a8"
             ],
             [
              0.3333333333333333,
              "#9c179e"
             ],
             [
              0.4444444444444444,
              "#bd3786"
             ],
             [
              0.5555555555555556,
              "#d8576b"
             ],
             [
              0.6666666666666666,
              "#ed7953"
             ],
             [
              0.7777777777777778,
              "#fb9f3a"
             ],
             [
              0.8888888888888888,
              "#fdca26"
             ],
             [
              1,
              "#f0f921"
             ]
            ],
            "type": "surface"
           }
          ],
          "table": [
           {
            "cells": {
             "fill": {
              "color": "#EBF0F8"
             },
             "line": {
              "color": "white"
             }
            },
            "header": {
             "fill": {
              "color": "#C8D4E3"
             },
             "line": {
              "color": "white"
             }
            },
            "type": "table"
           }
          ]
         },
         "layout": {
          "annotationdefaults": {
           "arrowcolor": "#2a3f5f",
           "arrowhead": 0,
           "arrowwidth": 1
          },
          "autotypenumbers": "strict",
          "coloraxis": {
           "colorbar": {
            "outlinewidth": 0,
            "ticks": ""
           }
          },
          "colorscale": {
           "diverging": [
            [
             0,
             "#8e0152"
            ],
            [
             0.1,
             "#c51b7d"
            ],
            [
             0.2,
             "#de77ae"
            ],
            [
             0.3,
             "#f1b6da"
            ],
            [
             0.4,
             "#fde0ef"
            ],
            [
             0.5,
             "#f7f7f7"
            ],
            [
             0.6,
             "#e6f5d0"
            ],
            [
             0.7,
             "#b8e186"
            ],
            [
             0.8,
             "#7fbc41"
            ],
            [
             0.9,
             "#4d9221"
            ],
            [
             1,
             "#276419"
            ]
           ],
           "sequential": [
            [
             0,
             "#0d0887"
            ],
            [
             0.1111111111111111,
             "#46039f"
            ],
            [
             0.2222222222222222,
             "#7201a8"
            ],
            [
             0.3333333333333333,
             "#9c179e"
            ],
            [
             0.4444444444444444,
             "#bd3786"
            ],
            [
             0.5555555555555556,
             "#d8576b"
            ],
            [
             0.6666666666666666,
             "#ed7953"
            ],
            [
             0.7777777777777778,
             "#fb9f3a"
            ],
            [
             0.8888888888888888,
             "#fdca26"
            ],
            [
             1,
             "#f0f921"
            ]
           ],
           "sequentialminus": [
            [
             0,
             "#0d0887"
            ],
            [
             0.1111111111111111,
             "#46039f"
            ],
            [
             0.2222222222222222,
             "#7201a8"
            ],
            [
             0.3333333333333333,
             "#9c179e"
            ],
            [
             0.4444444444444444,
             "#bd3786"
            ],
            [
             0.5555555555555556,
             "#d8576b"
            ],
            [
             0.6666666666666666,
             "#ed7953"
            ],
            [
             0.7777777777777778,
             "#fb9f3a"
            ],
            [
             0.8888888888888888,
             "#fdca26"
            ],
            [
             1,
             "#f0f921"
            ]
           ]
          },
          "colorway": [
           "#636efa",
           "#EF553B",
           "#00cc96",
           "#ab63fa",
           "#FFA15A",
           "#19d3f3",
           "#FF6692",
           "#B6E880",
           "#FF97FF",
           "#FECB52"
          ],
          "font": {
           "color": "#2a3f5f"
          },
          "geo": {
           "bgcolor": "white",
           "lakecolor": "white",
           "landcolor": "#E5ECF6",
           "showlakes": true,
           "showland": true,
           "subunitcolor": "white"
          },
          "hoverlabel": {
           "align": "left"
          },
          "hovermode": "closest",
          "mapbox": {
           "style": "light"
          },
          "paper_bgcolor": "white",
          "plot_bgcolor": "#E5ECF6",
          "polar": {
           "angularaxis": {
            "gridcolor": "white",
            "linecolor": "white",
            "ticks": ""
           },
           "bgcolor": "#E5ECF6",
           "radialaxis": {
            "gridcolor": "white",
            "linecolor": "white",
            "ticks": ""
           }
          },
          "scene": {
           "xaxis": {
            "backgroundcolor": "#E5ECF6",
            "gridcolor": "white",
            "gridwidth": 2,
            "linecolor": "white",
            "showbackground": true,
            "ticks": "",
            "zerolinecolor": "white"
           },
           "yaxis": {
            "backgroundcolor": "#E5ECF6",
            "gridcolor": "white",
            "gridwidth": 2,
            "linecolor": "white",
            "showbackground": true,
            "ticks": "",
            "zerolinecolor": "white"
           },
           "zaxis": {
            "backgroundcolor": "#E5ECF6",
            "gridcolor": "white",
            "gridwidth": 2,
            "linecolor": "white",
            "showbackground": true,
            "ticks": "",
            "zerolinecolor": "white"
           }
          },
          "shapedefaults": {
           "line": {
            "color": "#2a3f5f"
           }
          },
          "ternary": {
           "aaxis": {
            "gridcolor": "white",
            "linecolor": "white",
            "ticks": ""
           },
           "baxis": {
            "gridcolor": "white",
            "linecolor": "white",
            "ticks": ""
           },
           "bgcolor": "#E5ECF6",
           "caxis": {
            "gridcolor": "white",
            "linecolor": "white",
            "ticks": ""
           }
          },
          "title": {
           "x": 0.05
          },
          "xaxis": {
           "automargin": true,
           "gridcolor": "white",
           "linecolor": "white",
           "ticks": "",
           "title": {
            "standoff": 15
           },
           "zerolinecolor": "white",
           "zerolinewidth": 2
          },
          "yaxis": {
           "automargin": true,
           "gridcolor": "white",
           "linecolor": "white",
           "ticks": "",
           "title": {
            "standoff": 15
           },
           "zerolinecolor": "white",
           "zerolinewidth": 2
          }
         }
        },
        "title": {
         "pad": {
          "b": 10
         },
         "text": "Rural Pop to Secondline HealthCare Centers Ratio in Rural India by State/UT in 2019",
         "x": 0.5,
         "xanchor": "center",
         "y": 1,
         "yanchor": "bottom",
         "yref": "paper"
        },
        "width": 550
       }
      },
      "text/html": [
       "<div>                            <div id=\"885fa286-a827-4915-a221-703539ad6f61\" class=\"plotly-graph-div\" style=\"height:550px; width:550px;\"></div>            <script type=\"text/javascript\">                require([\"plotly\"], function(Plotly) {                    window.PLOTLYENV=window.PLOTLYENV || {};                                    if (document.getElementById(\"885fa286-a827-4915-a221-703539ad6f61\")) {                    Plotly.newPlot(                        \"885fa286-a827-4915-a221-703539ad6f61\",                        [{\"autocolorscale\":false,\"colorbar\":{\"bgcolor\":\"rgba(255,255,255,0.6)\",\"dtick\":10000,\"len\":0.35,\"thickness\":15,\"tick0\":0,\"title\":{\"text\":\"SHCs\"},\"x\":0.001,\"xanchor\":\"left\",\"y\":0.05,\"yanchor\":\"bottom\"},\"colorscale\":[[0.0,\"rgb(214, 249, 207)\"],[0.09090909090909091,\"rgb(186, 228, 174)\"],[0.18181818181818182,\"rgb(156, 209, 143)\"],[0.2727272727272727,\"rgb(124, 191, 115)\"],[0.36363636363636365,\"rgb(85, 174, 91)\"],[0.45454545454545453,\"rgb(37, 157, 81)\"],[0.5454545454545454,\"rgb(7, 138, 78)\"],[0.6363636363636364,\"rgb(13, 117, 71)\"],[0.7272727272727273,\"rgb(23, 95, 61)\"],[0.8181818181818182,\"rgb(25, 75, 49)\"],[0.9090909090909091,\"rgb(23, 55, 35)\"],[1.0,\"rgb(17, 36, 20)\"]],\"featureidkey\":\"properties.ST_NM\",\"geojson\":\"https://gist.githubusercontent.com/jbrobst/56c13bbbf9d97d187fea01ca62ea5112/raw/e388c4cae20aa53cb5090210a42ebb9b765c0a36/india_states.geojson\",\"locationmode\":\"geojson-id\",\"locations\":[\"Andhra Pradesh\",\"Arunachal Pradesh\",\"Assam\",\"Bihar\",\"Chhattisgarh\",\"Goa\",\"Gujarat\",\"Haryana\",\"Himachal Pradesh\",\"Jharkhand\",\"Karnataka\",\"Kerala\",\"Madhya Pradesh\",\"Maharashtra\",\"Manipur\",\"Meghalaya\",\"Mizoram\",\"Nagaland\",\"Odisha\",\"Punjab\",\"Rajasthan\",\"Sikkim\",\"Tamil Nadu\",\"Telangana\",\"Tripura\",\"Uttarakhand\",\"Uttar Pradesh\",\"West Bengal\",\"A& N Islands\"],\"marker\":{\"line\":{\"color\":\"peachpuff\"}},\"z\":[18289.37533368927,4939.393939393939,8996.949359365466,119229.14349276974,10735.557768924304,5397.4358974358975,10116.796440489432,20683.333333333332,16729.113924050635,50200.354609929076,10477.971737323358,6449.431478156793,22810.542398777692,19167.161520190024,7345.890410958904,7143.250688705234,3741.496598639456,5847.222222222223,14993.13408723748,12640.226628895183,16758.959537572253,7018.518518518518,11310.409502969678,18006.178287731687,8761.904761904761,19873.655913978495,44502.0366598778,26431.455004205214,3367.6470588235293],\"type\":\"choropleth\"}],                        {\"template\":{\"data\":{\"bar\":[{\"error_x\":{\"color\":\"#2a3f5f\"},\"error_y\":{\"color\":\"#2a3f5f\"},\"marker\":{\"line\":{\"color\":\"#E5ECF6\",\"width\":0.5},\"pattern\":{\"fillmode\":\"overlay\",\"size\":10,\"solidity\":0.2}},\"type\":\"bar\"}],\"barpolar\":[{\"marker\":{\"line\":{\"color\":\"#E5ECF6\",\"width\":0.5},\"pattern\":{\"fillmode\":\"overlay\",\"size\":10,\"solidity\":0.2}},\"type\":\"barpolar\"}],\"carpet\":[{\"aaxis\":{\"endlinecolor\":\"#2a3f5f\",\"gridcolor\":\"white\",\"linecolor\":\"white\",\"minorgridcolor\":\"white\",\"startlinecolor\":\"#2a3f5f\"},\"baxis\":{\"endlinecolor\":\"#2a3f5f\",\"gridcolor\":\"white\",\"linecolor\":\"white\",\"minorgridcolor\":\"white\",\"startlinecolor\":\"#2a3f5f\"},\"type\":\"carpet\"}],\"choropleth\":[{\"colorbar\":{\"outlinewidth\":0,\"ticks\":\"\"},\"type\":\"choropleth\"}],\"contour\":[{\"colorbar\":{\"outlinewidth\":0,\"ticks\":\"\"},\"colorscale\":[[0.0,\"#0d0887\"],[0.1111111111111111,\"#46039f\"],[0.2222222222222222,\"#7201a8\"],[0.3333333333333333,\"#9c179e\"],[0.4444444444444444,\"#bd3786\"],[0.5555555555555556,\"#d8576b\"],[0.6666666666666666,\"#ed7953\"],[0.7777777777777778,\"#fb9f3a\"],[0.8888888888888888,\"#fdca26\"],[1.0,\"#f0f921\"]],\"type\":\"contour\"}],\"contourcarpet\":[{\"colorbar\":{\"outlinewidth\":0,\"ticks\":\"\"},\"type\":\"contourcarpet\"}],\"heatmap\":[{\"colorbar\":{\"outlinewidth\":0,\"ticks\":\"\"},\"colorscale\":[[0.0,\"#0d0887\"],[0.1111111111111111,\"#46039f\"],[0.2222222222222222,\"#7201a8\"],[0.3333333333333333,\"#9c179e\"],[0.4444444444444444,\"#bd3786\"],[0.5555555555555556,\"#d8576b\"],[0.6666666666666666,\"#ed7953\"],[0.7777777777777778,\"#fb9f3a\"],[0.8888888888888888,\"#fdca26\"],[1.0,\"#f0f921\"]],\"type\":\"heatmap\"}],\"heatmapgl\":[{\"colorbar\":{\"outlinewidth\":0,\"ticks\":\"\"},\"colorscale\":[[0.0,\"#0d0887\"],[0.1111111111111111,\"#46039f\"],[0.2222222222222222,\"#7201a8\"],[0.3333333333333333,\"#9c179e\"],[0.4444444444444444,\"#bd3786\"],[0.5555555555555556,\"#d8576b\"],[0.6666666666666666,\"#ed7953\"],[0.7777777777777778,\"#fb9f3a\"],[0.8888888888888888,\"#fdca26\"],[1.0,\"#f0f921\"]],\"type\":\"heatmapgl\"}],\"histogram\":[{\"marker\":{\"pattern\":{\"fillmode\":\"overlay\",\"size\":10,\"solidity\":0.2}},\"type\":\"histogram\"}],\"histogram2d\":[{\"colorbar\":{\"outlinewidth\":0,\"ticks\":\"\"},\"colorscale\":[[0.0,\"#0d0887\"],[0.1111111111111111,\"#46039f\"],[0.2222222222222222,\"#7201a8\"],[0.3333333333333333,\"#9c179e\"],[0.4444444444444444,\"#bd3786\"],[0.5555555555555556,\"#d8576b\"],[0.6666666666666666,\"#ed7953\"],[0.7777777777777778,\"#fb9f3a\"],[0.8888888888888888,\"#fdca26\"],[1.0,\"#f0f921\"]],\"type\":\"histogram2d\"}],\"histogram2dcontour\":[{\"colorbar\":{\"outlinewidth\":0,\"ticks\":\"\"},\"colorscale\":[[0.0,\"#0d0887\"],[0.1111111111111111,\"#46039f\"],[0.2222222222222222,\"#7201a8\"],[0.3333333333333333,\"#9c179e\"],[0.4444444444444444,\"#bd3786\"],[0.5555555555555556,\"#d8576b\"],[0.6666666666666666,\"#ed7953\"],[0.7777777777777778,\"#fb9f3a\"],[0.8888888888888888,\"#fdca26\"],[1.0,\"#f0f921\"]],\"type\":\"histogram2dcontour\"}],\"mesh3d\":[{\"colorbar\":{\"outlinewidth\":0,\"ticks\":\"\"},\"type\":\"mesh3d\"}],\"parcoords\":[{\"line\":{\"colorbar\":{\"outlinewidth\":0,\"ticks\":\"\"}},\"type\":\"parcoords\"}],\"pie\":[{\"automargin\":true,\"type\":\"pie\"}],\"scatter\":[{\"marker\":{\"colorbar\":{\"outlinewidth\":0,\"ticks\":\"\"}},\"type\":\"scatter\"}],\"scatter3d\":[{\"line\":{\"colorbar\":{\"outlinewidth\":0,\"ticks\":\"\"}},\"marker\":{\"colorbar\":{\"outlinewidth\":0,\"ticks\":\"\"}},\"type\":\"scatter3d\"}],\"scattercarpet\":[{\"marker\":{\"colorbar\":{\"outlinewidth\":0,\"ticks\":\"\"}},\"type\":\"scattercarpet\"}],\"scattergeo\":[{\"marker\":{\"colorbar\":{\"outlinewidth\":0,\"ticks\":\"\"}},\"type\":\"scattergeo\"}],\"scattergl\":[{\"marker\":{\"colorbar\":{\"outlinewidth\":0,\"ticks\":\"\"}},\"type\":\"scattergl\"}],\"scattermapbox\":[{\"marker\":{\"colorbar\":{\"outlinewidth\":0,\"ticks\":\"\"}},\"type\":\"scattermapbox\"}],\"scatterpolar\":[{\"marker\":{\"colorbar\":{\"outlinewidth\":0,\"ticks\":\"\"}},\"type\":\"scatterpolar\"}],\"scatterpolargl\":[{\"marker\":{\"colorbar\":{\"outlinewidth\":0,\"ticks\":\"\"}},\"type\":\"scatterpolargl\"}],\"scatterternary\":[{\"marker\":{\"colorbar\":{\"outlinewidth\":0,\"ticks\":\"\"}},\"type\":\"scatterternary\"}],\"surface\":[{\"colorbar\":{\"outlinewidth\":0,\"ticks\":\"\"},\"colorscale\":[[0.0,\"#0d0887\"],[0.1111111111111111,\"#46039f\"],[0.2222222222222222,\"#7201a8\"],[0.3333333333333333,\"#9c179e\"],[0.4444444444444444,\"#bd3786\"],[0.5555555555555556,\"#d8576b\"],[0.6666666666666666,\"#ed7953\"],[0.7777777777777778,\"#fb9f3a\"],[0.8888888888888888,\"#fdca26\"],[1.0,\"#f0f921\"]],\"type\":\"surface\"}],\"table\":[{\"cells\":{\"fill\":{\"color\":\"#EBF0F8\"},\"line\":{\"color\":\"white\"}},\"header\":{\"fill\":{\"color\":\"#C8D4E3\"},\"line\":{\"color\":\"white\"}},\"type\":\"table\"}]},\"layout\":{\"annotationdefaults\":{\"arrowcolor\":\"#2a3f5f\",\"arrowhead\":0,\"arrowwidth\":1},\"autotypenumbers\":\"strict\",\"coloraxis\":{\"colorbar\":{\"outlinewidth\":0,\"ticks\":\"\"}},\"colorscale\":{\"diverging\":[[0,\"#8e0152\"],[0.1,\"#c51b7d\"],[0.2,\"#de77ae\"],[0.3,\"#f1b6da\"],[0.4,\"#fde0ef\"],[0.5,\"#f7f7f7\"],[0.6,\"#e6f5d0\"],[0.7,\"#b8e186\"],[0.8,\"#7fbc41\"],[0.9,\"#4d9221\"],[1,\"#276419\"]],\"sequential\":[[0.0,\"#0d0887\"],[0.1111111111111111,\"#46039f\"],[0.2222222222222222,\"#7201a8\"],[0.3333333333333333,\"#9c179e\"],[0.4444444444444444,\"#bd3786\"],[0.5555555555555556,\"#d8576b\"],[0.6666666666666666,\"#ed7953\"],[0.7777777777777778,\"#fb9f3a\"],[0.8888888888888888,\"#fdca26\"],[1.0,\"#f0f921\"]],\"sequentialminus\":[[0.0,\"#0d0887\"],[0.1111111111111111,\"#46039f\"],[0.2222222222222222,\"#7201a8\"],[0.3333333333333333,\"#9c179e\"],[0.4444444444444444,\"#bd3786\"],[0.5555555555555556,\"#d8576b\"],[0.6666666666666666,\"#ed7953\"],[0.7777777777777778,\"#fb9f3a\"],[0.8888888888888888,\"#fdca26\"],[1.0,\"#f0f921\"]]},\"colorway\":[\"#636efa\",\"#EF553B\",\"#00cc96\",\"#ab63fa\",\"#FFA15A\",\"#19d3f3\",\"#FF6692\",\"#B6E880\",\"#FF97FF\",\"#FECB52\"],\"font\":{\"color\":\"#2a3f5f\"},\"geo\":{\"bgcolor\":\"white\",\"lakecolor\":\"white\",\"landcolor\":\"#E5ECF6\",\"showlakes\":true,\"showland\":true,\"subunitcolor\":\"white\"},\"hoverlabel\":{\"align\":\"left\"},\"hovermode\":\"closest\",\"mapbox\":{\"style\":\"light\"},\"paper_bgcolor\":\"white\",\"plot_bgcolor\":\"#E5ECF6\",\"polar\":{\"angularaxis\":{\"gridcolor\":\"white\",\"linecolor\":\"white\",\"ticks\":\"\"},\"bgcolor\":\"#E5ECF6\",\"radialaxis\":{\"gridcolor\":\"white\",\"linecolor\":\"white\",\"ticks\":\"\"}},\"scene\":{\"xaxis\":{\"backgroundcolor\":\"#E5ECF6\",\"gridcolor\":\"white\",\"gridwidth\":2,\"linecolor\":\"white\",\"showbackground\":true,\"ticks\":\"\",\"zerolinecolor\":\"white\"},\"yaxis\":{\"backgroundcolor\":\"#E5ECF6\",\"gridcolor\":\"white\",\"gridwidth\":2,\"linecolor\":\"white\",\"showbackground\":true,\"ticks\":\"\",\"zerolinecolor\":\"white\"},\"zaxis\":{\"backgroundcolor\":\"#E5ECF6\",\"gridcolor\":\"white\",\"gridwidth\":2,\"linecolor\":\"white\",\"showbackground\":true,\"ticks\":\"\",\"zerolinecolor\":\"white\"}},\"shapedefaults\":{\"line\":{\"color\":\"#2a3f5f\"}},\"ternary\":{\"aaxis\":{\"gridcolor\":\"white\",\"linecolor\":\"white\",\"ticks\":\"\"},\"baxis\":{\"gridcolor\":\"white\",\"linecolor\":\"white\",\"ticks\":\"\"},\"bgcolor\":\"#E5ECF6\",\"caxis\":{\"gridcolor\":\"white\",\"linecolor\":\"white\",\"ticks\":\"\"}},\"title\":{\"x\":0.05},\"xaxis\":{\"automargin\":true,\"gridcolor\":\"white\",\"linecolor\":\"white\",\"ticks\":\"\",\"title\":{\"standoff\":15},\"zerolinecolor\":\"white\",\"zerolinewidth\":2},\"yaxis\":{\"automargin\":true,\"gridcolor\":\"white\",\"linecolor\":\"white\",\"ticks\":\"\",\"title\":{\"standoff\":15},\"zerolinecolor\":\"white\",\"zerolinewidth\":2}}},\"geo\":{\"projection\":{\"rotation\":{\"lat\":24,\"lon\":80},\"type\":\"conic conformal\",\"parallels\":[12.472944444,35.172805555556]},\"lonaxis\":{\"range\":[68,98]},\"lataxis\":{\"range\":[6,38]},\"visible\":false},\"title\":{\"pad\":{\"b\":10},\"text\":\"Rural Pop to Secondline HealthCare Centers Ratio in Rural India by State/UT in 2019\",\"xanchor\":\"center\",\"x\":0.5,\"yref\":\"paper\",\"yanchor\":\"bottom\",\"y\":1},\"margin\":{\"r\":0,\"t\":30,\"l\":0,\"b\":0},\"height\":550,\"width\":550},                        {\"responsive\": true}                    ).then(function(){\n",
       "                            \n",
       "var gd = document.getElementById('885fa286-a827-4915-a221-703539ad6f61');\n",
       "var x = new MutationObserver(function (mutations, observer) {{\n",
       "        var display = window.getComputedStyle(gd).display;\n",
       "        if (!display || display === 'none') {{\n",
       "            console.log([gd, 'removed!']);\n",
       "            Plotly.purge(gd);\n",
       "            observer.disconnect();\n",
       "        }}\n",
       "}});\n",
       "\n",
       "// Listen for the removal of the full notebook cells\n",
       "var notebookContainer = gd.closest('#notebook-container');\n",
       "if (notebookContainer) {{\n",
       "    x.observe(notebookContainer, {childList: true});\n",
       "}}\n",
       "\n",
       "// Listen for the clearing of the current output cell\n",
       "var outputEl = gd.closest('.output');\n",
       "if (outputEl) {{\n",
       "    x.observe(outputEl, {childList: true});\n",
       "}}\n",
       "\n",
       "                        })                };                });            </script>        </div>"
      ]
     },
     "metadata": {},
     "output_type": "display_data"
    }
   ],
   "source": [
    "import plotly.graph_objects as go\n",
    "fig = go.Figure(data=go.Choropleth(\n",
    "    geojson=\"https://gist.githubusercontent.com/jbrobst/56c13bbbf9d97d187fea01ca62ea5112/raw/e388c4cae20aa53cb5090210a42ebb9b765c0a36/india_states.geojson\",\n",
    "    featureidkey='properties.ST_NM',\n",
    "    locationmode='geojson-id',\n",
    "    locations=d2['State/UT'],\n",
    "    z=d2['Rural Pop to Secondline HealthCare Centers Ratio'],\n",
    "\n",
    "    autocolorscale=False,\n",
    "    colorscale='algae',\n",
    "    marker_line_color='peachpuff',\n",
    "\n",
    "    colorbar=dict(\n",
    "         title={'text': \"SHCs\"},\n",
    "\n",
    "        thickness=15,\n",
    "        len=0.35,\n",
    "        bgcolor='rgba(255,255,255,0.6)',\n",
    "\n",
    "        tick0=0,\n",
    "        dtick=10000,\n",
    "\n",
    "        xanchor='left',\n",
    "        x=0.001,\n",
    "        yanchor='bottom',\n",
    "        y=0.05\n",
    "    )\n",
    "))\n",
    "fig.update_geos(\n",
    "    visible=False,\n",
    "    projection=dict(\n",
    "        type='conic conformal',\n",
    "        parallels=[12.472944444, 35.172805555556],\n",
    "        rotation={'lat': 24, 'lon': 80}\n",
    "    ),\n",
    "    lonaxis={'range': [68, 98]},\n",
    "    lataxis={'range': [6, 38]}\n",
    ")\n",
    "\n",
    "fig.update_layout(\n",
    "    title=dict(\n",
    "        text=\"Rural Pop to Secondline HealthCare Centers Ratio in Rural India by State/UT in 2019\",\n",
    "        xanchor='center',\n",
    "        x=0.5,\n",
    "        yref='paper',\n",
    "        yanchor='bottom',\n",
    "        y=1,\n",
    "        pad={'b': 10}\n",
    "    ),\n",
    "    margin={'r': 0, 't': 30, 'l': 0, 'b': 0},\n",
    "    height=550,\n",
    "    width=550\n",
    ")\n",
    "\n",
    "fig.show()"
   ]
  }
 ],
 "metadata": {
  "kernelspec": {
   "display_name": "Python 3 (ipykernel)",
   "language": "python",
   "name": "python3"
  },
  "language_info": {
   "codemirror_mode": {
    "name": "ipython",
    "version": 3
   },
   "file_extension": ".py",
   "mimetype": "text/x-python",
   "name": "python",
   "nbconvert_exporter": "python",
   "pygments_lexer": "ipython3",
   "version": "3.9.7"
  }
 },
 "nbformat": 4,
 "nbformat_minor": 5
}
